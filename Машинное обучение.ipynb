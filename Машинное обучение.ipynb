{
 "cells": [
  {
   "cell_type": "markdown",
   "id": "4a406816",
   "metadata": {},
   "source": [
    "# Машинное обучение"
   ]
  },
  {
   "cell_type": "code",
   "execution_count": 306,
   "id": "39499e80",
   "metadata": {},
   "outputs": [],
   "source": [
    "# подгрузим необходимые библиотеки для проведения вычислений и построения моделей\n",
    "import numpy as np \n",
    "import pandas as pd\n",
    "import matplotlib.pyplot as plt\n",
    "\n",
    "\n",
    "from sklearn.ensemble import GradientBoostingRegressor\n",
    "from sklearn.model_selection import train_test_split\n",
    "from sklearn.preprocessing import StandardScaler\n",
    "from sklearn.preprocessing import OneHotEncoder\n",
    "from sklearn.compose import ColumnTransformer\n",
    "from sklearn.pipeline import Pipeline\n",
    "from sklearn.linear_model import Lasso\n",
    "from sklearn.linear_model import LinearRegression\n",
    "from sklearn.metrics import mean_squared_error\n",
    "from sklearn.metrics import mean_absolute_error\n",
    "from sklearn.linear_model import Ridge\n",
    "from sklearn.linear_model import SGDRegressor\n",
    "from sklearn.linear_model import HuberRegressor\n",
    "\n",
    "from sklearn.ensemble import RandomForestRegressor\n",
    "from sklearn.model_selection import GridSearchCV\n",
    "\n",
    "from sklearn.linear_model import Lasso, Ridge\n",
    "\n",
    "import warnings\n",
    "warnings.filterwarnings(\"ignore\")"
   ]
  },
  {
   "cell_type": "markdown",
   "id": "dac0df6d",
   "metadata": {},
   "source": [
    "В заключительной части проекта нами будет выполнено построение различных моделей машинного обучения с целью корректного прогнозирования стоимости подержанного автомобиля по его характеристикам. За основную модель была выбрана линейная регрессия, которая была усовершенствована с помощью применения маштабирования признаков и последующего использования регуляризаций и подбора их гиперпараметров. В качестве оценки корректности работы модели мы использовали среднеквадратичную ошибку и поставили перед собой задачу ее минимизации. "
   ]
  },
  {
   "cell_type": "code",
   "execution_count": 307,
   "id": "78d29f30",
   "metadata": {},
   "outputs": [
    {
     "name": "stdout",
     "output_type": "stream",
     "text": [
      "(2542, 23)\n"
     ]
    },
    {
     "data": {
      "text/html": [
       "<div>\n",
       "<style scoped>\n",
       "    .dataframe tbody tr th:only-of-type {\n",
       "        vertical-align: middle;\n",
       "    }\n",
       "\n",
       "    .dataframe tbody tr th {\n",
       "        vertical-align: top;\n",
       "    }\n",
       "\n",
       "    .dataframe thead th {\n",
       "        text-align: right;\n",
       "    }\n",
       "</style>\n",
       "<table border=\"1\" class=\"dataframe\">\n",
       "  <thead>\n",
       "    <tr style=\"text-align: right;\">\n",
       "      <th></th>\n",
       "      <th>Brand</th>\n",
       "      <th>Year</th>\n",
       "      <th>Exterior color</th>\n",
       "      <th>Interior color</th>\n",
       "      <th>Drivetrain</th>\n",
       "      <th>Fuel type</th>\n",
       "      <th>Capacity</th>\n",
       "      <th>Configuration</th>\n",
       "      <th>Valves</th>\n",
       "      <th>Accidents or damage</th>\n",
       "      <th>...</th>\n",
       "      <th>MPG_max</th>\n",
       "      <th>MPG_mean</th>\n",
       "      <th>Mileage</th>\n",
       "      <th>Usage Intensity</th>\n",
       "      <th>Ownership History</th>\n",
       "      <th>Engine Power</th>\n",
       "      <th>Fuel Efficiency</th>\n",
       "      <th>Origin</th>\n",
       "      <th>Gallons Per Year</th>\n",
       "      <th>Price</th>\n",
       "    </tr>\n",
       "  </thead>\n",
       "  <tbody>\n",
       "    <tr>\n",
       "      <th>0</th>\n",
       "      <td>Hyundai</td>\n",
       "      <td>2022</td>\n",
       "      <td>Red</td>\n",
       "      <td>Black</td>\n",
       "      <td>Front-wheel Drive</td>\n",
       "      <td>Gasoline</td>\n",
       "      <td>2.5</td>\n",
       "      <td>I4</td>\n",
       "      <td>16.0</td>\n",
       "      <td>At least 1 accident or damage reported</td>\n",
       "      <td>...</td>\n",
       "      <td>28.000000</td>\n",
       "      <td>25.000000</td>\n",
       "      <td>13256.0</td>\n",
       "      <td>6628.000</td>\n",
       "      <td>Potential Risk</td>\n",
       "      <td>40.0</td>\n",
       "      <td>10.000000</td>\n",
       "      <td>Asian</td>\n",
       "      <td>265.120000</td>\n",
       "      <td>38988.0</td>\n",
       "    </tr>\n",
       "    <tr>\n",
       "      <th>1</th>\n",
       "      <td>Lexus</td>\n",
       "      <td>2016</td>\n",
       "      <td>Black</td>\n",
       "      <td>Black</td>\n",
       "      <td>All-wheel Drive</td>\n",
       "      <td>Gasoline</td>\n",
       "      <td>3.5</td>\n",
       "      <td>V6</td>\n",
       "      <td>24.0</td>\n",
       "      <td>At least 1 accident or damage reported</td>\n",
       "      <td>...</td>\n",
       "      <td>26.000000</td>\n",
       "      <td>22.500000</td>\n",
       "      <td>100067.0</td>\n",
       "      <td>12508.375</td>\n",
       "      <td>Bad</td>\n",
       "      <td>84.0</td>\n",
       "      <td>6.428571</td>\n",
       "      <td>Asian</td>\n",
       "      <td>555.927778</td>\n",
       "      <td>19747.0</td>\n",
       "    </tr>\n",
       "    <tr>\n",
       "      <th>2</th>\n",
       "      <td>Chevrolet</td>\n",
       "      <td>2017</td>\n",
       "      <td>White</td>\n",
       "      <td>Black</td>\n",
       "      <td>Front-wheel Drive</td>\n",
       "      <td>Hybrid</td>\n",
       "      <td>1.5</td>\n",
       "      <td>I4</td>\n",
       "      <td>16.0</td>\n",
       "      <td>At least 1 accident or damage reported</td>\n",
       "      <td>...</td>\n",
       "      <td>27.239548</td>\n",
       "      <td>23.916163</td>\n",
       "      <td>39032.0</td>\n",
       "      <td>5576.000</td>\n",
       "      <td>Potential Risk</td>\n",
       "      <td>24.0</td>\n",
       "      <td>15.944109</td>\n",
       "      <td>American</td>\n",
       "      <td>233.147769</td>\n",
       "      <td>25999.0</td>\n",
       "    </tr>\n",
       "    <tr>\n",
       "      <th>3</th>\n",
       "      <td>Mercedes-Benz</td>\n",
       "      <td>2022</td>\n",
       "      <td>White</td>\n",
       "      <td>Other</td>\n",
       "      <td>All-wheel Drive</td>\n",
       "      <td>Gasoline</td>\n",
       "      <td>3.0</td>\n",
       "      <td>I6</td>\n",
       "      <td>24.0</td>\n",
       "      <td>None reported</td>\n",
       "      <td>...</td>\n",
       "      <td>27.239548</td>\n",
       "      <td>23.916163</td>\n",
       "      <td>10901.0</td>\n",
       "      <td>5450.500</td>\n",
       "      <td>Good</td>\n",
       "      <td>72.0</td>\n",
       "      <td>7.972054</td>\n",
       "      <td>European</td>\n",
       "      <td>227.900272</td>\n",
       "      <td>96750.0</td>\n",
       "    </tr>\n",
       "    <tr>\n",
       "      <th>4</th>\n",
       "      <td>Land Rover</td>\n",
       "      <td>2020</td>\n",
       "      <td>Blue</td>\n",
       "      <td>Other</td>\n",
       "      <td>Four-wheel Drive</td>\n",
       "      <td>Gasoline</td>\n",
       "      <td>3.0</td>\n",
       "      <td>I6</td>\n",
       "      <td>24.0</td>\n",
       "      <td>None reported</td>\n",
       "      <td>...</td>\n",
       "      <td>22.000000</td>\n",
       "      <td>19.500000</td>\n",
       "      <td>24946.0</td>\n",
       "      <td>6236.500</td>\n",
       "      <td>Good</td>\n",
       "      <td>72.0</td>\n",
       "      <td>6.500000</td>\n",
       "      <td>British</td>\n",
       "      <td>319.820513</td>\n",
       "      <td>61530.0</td>\n",
       "    </tr>\n",
       "  </tbody>\n",
       "</table>\n",
       "<p>5 rows × 23 columns</p>\n",
       "</div>"
      ],
      "text/plain": [
       "           Brand  Year Exterior color Interior color         Drivetrain  \\\n",
       "0        Hyundai  2022            Red          Black  Front-wheel Drive   \n",
       "1          Lexus  2016          Black          Black    All-wheel Drive   \n",
       "2      Chevrolet  2017          White          Black  Front-wheel Drive   \n",
       "3  Mercedes-Benz  2022          White          Other    All-wheel Drive   \n",
       "4     Land Rover  2020           Blue          Other   Four-wheel Drive   \n",
       "\n",
       "  Fuel type  Capacity Configuration  Valves  \\\n",
       "0  Gasoline       2.5            I4    16.0   \n",
       "1  Gasoline       3.5            V6    24.0   \n",
       "2    Hybrid       1.5            I4    16.0   \n",
       "3  Gasoline       3.0            I6    24.0   \n",
       "4  Gasoline       3.0            I6    24.0   \n",
       "\n",
       "                      Accidents or damage  ...    MPG_max   MPG_mean  \\\n",
       "0  At least 1 accident or damage reported  ...  28.000000  25.000000   \n",
       "1  At least 1 accident or damage reported  ...  26.000000  22.500000   \n",
       "2  At least 1 accident or damage reported  ...  27.239548  23.916163   \n",
       "3                           None reported  ...  27.239548  23.916163   \n",
       "4                           None reported  ...  22.000000  19.500000   \n",
       "\n",
       "    Mileage  Usage Intensity  Ownership History  Engine Power  \\\n",
       "0   13256.0         6628.000     Potential Risk          40.0   \n",
       "1  100067.0        12508.375                Bad          84.0   \n",
       "2   39032.0         5576.000     Potential Risk          24.0   \n",
       "3   10901.0         5450.500               Good          72.0   \n",
       "4   24946.0         6236.500               Good          72.0   \n",
       "\n",
       "   Fuel Efficiency    Origin  Gallons Per Year    Price  \n",
       "0        10.000000     Asian        265.120000  38988.0  \n",
       "1         6.428571     Asian        555.927778  19747.0  \n",
       "2        15.944109  American        233.147769  25999.0  \n",
       "3         7.972054  European        227.900272  96750.0  \n",
       "4         6.500000   British        319.820513  61530.0  \n",
       "\n",
       "[5 rows x 23 columns]"
      ]
     },
     "execution_count": 307,
     "metadata": {},
     "output_type": "execute_result"
    }
   ],
   "source": [
    "cars_df = pd.read_csv('cars_df_final.csv')\n",
    "print(cars_df.shape)\n",
    "cars_df.head()"
   ]
  },
  {
   "cell_type": "code",
   "execution_count": 308,
   "id": "fe85a393",
   "metadata": {},
   "outputs": [],
   "source": [
    "# Разобъем данные на обучающую и тестовую выборку в пропорции 7:3\n",
    "y = cars_df[\"Price\"]\n",
    "X = cars_df.drop(columns=[\"Price\"])\n",
    "\n",
    "X_train, X_test, y_train, y_test = train_test_split(X, y, test_size=0.3, random_state=77)"
   ]
  },
  {
   "cell_type": "markdown",
   "id": "ada36f57",
   "metadata": {},
   "source": [
    "## 1. Гипотезы\n",
    "\n",
    "Помимо обучения моделей в данной части нашего проекта мы так же рассмотрим несколько гипотез, которые построены непосредственно на м.о. и проведем их тестирование на основе полученных результатов.\n",
    "\n",
    "* *Пробег автомобиля отрицательно влияет на цену*: качество автомобиля с ростом пробега снижается\n",
    "\n",
    "\n",
    "* *Год выпуска положительно влияет на цену*: при прочих равных чем новее автомобиль, тем он дороже\n",
    "\n",
    "\n",
    "* *Происхождение автомобиля \"British\" положительно влияет на цену*: среди британских автомобилей в основном представлены только премиальные бренды, поэтому, на наш взгляд, вес этого признака будет большим\n",
    "\n",
    "\n",
    "* *Признак \"Ownership History\" будет значительно влиять на цену: плохая история автомобиля будет отрицательно влиять на цену, а хорошая - положительно"
   ]
  },
  {
   "cell_type": "markdown",
   "id": "a5d79e24",
   "metadata": {},
   "source": [
    "## 2. Маштабирование и кодирование признаков"
   ]
  },
  {
   "cell_type": "markdown",
   "id": "756775d3",
   "metadata": {},
   "source": [
    "При построении моделей машинного обучения крайне важным оказывается приведение признаков к единому маштабу с целью исключения моментов переобучения и неверной интерпретации весов отдельных признаков. Более того, необходимым оказывается кодирование категориальных признаков с помощью One-hot-Encoding, без применения которого обучение линейной регресии не предоставляется возможным."
   ]
  },
  {
   "cell_type": "code",
   "execution_count": 309,
   "id": "0df6483c",
   "metadata": {},
   "outputs": [],
   "source": [
    "# Разделим признаки по значениям\n",
    "numeric_features = ['Year', 'Capacity','Valves', 'MPG_min', 'MPG_max', 'MPG_mean', 'Mileage',\n",
    "                    'Usage Intensity', 'Engine Power', 'Fuel Efficiency', 'Gallons Per Year']\n",
    "\n",
    "\n",
    "categorical_features = ['Brand', 'Exterior color', 'Interior color', 'Drivetrain', 'Fuel type', 'Configuration', \n",
    "                        'Accidents or damage', '1-owner vehicle', 'Personal use only', 'Ownership History', 'Origin']"
   ]
  },
  {
   "cell_type": "code",
   "execution_count": 312,
   "id": "5d4b50c3",
   "metadata": {},
   "outputs": [],
   "source": [
    "column_transformer = ColumnTransformer([\n",
    "    ('scaling', StandardScaler(), numeric_features),    \n",
    "    ('ohe', OneHotEncoder(handle_unknown=\"ignore\", drop=\"first\"), categorical_features)\n",
    "])"
   ]
  },
  {
   "cell_type": "code",
   "execution_count": 316,
   "id": "70b2c593",
   "metadata": {},
   "outputs": [],
   "source": [
    "X_train_scaled = pd.DataFrame(column_transformer.fit_transform(X_train).toarray())\n",
    "X_test_scaled = pd.DataFrame(column_transformer.transform(X_test).toarray())"
   ]
  },
  {
   "cell_type": "code",
   "execution_count": 319,
   "id": "37b090c3",
   "metadata": {
    "scrolled": false
   },
   "outputs": [
    {
     "data": {
      "text/plain": [
       "array(['scaling__Year', 'scaling__Capacity', 'scaling__Valves',\n",
       "       'scaling__MPG_min', 'scaling__MPG_max', 'scaling__MPG_mean',\n",
       "       'scaling__Mileage', 'scaling__Usage Intensity',\n",
       "       'scaling__Engine Power', 'scaling__Fuel Efficiency',\n",
       "       'scaling__Gallons Per Year', 'ohe__Brand_Alfa Romeo',\n",
       "       'ohe__Brand_Aston Martin', 'ohe__Brand_Audi', 'ohe__Brand_BMW',\n",
       "       'ohe__Brand_Bentley', 'ohe__Brand_Buick', 'ohe__Brand_Cadillac',\n",
       "       'ohe__Brand_Chevrolet', 'ohe__Brand_Chrysler', 'ohe__Brand_Dodge',\n",
       "       'ohe__Brand_FIAT', 'ohe__Brand_Ferrari', 'ohe__Brand_Ford',\n",
       "       'ohe__Brand_GMC', 'ohe__Brand_Genesis', 'ohe__Brand_Honda',\n",
       "       'ohe__Brand_Hummer', 'ohe__Brand_Hyundai', 'ohe__Brand_INFINITI',\n",
       "       'ohe__Brand_Jaguar', 'ohe__Brand_Jeep', 'ohe__Brand_Kia',\n",
       "       'ohe__Brand_Lamborghini', 'ohe__Brand_Land Rover',\n",
       "       'ohe__Brand_Lexus', 'ohe__Brand_Lincoln', 'ohe__Brand_Lotus',\n",
       "       'ohe__Brand_MINI', 'ohe__Brand_Maserati', 'ohe__Brand_Mazda',\n",
       "       'ohe__Brand_McLaren', 'ohe__Brand_Mercedes-Benz',\n",
       "       'ohe__Brand_Mitsubishi', 'ohe__Brand_Nissan',\n",
       "       'ohe__Brand_Plymouth', 'ohe__Brand_Pontiac', 'ohe__Brand_Porsche',\n",
       "       'ohe__Brand_RAM', 'ohe__Brand_Rolls-Royce', 'ohe__Brand_Saab',\n",
       "       'ohe__Brand_Scion', 'ohe__Brand_Suzuki', 'ohe__Brand_Toyota',\n",
       "       'ohe__Brand_Volkswagen', 'ohe__Brand_Volvo',\n",
       "       'ohe__Exterior color_Blue', 'ohe__Exterior color_Brown',\n",
       "       'ohe__Exterior color_Gold', 'ohe__Exterior color_Green',\n",
       "       'ohe__Exterior color_Metallic', 'ohe__Exterior color_Orange',\n",
       "       'ohe__Exterior color_Other', 'ohe__Exterior color_Red',\n",
       "       'ohe__Exterior color_Silver/Gray', 'ohe__Exterior color_White',\n",
       "       'ohe__Exterior color_Yellow', 'ohe__Interior color_Blue',\n",
       "       'ohe__Interior color_Brown', 'ohe__Interior color_Orange',\n",
       "       'ohe__Interior color_Other', 'ohe__Interior color_Red',\n",
       "       'ohe__Interior color_Silver/Gray', 'ohe__Interior color_White',\n",
       "       'ohe__Interior color_Yellow', 'ohe__Drivetrain_Four-wheel Drive',\n",
       "       'ohe__Drivetrain_Front-wheel Drive',\n",
       "       'ohe__Drivetrain_Rear-wheel Drive', 'ohe__Fuel type_E85 Flex Fuel',\n",
       "       'ohe__Fuel type_Gasoline', 'ohe__Fuel type_Hybrid',\n",
       "       'ohe__Configuration_I4', 'ohe__Configuration_I5',\n",
       "       'ohe__Configuration_I6', 'ohe__Configuration_V10',\n",
       "       'ohe__Configuration_V12', 'ohe__Configuration_V6',\n",
       "       'ohe__Configuration_V8', 'ohe__Accidents or damage_None reported',\n",
       "       'ohe__1-owner vehicle_Yes', 'ohe__Personal use only_Yes',\n",
       "       'ohe__Ownership History_Good',\n",
       "       'ohe__Ownership History_Potential Risk', 'ohe__Origin_Asian',\n",
       "       'ohe__Origin_British', 'ohe__Origin_European'], dtype=object)"
      ]
     },
     "execution_count": 319,
     "metadata": {},
     "output_type": "execute_result"
    }
   ],
   "source": [
    "# Получим названия признаков в новом DataFrame\n",
    "feature_names = column_transformer.get_feature_names_out()\n",
    "feature_names"
   ]
  },
  {
   "cell_type": "markdown",
   "id": "8aa7263b",
   "metadata": {},
   "source": [
    "## 3. Обучение Линейной Регрессии"
   ]
  },
  {
   "cell_type": "markdown",
   "id": "fc3e96fb",
   "metadata": {},
   "source": [
    "Для начала обучим модель линейной регрессии, которая идеально подходит под выбранные нами данные. В таком случае мы будет подбирать оптимальные веса признаков с целью дальнейшей минимизации ошибки на тесте."
   ]
  },
  {
   "cell_type": "markdown",
   "id": "94d6071d",
   "metadata": {},
   "source": [
    "### 3.1. Базовая модель"
   ]
  },
  {
   "cell_type": "code",
   "execution_count": 465,
   "id": "9d665f10",
   "metadata": {
    "scrolled": true
   },
   "outputs": [],
   "source": [
    "lr_base = LinearRegression()  # обучаем модель линейной регрессии \n",
    "lr_base.fit(X_train_scaled, y_train)\n",
    "\n",
    "y_train_pred = lr_base.predict(X_train_scaled)\n",
    "y_pred = lr_base.predict(X_test_scaled)"
   ]
  },
  {
   "cell_type": "markdown",
   "id": "38556d0c",
   "metadata": {},
   "source": [
    "После обучения посмотрим на получившиеся значения ошибок:"
   ]
  },
  {
   "cell_type": "code",
   "execution_count": 466,
   "id": "ad4d5d77",
   "metadata": {
    "scrolled": false
   },
   "outputs": [
    {
     "name": "stdout",
     "output_type": "stream",
     "text": [
      "Train MSE = 386320960.93131673\n",
      "Test MSE = 16099721281.448334\n",
      "\n",
      "Train MAE = 9636.108206857785\n",
      "Test MAE = 15001.226572739188\n"
     ]
    }
   ],
   "source": [
    "print(f\"Train MSE = {mean_squared_error(y_train, y_train_pred)}\")\n",
    "print(f\"Test MSE = {mean_squared_error(y_test, y_pred)}\")\n",
    "print()\n",
    "print(f\"Train MAE = {mean_absolute_error(y_train, y_train_pred)}\")\n",
    "print(f\"Test MAE = {mean_absolute_error(y_test, y_pred)}\")"
   ]
  },
  {
   "cell_type": "code",
   "execution_count": 467,
   "id": "03dc4449",
   "metadata": {},
   "outputs": [
    {
     "data": {
      "text/html": [
       "<div>\n",
       "<style scoped>\n",
       "    .dataframe tbody tr th:only-of-type {\n",
       "        vertical-align: middle;\n",
       "    }\n",
       "\n",
       "    .dataframe tbody tr th {\n",
       "        vertical-align: top;\n",
       "    }\n",
       "\n",
       "    .dataframe thead th {\n",
       "        text-align: right;\n",
       "    }\n",
       "</style>\n",
       "<table border=\"1\" class=\"dataframe\">\n",
       "  <thead>\n",
       "    <tr style=\"text-align: right;\">\n",
       "      <th></th>\n",
       "      <th>Coef</th>\n",
       "    </tr>\n",
       "  </thead>\n",
       "  <tbody>\n",
       "    <tr>\n",
       "      <th>scaling__Year</th>\n",
       "      <td>1.099119e+04</td>\n",
       "    </tr>\n",
       "    <tr>\n",
       "      <th>scaling__Capacity</th>\n",
       "      <td>2.020812e+04</td>\n",
       "    </tr>\n",
       "    <tr>\n",
       "      <th>scaling__Valves</th>\n",
       "      <td>1.415034e+04</td>\n",
       "    </tr>\n",
       "    <tr>\n",
       "      <th>scaling__MPG_min</th>\n",
       "      <td>1.047086e+16</td>\n",
       "    </tr>\n",
       "    <tr>\n",
       "      <th>scaling__MPG_max</th>\n",
       "      <td>1.000383e+16</td>\n",
       "    </tr>\n",
       "    <tr>\n",
       "      <th>...</th>\n",
       "      <td>...</td>\n",
       "    </tr>\n",
       "    <tr>\n",
       "      <th>ohe__Ownership History_Good</th>\n",
       "      <td>-4.919259e+15</td>\n",
       "    </tr>\n",
       "    <tr>\n",
       "      <th>ohe__Ownership History_Potential Risk</th>\n",
       "      <td>-2.459630e+15</td>\n",
       "    </tr>\n",
       "    <tr>\n",
       "      <th>ohe__Origin_Asian</th>\n",
       "      <td>7.637151e+14</td>\n",
       "    </tr>\n",
       "    <tr>\n",
       "      <th>ohe__Origin_British</th>\n",
       "      <td>9.786240e+14</td>\n",
       "    </tr>\n",
       "    <tr>\n",
       "      <th>ohe__Origin_European</th>\n",
       "      <td>5.897120e+14</td>\n",
       "    </tr>\n",
       "  </tbody>\n",
       "</table>\n",
       "<p>96 rows × 1 columns</p>\n",
       "</div>"
      ],
      "text/plain": [
       "                                               Coef\n",
       "scaling__Year                          1.099119e+04\n",
       "scaling__Capacity                      2.020812e+04\n",
       "scaling__Valves                        1.415034e+04\n",
       "scaling__MPG_min                       1.047086e+16\n",
       "scaling__MPG_max                       1.000383e+16\n",
       "...                                             ...\n",
       "ohe__Ownership History_Good           -4.919259e+15\n",
       "ohe__Ownership History_Potential Risk -2.459630e+15\n",
       "ohe__Origin_Asian                      7.637151e+14\n",
       "ohe__Origin_British                    9.786240e+14\n",
       "ohe__Origin_European                   5.897120e+14\n",
       "\n",
       "[96 rows x 1 columns]"
      ]
     },
     "execution_count": 467,
     "metadata": {},
     "output_type": "execute_result"
    }
   ],
   "source": [
    "# Создадим таблицу с весами\n",
    "lr_base_feature_coefs = pd.DataFrame(\n",
    "    data=lr_base.coef_, index=feature_names, columns=['Coef']\n",
    ")\n",
    "\n",
    "lr_base_feature_coefs"
   ]
  },
  {
   "cell_type": "markdown",
   "id": "03799a3b",
   "metadata": {},
   "source": [
    "__Вывод:__ Итак, посмотрев на получившиеся оптимальные веса модели, нетрудно заметить симптом переобучения, подгонки нашей модели под данные, - большие веса у признаков. Более того, обобщающая способность модели получается низкой, ведь она оказывается не способна выдавать хорошие резльтаты как на тренировочной выборке, так и на тестовой."
   ]
  },
  {
   "cell_type": "markdown",
   "id": "3524744b",
   "metadata": {},
   "source": [
    "### 3.2. HuberRegressor - попытка снизить влияние выбросов"
   ]
  },
  {
   "cell_type": "markdown",
   "id": "5d20433f",
   "metadata": {},
   "source": [
    "Одной из причин переобучения нашей модели может быть большое количество выбросо, под которые она стремиться подстроиться, минимизируя среднюю ошибку, тем самым увеличивая ее на нормальных объектах. Для борьбы с выбросами можно использовать функцию потерь Huber, которая вблизи нуля ведет себя, как MSE, а при отдалении от нулевого значения ошибки представляет из себя MAE. Подобная функция оказывается робастной, то есть устойчивой к возникновению выбросов в модели."
   ]
  },
  {
   "cell_type": "code",
   "execution_count": 359,
   "id": "37cb7078",
   "metadata": {
    "scrolled": true
   },
   "outputs": [],
   "source": [
    "eps = np.linspace(1, 10, 5)\n",
    "alphas = np.linspace(1e-5, 5, 30)"
   ]
  },
  {
   "cell_type": "code",
   "execution_count": 367,
   "id": "c22eaa0d",
   "metadata": {},
   "outputs": [],
   "source": [
    "# подберем оптимальные гиперпараметры\n",
    "lr_robust_GS = GridSearchCV(  \n",
    "    estimator=HuberRegressor(),\n",
    "    param_grid={'epsilon': eps, \n",
    "                'alpha': alphas}\n",
    ")\n",
    "\n",
    "lr_robust_GS.fit(X_train_scaled, y_train);"
   ]
  },
  {
   "cell_type": "code",
   "execution_count": 371,
   "id": "527571af",
   "metadata": {},
   "outputs": [
    {
     "data": {
      "text/plain": [
       "(1e-05, 3.25)"
      ]
     },
     "execution_count": 371,
     "metadata": {},
     "output_type": "execute_result"
    }
   ],
   "source": [
    "best_alpha, best_epsilon = lr_robust_GS.best_params_.values()\n",
    "best_alpha, best_epsilon"
   ]
  },
  {
   "cell_type": "code",
   "execution_count": 372,
   "id": "cb6ef97a",
   "metadata": {},
   "outputs": [
    {
     "data": {
      "text/plain": [
       "HuberRegressor(alpha=1e-05, epsilon=3.25)"
      ]
     },
     "execution_count": 372,
     "metadata": {},
     "output_type": "execute_result"
    }
   ],
   "source": [
    "# обучим лучшую из моделей \n",
    "lr_robust = HuberRegressor(alpha=best_alpha, epsilon=best_epsilon)\n",
    "lr_robust.fit(X_train_scaled, y_train)"
   ]
  },
  {
   "cell_type": "code",
   "execution_count": 373,
   "id": "0cd254c7",
   "metadata": {},
   "outputs": [],
   "source": [
    "y_train_pred = lr_robust.predict(X_train_scaled)\n",
    "y_pred = lr_robust.predict(X_test_scaled)"
   ]
  },
  {
   "cell_type": "markdown",
   "id": "efc1f6ad",
   "metadata": {},
   "source": [
    "Теперь давайте посмотрим на значения ошибок на тесте и на трейне:"
   ]
  },
  {
   "cell_type": "code",
   "execution_count": 374,
   "id": "b26d6da0",
   "metadata": {
    "scrolled": false
   },
   "outputs": [
    {
     "name": "stdout",
     "output_type": "stream",
     "text": [
      "Train MSE = 479082988.72271305\n",
      "Test MSE = 17428551484.513905\n",
      "\n",
      "Train MAE = 9028.792039611633\n",
      "Test MAE = 14499.46284012911\n"
     ]
    }
   ],
   "source": [
    "print(f\"Train MSE = {mean_squared_error(y_train, y_train_pred)}\")\n",
    "print(f\"Test MSE = {mean_squared_error(y_test, y_pred)}\")\n",
    "print()\n",
    "print(f\"Train MAE = {mean_absolute_error(y_train, y_train_pred)}\")\n",
    "print(f\"Test MAE = {mean_absolute_error(y_test, y_pred)}\")"
   ]
  },
  {
   "cell_type": "code",
   "execution_count": 375,
   "id": "defb6a7a",
   "metadata": {},
   "outputs": [
    {
     "data": {
      "text/html": [
       "<div>\n",
       "<style scoped>\n",
       "    .dataframe tbody tr th:only-of-type {\n",
       "        vertical-align: middle;\n",
       "    }\n",
       "\n",
       "    .dataframe tbody tr th {\n",
       "        vertical-align: top;\n",
       "    }\n",
       "\n",
       "    .dataframe thead th {\n",
       "        text-align: right;\n",
       "    }\n",
       "</style>\n",
       "<table border=\"1\" class=\"dataframe\">\n",
       "  <thead>\n",
       "    <tr style=\"text-align: right;\">\n",
       "      <th></th>\n",
       "      <th>Coef</th>\n",
       "    </tr>\n",
       "  </thead>\n",
       "  <tbody>\n",
       "    <tr>\n",
       "      <th>scaling__Year</th>\n",
       "      <td>10191.343828</td>\n",
       "    </tr>\n",
       "    <tr>\n",
       "      <th>scaling__Capacity</th>\n",
       "      <td>22731.277231</td>\n",
       "    </tr>\n",
       "    <tr>\n",
       "      <th>scaling__Valves</th>\n",
       "      <td>18925.835079</td>\n",
       "    </tr>\n",
       "    <tr>\n",
       "      <th>scaling__MPG_min</th>\n",
       "      <td>936.648510</td>\n",
       "    </tr>\n",
       "    <tr>\n",
       "      <th>scaling__MPG_max</th>\n",
       "      <td>-3053.940734</td>\n",
       "    </tr>\n",
       "    <tr>\n",
       "      <th>...</th>\n",
       "      <td>...</td>\n",
       "    </tr>\n",
       "    <tr>\n",
       "      <th>ohe__Ownership History_Good</th>\n",
       "      <td>531.508539</td>\n",
       "    </tr>\n",
       "    <tr>\n",
       "      <th>ohe__Ownership History_Potential Risk</th>\n",
       "      <td>397.380238</td>\n",
       "    </tr>\n",
       "    <tr>\n",
       "      <th>ohe__Origin_Asian</th>\n",
       "      <td>-2327.823545</td>\n",
       "    </tr>\n",
       "    <tr>\n",
       "      <th>ohe__Origin_British</th>\n",
       "      <td>54624.683454</td>\n",
       "    </tr>\n",
       "    <tr>\n",
       "      <th>ohe__Origin_European</th>\n",
       "      <td>16701.482617</td>\n",
       "    </tr>\n",
       "  </tbody>\n",
       "</table>\n",
       "<p>96 rows × 1 columns</p>\n",
       "</div>"
      ],
      "text/plain": [
       "                                               Coef\n",
       "scaling__Year                          10191.343828\n",
       "scaling__Capacity                      22731.277231\n",
       "scaling__Valves                        18925.835079\n",
       "scaling__MPG_min                         936.648510\n",
       "scaling__MPG_max                       -3053.940734\n",
       "...                                             ...\n",
       "ohe__Ownership History_Good              531.508539\n",
       "ohe__Ownership History_Potential Risk    397.380238\n",
       "ohe__Origin_Asian                      -2327.823545\n",
       "ohe__Origin_British                    54624.683454\n",
       "ohe__Origin_European                   16701.482617\n",
       "\n",
       "[96 rows x 1 columns]"
      ]
     },
     "execution_count": 375,
     "metadata": {},
     "output_type": "execute_result"
    }
   ],
   "source": [
    "# Создадим таблицу с весами\n",
    "lr_robust_feature_coefs = pd.DataFrame(\n",
    "    data=lr_robust.coef_, index=feature_names, columns=['Coef']\n",
    ")\n",
    "\n",
    "lr_robust_feature_coefs"
   ]
  },
  {
   "cell_type": "markdown",
   "id": "e180b82d",
   "metadata": {},
   "source": [
    "__Вывод:__ Таким образом, мы смогли добиться лишь незначительного снижения средних ошибок, а рассмотренные веса по-прежнему остаются достаточно большими. Следовательно, ограничения влияния выбросов не дает значительных результатов по минимизации нашей функции потерь, возможно, выбросов оказывается и не так уж и много."
   ]
  },
  {
   "cell_type": "markdown",
   "id": "b36cf41d",
   "metadata": {},
   "source": [
    "### 3.3. Lasso-регрессия"
   ]
  },
  {
   "cell_type": "markdown",
   "id": "ec9e3be7",
   "metadata": {},
   "source": [
    "Воспользуемся теперь другим способом регуляризации, который представляет из себя добавление суммы модулей весов к выбранной функции потерь с определенным параметром $\\alpha$. Особенность Lasso-регрессии заключается в обнулении некоторых весов, что мы и увидим при дальнейшем обучении модели."
   ]
  },
  {
   "cell_type": "code",
   "execution_count": 475,
   "id": "fc6a1f5c",
   "metadata": {},
   "outputs": [],
   "source": [
    "# подбираем оптимальный гиперпараметр альфа\n",
    "alphas = np.linspace(0.5, 20, 40)\n",
    "\n",
    "lasso_GS = GridSearchCV(\n",
    "    Lasso(),\n",
    "    param_grid={'alpha': alphas}\n",
    ")\n",
    "\n",
    "lasso_GS.fit(X_train_scaled, y_train);"
   ]
  },
  {
   "cell_type": "code",
   "execution_count": 476,
   "id": "2cf5db41",
   "metadata": {
    "scrolled": true
   },
   "outputs": [
    {
     "data": {
      "text/plain": [
       "20.0"
      ]
     },
     "execution_count": 476,
     "metadata": {},
     "output_type": "execute_result"
    }
   ],
   "source": [
    "best_alpha = lasso_GS.best_params_['alpha']\n",
    "best_alpha"
   ]
  },
  {
   "cell_type": "code",
   "execution_count": 477,
   "id": "2da0d1a7",
   "metadata": {},
   "outputs": [
    {
     "data": {
      "text/plain": [
       "Lasso(alpha=20.0)"
      ]
     },
     "execution_count": 477,
     "metadata": {},
     "output_type": "execute_result"
    }
   ],
   "source": [
    "# обучаем лучшую модель\n",
    "lasso_lr = Lasso(alpha=best_alpha)\n",
    "lasso_lr.fit(X_train_scaled, y_train)"
   ]
  },
  {
   "cell_type": "code",
   "execution_count": 478,
   "id": "a59514ec",
   "metadata": {},
   "outputs": [],
   "source": [
    "y_train_pred = lasso_lr.predict(X_train_scaled)\n",
    "y_pred = lasso_lr.predict(X_test_scaled)"
   ]
  },
  {
   "cell_type": "markdown",
   "id": "ed360e80",
   "metadata": {},
   "source": [
    "Вновь посмотрим на значения аших ошибок на тестовой и обучающей выборках:"
   ]
  },
  {
   "cell_type": "code",
   "execution_count": 479,
   "id": "2338dfec",
   "metadata": {
    "scrolled": false
   },
   "outputs": [
    {
     "name": "stdout",
     "output_type": "stream",
     "text": [
      "Train MSE = 393034426.64557415\n",
      "Test MSE = 16127064299.403112\n",
      "\n",
      "Train MAE = 9694.258907858393\n",
      "Test MAE = 14954.359618814167\n"
     ]
    }
   ],
   "source": [
    "print(f\"Train MSE = {mean_squared_error(y_train, y_train_pred)}\")\n",
    "print(f\"Test MSE = {mean_squared_error(y_test, y_pred)}\")\n",
    "print()\n",
    "print(f\"Train MAE = {mean_absolute_error(y_train, y_train_pred)}\")\n",
    "print(f\"Test MAE = {mean_absolute_error(y_test, y_pred)}\")"
   ]
  },
  {
   "cell_type": "code",
   "execution_count": 480,
   "id": "094724ca",
   "metadata": {},
   "outputs": [
    {
     "data": {
      "text/html": [
       "<div>\n",
       "<style scoped>\n",
       "    .dataframe tbody tr th:only-of-type {\n",
       "        vertical-align: middle;\n",
       "    }\n",
       "\n",
       "    .dataframe tbody tr th {\n",
       "        vertical-align: top;\n",
       "    }\n",
       "\n",
       "    .dataframe thead th {\n",
       "        text-align: right;\n",
       "    }\n",
       "</style>\n",
       "<table border=\"1\" class=\"dataframe\">\n",
       "  <thead>\n",
       "    <tr style=\"text-align: right;\">\n",
       "      <th></th>\n",
       "      <th>Coef</th>\n",
       "    </tr>\n",
       "  </thead>\n",
       "  <tbody>\n",
       "    <tr>\n",
       "      <th>scaling__Year</th>\n",
       "      <td>10798.920597</td>\n",
       "    </tr>\n",
       "    <tr>\n",
       "      <th>scaling__Capacity</th>\n",
       "      <td>9034.026172</td>\n",
       "    </tr>\n",
       "    <tr>\n",
       "      <th>scaling__Valves</th>\n",
       "      <td>5942.509582</td>\n",
       "    </tr>\n",
       "    <tr>\n",
       "      <th>scaling__MPG_min</th>\n",
       "      <td>-0.000000</td>\n",
       "    </tr>\n",
       "    <tr>\n",
       "      <th>scaling__MPG_max</th>\n",
       "      <td>-2619.793359</td>\n",
       "    </tr>\n",
       "    <tr>\n",
       "      <th>...</th>\n",
       "      <td>...</td>\n",
       "    </tr>\n",
       "    <tr>\n",
       "      <th>ohe__Ownership History_Good</th>\n",
       "      <td>-0.000000</td>\n",
       "    </tr>\n",
       "    <tr>\n",
       "      <th>ohe__Ownership History_Potential Risk</th>\n",
       "      <td>1247.861045</td>\n",
       "    </tr>\n",
       "    <tr>\n",
       "      <th>ohe__Origin_Asian</th>\n",
       "      <td>-1954.481466</td>\n",
       "    </tr>\n",
       "    <tr>\n",
       "      <th>ohe__Origin_British</th>\n",
       "      <td>36950.211755</td>\n",
       "    </tr>\n",
       "    <tr>\n",
       "      <th>ohe__Origin_European</th>\n",
       "      <td>4875.966242</td>\n",
       "    </tr>\n",
       "  </tbody>\n",
       "</table>\n",
       "<p>96 rows × 1 columns</p>\n",
       "</div>"
      ],
      "text/plain": [
       "                                               Coef\n",
       "scaling__Year                          10798.920597\n",
       "scaling__Capacity                       9034.026172\n",
       "scaling__Valves                         5942.509582\n",
       "scaling__MPG_min                          -0.000000\n",
       "scaling__MPG_max                       -2619.793359\n",
       "...                                             ...\n",
       "ohe__Ownership History_Good               -0.000000\n",
       "ohe__Ownership History_Potential Risk   1247.861045\n",
       "ohe__Origin_Asian                      -1954.481466\n",
       "ohe__Origin_British                    36950.211755\n",
       "ohe__Origin_European                    4875.966242\n",
       "\n",
       "[96 rows x 1 columns]"
      ]
     },
     "execution_count": 480,
     "metadata": {},
     "output_type": "execute_result"
    }
   ],
   "source": [
    "# Создадим таблицу с весами\n",
    "lasso_lr_feature_coefs = pd.DataFrame(\n",
    "    data=lasso_lr.coef_, index=feature_names, columns=['Coef']\n",
    ")\n",
    "\n",
    "lasso_lr_feature_coefs"
   ]
  },
  {
   "cell_type": "markdown",
   "id": "eb084bec",
   "metadata": {},
   "source": [
    "__Вывод:__ Нетрудно заметить, что вновь ощутимого улучшения качества модели не наблюдается, но при этом веса удалось снизить, а некоторые даже занулить, о чем мы и говорили ранее."
   ]
  },
  {
   "cell_type": "markdown",
   "id": "96e95fc4",
   "metadata": {},
   "source": [
    "### 3.4. Ridge-регрессия"
   ]
  },
  {
   "cell_type": "markdown",
   "id": "01cad6a2",
   "metadata": {},
   "source": [
    "Посмотрим теперь еще на один вид регуляризации - Ridge, который представляет из себя добавление суммы квадратов нормы весов."
   ]
  },
  {
   "cell_type": "code",
   "execution_count": 398,
   "id": "af38388c",
   "metadata": {},
   "outputs": [
    {
     "data": {
      "text/plain": [
       "'saga'"
      ]
     },
     "execution_count": 398,
     "metadata": {},
     "output_type": "execute_result"
    }
   ],
   "source": [
    "# вновь подберем оптимальные гиперпараметры модели\n",
    "solvers = ['svd', 'cholesky', 'lsqr', 'sparse_cg', 'sag', 'saga', 'lbfgs']\n",
    "\n",
    "solver_GS = GridSearchCV(\n",
    "    Ridge(),\n",
    "    param_grid={'solver': solvers}\n",
    ")\n",
    "\n",
    "solver_GS.fit(X_train_scaled, y_train)\n",
    "best_solver = solver_GS.best_params_['solver']\n",
    "best_solver"
   ]
  },
  {
   "cell_type": "code",
   "execution_count": 399,
   "id": "1e5de5bc",
   "metadata": {},
   "outputs": [],
   "source": [
    "alphas = np.linspace(0.5, 20, 40)\n",
    "\n",
    "ridge_GS = GridSearchCV(\n",
    "    Ridge(solver=best_solver),\n",
    "    param_grid={'alpha': alphas}\n",
    ")\n",
    "\n",
    "ridge_GS.fit(X_train_scaled, y_train);"
   ]
  },
  {
   "cell_type": "code",
   "execution_count": 400,
   "id": "a770a4e7",
   "metadata": {
    "scrolled": true
   },
   "outputs": [
    {
     "data": {
      "text/plain": [
       "3.0"
      ]
     },
     "execution_count": 400,
     "metadata": {},
     "output_type": "execute_result"
    }
   ],
   "source": [
    "best_alpha = ridge_GS.best_params_['alpha']\n",
    "best_alpha"
   ]
  },
  {
   "cell_type": "code",
   "execution_count": 401,
   "id": "b48ea2ea",
   "metadata": {},
   "outputs": [
    {
     "data": {
      "text/plain": [
       "Ridge(alpha=3.0, solver='saga')"
      ]
     },
     "execution_count": 401,
     "metadata": {},
     "output_type": "execute_result"
    }
   ],
   "source": [
    "# обучаем лучшую из моделей\n",
    "ridge_lr = Ridge(solver=best_solver, alpha=best_alpha)\n",
    "ridge_lr.fit(X_train_scaled, y_train)"
   ]
  },
  {
   "cell_type": "code",
   "execution_count": 403,
   "id": "e1bc6fb9",
   "metadata": {},
   "outputs": [],
   "source": [
    "y_train_pred = ridge_lr.predict(X_train_scaled)\n",
    "y_pred = ridge_lr.predict(X_test_scaled)"
   ]
  },
  {
   "cell_type": "markdown",
   "id": "8406a68b",
   "metadata": {},
   "source": [
    "Посмотрим на значения ошибок:"
   ]
  },
  {
   "cell_type": "code",
   "execution_count": 404,
   "id": "41e01ee2",
   "metadata": {
    "scrolled": false
   },
   "outputs": [
    {
     "name": "stdout",
     "output_type": "stream",
     "text": [
      "Train MSE = 458230330.8987806\n",
      "Test MSE = 16693218996.43311\n",
      "\n",
      "Train MAE = 10175.360674660777\n",
      "Test MAE = 15458.919499120584\n"
     ]
    }
   ],
   "source": [
    "print(f\"Train MSE = {mean_squared_error(y_train, y_train_pred)}\")\n",
    "print(f\"Test MSE = {mean_squared_error(y_test, y_pred)}\")\n",
    "print()\n",
    "print(f\"Train MAE = {mean_absolute_error(y_train, y_train_pred)}\")\n",
    "print(f\"Test MAE = {mean_absolute_error(y_test, y_pred)}\")"
   ]
  },
  {
   "cell_type": "code",
   "execution_count": 405,
   "id": "6bc52c65",
   "metadata": {},
   "outputs": [
    {
     "data": {
      "text/html": [
       "<div>\n",
       "<style scoped>\n",
       "    .dataframe tbody tr th:only-of-type {\n",
       "        vertical-align: middle;\n",
       "    }\n",
       "\n",
       "    .dataframe tbody tr th {\n",
       "        vertical-align: top;\n",
       "    }\n",
       "\n",
       "    .dataframe thead th {\n",
       "        text-align: right;\n",
       "    }\n",
       "</style>\n",
       "<table border=\"1\" class=\"dataframe\">\n",
       "  <thead>\n",
       "    <tr style=\"text-align: right;\">\n",
       "      <th></th>\n",
       "      <th>Coef</th>\n",
       "    </tr>\n",
       "  </thead>\n",
       "  <tbody>\n",
       "    <tr>\n",
       "      <th>scaling__Year</th>\n",
       "      <td>10899.832818</td>\n",
       "    </tr>\n",
       "    <tr>\n",
       "      <th>scaling__Capacity</th>\n",
       "      <td>10820.912791</td>\n",
       "    </tr>\n",
       "    <tr>\n",
       "      <th>scaling__Valves</th>\n",
       "      <td>9112.976509</td>\n",
       "    </tr>\n",
       "    <tr>\n",
       "      <th>scaling__MPG_min</th>\n",
       "      <td>865.703845</td>\n",
       "    </tr>\n",
       "    <tr>\n",
       "      <th>scaling__MPG_max</th>\n",
       "      <td>-2774.319153</td>\n",
       "    </tr>\n",
       "    <tr>\n",
       "      <th>...</th>\n",
       "      <td>...</td>\n",
       "    </tr>\n",
       "    <tr>\n",
       "      <th>ohe__Ownership History_Good</th>\n",
       "      <td>-52.788879</td>\n",
       "    </tr>\n",
       "    <tr>\n",
       "      <th>ohe__Ownership History_Potential Risk</th>\n",
       "      <td>1737.936166</td>\n",
       "    </tr>\n",
       "    <tr>\n",
       "      <th>ohe__Origin_Asian</th>\n",
       "      <td>-6807.163366</td>\n",
       "    </tr>\n",
       "    <tr>\n",
       "      <th>ohe__Origin_British</th>\n",
       "      <td>39261.136485</td>\n",
       "    </tr>\n",
       "    <tr>\n",
       "      <th>ohe__Origin_European</th>\n",
       "      <td>19121.926688</td>\n",
       "    </tr>\n",
       "  </tbody>\n",
       "</table>\n",
       "<p>96 rows × 1 columns</p>\n",
       "</div>"
      ],
      "text/plain": [
       "                                               Coef\n",
       "scaling__Year                          10899.832818\n",
       "scaling__Capacity                      10820.912791\n",
       "scaling__Valves                         9112.976509\n",
       "scaling__MPG_min                         865.703845\n",
       "scaling__MPG_max                       -2774.319153\n",
       "...                                             ...\n",
       "ohe__Ownership History_Good              -52.788879\n",
       "ohe__Ownership History_Potential Risk   1737.936166\n",
       "ohe__Origin_Asian                      -6807.163366\n",
       "ohe__Origin_British                    39261.136485\n",
       "ohe__Origin_European                   19121.926688\n",
       "\n",
       "[96 rows x 1 columns]"
      ]
     },
     "execution_count": 405,
     "metadata": {},
     "output_type": "execute_result"
    }
   ],
   "source": [
    "# Создадим таблицу с весами\n",
    "ridge_lr_feature_coefs = pd.DataFrame(\n",
    "    data=ridge_lr.coef_, index=feature_names, columns=['Coef']\n",
    ")\n",
    "\n",
    "ridge_lr_feature_coefs"
   ]
  },
  {
   "cell_type": "markdown",
   "id": "c550947d",
   "metadata": {},
   "source": [
    "__Вывод:__ Аналогично Lasso-регрессии радикального улучшения качества модели не случилось, однако мы вновь смогли добиться снижения весов из-за наложения ограничения на большие веса.  "
   ]
  },
  {
   "cell_type": "markdown",
   "id": "8c3335e9",
   "metadata": {},
   "source": [
    "### 3.5. Стохастический градиентный спуск"
   ]
  },
  {
   "cell_type": "markdown",
   "id": "7b0dc4b3",
   "metadata": {},
   "source": [
    "Давайте теперь попробуем обучить нашу линейную регрессию с помощью стохастического градиентного спуска. Градиентный спуск - это оптимизационный алгоритм, который находит минимум функции, двигаясь в направлении, обратном градиенту, т.е. в направлении наискорейшего убывани фуекции. Он основывается на вычислении градиента функции в текущей точке и обновлении переменных с определенной скоростью обучения. Стохастический же градиентый спуск на каждой из итераций будет считать антиградиент на случайном подмножестве объектов, тем самым обеспечивая более хаотичную траекторию движения и возможность перескочить через локальный минимум в поисках глобального."
   ]
  },
  {
   "cell_type": "code",
   "execution_count": 413,
   "id": "79161440",
   "metadata": {},
   "outputs": [
    {
     "data": {
      "text/plain": [
       "'squared_epsilon_insensitive'"
      ]
     },
     "execution_count": 413,
     "metadata": {},
     "output_type": "execute_result"
    }
   ],
   "source": [
    "# подбор гиперпараметров модели\n",
    "av_loss = ['squared_error', 'huber', 'epsilon_insensitive', 'squared_epsilon_insensitive']\n",
    "\n",
    "loss_GS = GridSearchCV(\n",
    "    estimator=SGDRegressor(),\n",
    "    param_grid={'loss': av_loss}\n",
    ")\n",
    "\n",
    "best_loss = loss_GS.fit(X_train_scaled, y_train).best_params_['loss']\n",
    "best_loss"
   ]
  },
  {
   "cell_type": "code",
   "execution_count": 414,
   "id": "b36fcaa6",
   "metadata": {},
   "outputs": [],
   "source": [
    "alphas = np.linspace(0.5, 20, 40)\n",
    "penalties = ['l2', 'l1', 'elasticnet']\n",
    "\n",
    "sgd_GS = GridSearchCV(\n",
    "    estimator=SGDRegressor(loss=best_loss),\n",
    "    param_grid={\n",
    "        'penalty': penalties,\n",
    "        'alpha': alphas\n",
    "    }\n",
    ")\n",
    "\n",
    "sgd_GS.fit(X_train_scaled, y_train);"
   ]
  },
  {
   "cell_type": "code",
   "execution_count": 415,
   "id": "1f952fbf",
   "metadata": {
    "scrolled": true
   },
   "outputs": [
    {
     "data": {
      "text/plain": [
       "(1.5, 'l1')"
      ]
     },
     "execution_count": 415,
     "metadata": {},
     "output_type": "execute_result"
    }
   ],
   "source": [
    "best_alpha, best_penalty = sgd_GS.best_params_.values()\n",
    "best_alpha, best_penalty"
   ]
  },
  {
   "cell_type": "code",
   "execution_count": 416,
   "id": "b7754773",
   "metadata": {
    "scrolled": true
   },
   "outputs": [
    {
     "data": {
      "text/plain": [
       "SGDRegressor(alpha=1.5, loss='squared_epsilon_insensitive', penalty='l1')"
      ]
     },
     "execution_count": 416,
     "metadata": {},
     "output_type": "execute_result"
    }
   ],
   "source": [
    "# обучаем лучшую из моделей\n",
    "sgd_lr = SGDRegressor(loss=best_loss, alpha=best_alpha, penalty=best_penalty)\n",
    "sgd_lr.fit(X_train_scaled, y_train)"
   ]
  },
  {
   "cell_type": "code",
   "execution_count": 417,
   "id": "a76f2b7a",
   "metadata": {},
   "outputs": [],
   "source": [
    "y_train_pred = sgd_lr.predict(X_train_scaled)\n",
    "y_pred = sgd_lr.predict(X_test_scaled)"
   ]
  },
  {
   "cell_type": "markdown",
   "id": "e788dc0a",
   "metadata": {},
   "source": [
    "Теперь посмотрим на получившиеся у нас ошибки"
   ]
  },
  {
   "cell_type": "code",
   "execution_count": 419,
   "id": "491edb24",
   "metadata": {
    "scrolled": true
   },
   "outputs": [
    {
     "name": "stdout",
     "output_type": "stream",
     "text": [
      "Train MSE = 498235494.36949384\n",
      "Test MSE = 16843216647.081367\n",
      "\n",
      "Train MAE = 10432.18644263375\n",
      "Test MAE = 15839.776643234038\n"
     ]
    }
   ],
   "source": [
    "print(f\"Train MSE = {mean_squared_error(y_train, y_train_pred)}\")\n",
    "print(f\"Test MSE = {mean_squared_error(y_test, y_pred)}\")\n",
    "print()\n",
    "print(f\"Train MAE = {mean_absolute_error(y_train, y_train_pred)}\")\n",
    "print(f\"Test MAE = {mean_absolute_error(y_test, y_pred)}\")"
   ]
  },
  {
   "cell_type": "code",
   "execution_count": 420,
   "id": "1249ee33",
   "metadata": {},
   "outputs": [
    {
     "data": {
      "text/html": [
       "<div>\n",
       "<style scoped>\n",
       "    .dataframe tbody tr th:only-of-type {\n",
       "        vertical-align: middle;\n",
       "    }\n",
       "\n",
       "    .dataframe tbody tr th {\n",
       "        vertical-align: top;\n",
       "    }\n",
       "\n",
       "    .dataframe thead th {\n",
       "        text-align: right;\n",
       "    }\n",
       "</style>\n",
       "<table border=\"1\" class=\"dataframe\">\n",
       "  <thead>\n",
       "    <tr style=\"text-align: right;\">\n",
       "      <th></th>\n",
       "      <th>Coef</th>\n",
       "    </tr>\n",
       "  </thead>\n",
       "  <tbody>\n",
       "    <tr>\n",
       "      <th>scaling__Year</th>\n",
       "      <td>10473.199210</td>\n",
       "    </tr>\n",
       "    <tr>\n",
       "      <th>scaling__Capacity</th>\n",
       "      <td>8140.417827</td>\n",
       "    </tr>\n",
       "    <tr>\n",
       "      <th>scaling__Valves</th>\n",
       "      <td>5696.787842</td>\n",
       "    </tr>\n",
       "    <tr>\n",
       "      <th>scaling__MPG_min</th>\n",
       "      <td>205.328840</td>\n",
       "    </tr>\n",
       "    <tr>\n",
       "      <th>scaling__MPG_max</th>\n",
       "      <td>-3185.650027</td>\n",
       "    </tr>\n",
       "    <tr>\n",
       "      <th>...</th>\n",
       "      <td>...</td>\n",
       "    </tr>\n",
       "    <tr>\n",
       "      <th>ohe__Ownership History_Good</th>\n",
       "      <td>0.000000</td>\n",
       "    </tr>\n",
       "    <tr>\n",
       "      <th>ohe__Ownership History_Potential Risk</th>\n",
       "      <td>2002.986151</td>\n",
       "    </tr>\n",
       "    <tr>\n",
       "      <th>ohe__Origin_Asian</th>\n",
       "      <td>-3873.953594</td>\n",
       "    </tr>\n",
       "    <tr>\n",
       "      <th>ohe__Origin_British</th>\n",
       "      <td>35368.813301</td>\n",
       "    </tr>\n",
       "    <tr>\n",
       "      <th>ohe__Origin_European</th>\n",
       "      <td>18685.792551</td>\n",
       "    </tr>\n",
       "  </tbody>\n",
       "</table>\n",
       "<p>96 rows × 1 columns</p>\n",
       "</div>"
      ],
      "text/plain": [
       "                                               Coef\n",
       "scaling__Year                          10473.199210\n",
       "scaling__Capacity                       8140.417827\n",
       "scaling__Valves                         5696.787842\n",
       "scaling__MPG_min                         205.328840\n",
       "scaling__MPG_max                       -3185.650027\n",
       "...                                             ...\n",
       "ohe__Ownership History_Good                0.000000\n",
       "ohe__Ownership History_Potential Risk   2002.986151\n",
       "ohe__Origin_Asian                      -3873.953594\n",
       "ohe__Origin_British                    35368.813301\n",
       "ohe__Origin_European                   18685.792551\n",
       "\n",
       "[96 rows x 1 columns]"
      ]
     },
     "execution_count": 420,
     "metadata": {},
     "output_type": "execute_result"
    }
   ],
   "source": [
    "# Создадим таблицу с весами\n",
    "sgd_lr_feature_coefs = pd.DataFrame(\n",
    "    data=sgd_lr.coef_, index=feature_names, columns=['Coef']\n",
    ")\n",
    "\n",
    "sgd_lr_feature_coefs"
   ]
  },
  {
   "cell_type": "markdown",
   "id": "4360f25d",
   "metadata": {},
   "source": [
    "__Вывод:__ Однако применение стохастический градиентного спуска также ничего радикально не изменил, и нага ошибка на тесте и на трейне осталась примерно на том же уровне. Более того, мы вновб наблюдаем большие значения у весов, что может сигнализировать о подгонке модели под данные."
   ]
  },
  {
   "cell_type": "markdown",
   "id": "4d87b3ac",
   "metadata": {},
   "source": [
    "## 4. Алгоритм имитация отжига"
   ]
  },
  {
   "cell_type": "markdown",
   "id": "def7df4d",
   "metadata": {},
   "source": [
    "Помимо градиентного спуска в машинном обучении существует \"Алгоритм имитации отжига\", который являестя оптимизацией среднеквадратичной ошибки для линейной регрессии. По сути алгоритм иммитирует процесс отжига, постепенно исследуя окрестности текущего состояния. На каждой итерации генерируется новое состояние с измененными параметрами модели. Если новое состояние улучшает MSE, оно принимается, иначе может быть принято с вероятностью, уменьшающейся со временем. Алгоритм продолжается до достижения условия остановки. \n",
    "\n",
    "Давайте пропишем класс, который будет осуществлять описанный выше алгоритм"
   ]
  },
  {
   "cell_type": "code",
   "execution_count": 278,
   "id": "3a1529e3",
   "metadata": {},
   "outputs": [],
   "source": [
    "class otzhig:\n",
    "    def __init__(self, temp_init=1, temp_fin=0.01, n=150): \n",
    "        self.temp_init = temp_init\n",
    "        self.temp_fin = temp_fin\n",
    "        self.n = n\n",
    "        self.lr = LinearRegression()\n",
    "\n",
    "\n",
    "    def vesa(self, old_w):  # запишем функцию создающую новые веса по формуле, как указано выше\n",
    "        new_w = old_w + np.random.standard_t(3, size=old_w.shape)\n",
    "        return new_w\n",
    "\n",
    "\n",
    "    def fit(self, X, y):  # обучим модель\n",
    "        w_init = np.random.normal(0,1,X.shape[1])  # как раньше сгенерируем веса из нормального распределения по размеру X.shape[1]\n",
    "        self.lr.fit(X, y)  # обучаем модель\n",
    "        loss_cur = mean_squared_error(y, self.lr.predict(X))  # смотрим на изначальную ошибку\n",
    "        \n",
    "        for i in range(self.n):  # запишем цикл, производящий сравнение \n",
    "            new_w = self.vesa(w_init)\n",
    "            self.lr.fit(X, y)\n",
    "            loss_n = mean_squared_error(y, self.lr.predict(X))  # смотрим на новую ошибку\n",
    "            \n",
    "            if loss_n < loss_cur:  # сравниваем и перезаписываем меньшую из них, если меньше\n",
    "                w_init = new_w\n",
    "                loss_cur = loss_n\n",
    "                \n",
    "            else:  # иначе совершаем перерасчет вероятности принятия новых весов и параметром температуры \n",
    "                temp =  self.temp_init * ((self.temp_fin / self.temp_init)**(i / self.n))\n",
    "                prob = np.exp(-(loss_n - loss_cur) / temp)\n",
    "                a = np.random.rand()\n",
    "                if a < prob:\n",
    "                    w_init = new_w\n",
    "                    loss_cur = loss_n\n",
    "    \n",
    "        return w_init, loss_cur"
   ]
  },
  {
   "cell_type": "markdown",
   "id": "3459b6f2",
   "metadata": {},
   "source": [
    "Теперь обучим нашу модель и посмотрим на оптимальные веса для каждого из признаков."
   ]
  },
  {
   "cell_type": "code",
   "execution_count": 283,
   "id": "9292f265",
   "metadata": {
    "scrolled": true
   },
   "outputs": [],
   "source": [
    "model = otzhig().fit(X_train_scaled, y_train);"
   ]
  },
  {
   "cell_type": "code",
   "execution_count": 286,
   "id": "0ee18b47",
   "metadata": {},
   "outputs": [
    {
     "name": "stdout",
     "output_type": "stream",
     "text": [
      "Оптимальные веса для регрессии:\n",
      "[ 21.29026116  -8.61205467 -17.32532386  16.63599264 -31.12616941\n",
      " -12.37757961 -31.5280681  -15.31394233 -38.26088759  26.73672034\n",
      "  42.31934677   7.26316338  45.0872935   24.4815187   41.47668416\n",
      " -13.86721388 -11.7859219   -3.20657292 -32.47229054  12.39828571\n",
      "   9.42691047   7.81910566  -6.38658949  23.3139619   16.85213268\n",
      "  47.48247239  35.96354677  -9.68756819  32.94031053  24.14032805\n",
      "  -1.41390455 -32.14677201  21.2191973    1.29911148  -2.34219405\n",
      "   7.16723394   5.70188872 -35.22820059  -4.53363441 -10.79591494\n",
      " -21.69301397 -16.44352388 -30.11216149  28.57459681  10.24882141\n",
      "  52.32485443 -22.11830071 -15.37152008 -38.13079245 -11.99172075\n",
      "  -8.260969    37.79325521  -8.26541981 -14.12858984 -19.20040145\n",
      " -13.438808     1.71326251 -23.44331605   2.00624188  -7.75911834\n",
      " -27.01393925  39.33782503  -1.91436004 -13.45868147 -35.76491008\n",
      " -22.12756484 -20.75120423  -9.73489779  27.30683245   5.10395737\n",
      " -36.5333749  -12.60411319  11.99109145   4.63818849  -3.29040736\n",
      " -27.6742935   11.77671173   4.1394178   -7.64882932   2.91978028\n",
      " -22.29987993 -12.10427855 -16.71013707 -28.57630709  21.48152622\n",
      "  -2.71591187  -0.82303961   6.94425049  -5.65346275  29.31024666\n",
      " -10.40034466 -21.68774458  -5.73447913  12.26817217  24.88848006\n",
      " -20.08199635]\n",
      "\n",
      "Конечное значение ошибки на трейне: 386320960.93131673\n"
     ]
    }
   ],
   "source": [
    "print(\"Оптимальные веса для регрессии:\")\n",
    "print(model[0])\n",
    "print()\n",
    "print(\"Конечное значение ошибки на трейне:\", model[1])"
   ]
  },
  {
   "cell_type": "code",
   "execution_count": 287,
   "id": "0544528e",
   "metadata": {},
   "outputs": [
    {
     "name": "stdout",
     "output_type": "stream",
     "text": [
      "Конечное значение ошибки на тесте: 6157385318.926605\n"
     ]
    }
   ],
   "source": [
    "model = otzhig().fit(X_test_scaled, y_test)\n",
    "print(\"Конечное значение ошибки на тесте:\", model[1])"
   ]
  },
  {
   "cell_type": "markdown",
   "id": "7f7307d5",
   "metadata": {},
   "source": [
    "__Вывод:__ Таким образом, нам удалось уменьшить значение нашей ошибки на тесте по сравнению с обычной линейной регрессией, причем на порядок. "
   ]
  },
  {
   "cell_type": "markdown",
   "id": "17beb68d",
   "metadata": {},
   "source": [
    "## 5. Случайный лес"
   ]
  },
  {
   "cell_type": "markdown",
   "id": "2f7ea843",
   "metadata": {},
   "source": [
    "Теперь обучим нашу модель с применение случайного леса. В машинном обучении случайный лес считается довольно распространенный алгоритмом, который помогает улучшать качество построенных моделей за счет независимого обучения большого числа деревьев. Более того, данный алгоритм не склонен к переобучению, ведь даже при увеличении числа деревьев ошибка выходит на асимптоту.\n",
    "\n",
    "Применими модель Random Forest и произведем перебор по сетке с целью нахождения оптимальный гиперпараметров."
   ]
  },
  {
   "cell_type": "code",
   "execution_count": 421,
   "id": "cdf87655",
   "metadata": {},
   "outputs": [],
   "source": [
    "param_grid = {\n",
    "    'n_estimators': [100, 150, 200, 250, 300],\n",
    "    'max_depth': [3, 5, 10, 15],\n",
    "    'min_samples_split': [2, 5, 10]\n",
    "}\n",
    "\n",
    "rf_GS = GridSearchCV(\n",
    "    RandomForestRegressor(), param_grid, cv=4, scoring='neg_mean_squared_error'\n",
    ")\n",
    "\n",
    "rf_GS.fit(X_train_scaled, y_train);"
   ]
  },
  {
   "cell_type": "code",
   "execution_count": 425,
   "id": "403d063b",
   "metadata": {},
   "outputs": [
    {
     "data": {
      "text/plain": [
       "{'max_depth': 15, 'min_samples_split': 2, 'n_estimators': 100}"
      ]
     },
     "execution_count": 425,
     "metadata": {},
     "output_type": "execute_result"
    }
   ],
   "source": [
    "rf_GS.best_params_"
   ]
  },
  {
   "cell_type": "code",
   "execution_count": 423,
   "id": "87014a4c",
   "metadata": {},
   "outputs": [
    {
     "data": {
      "text/plain": [
       "(15, 2, 100)"
      ]
     },
     "execution_count": 423,
     "metadata": {},
     "output_type": "execute_result"
    }
   ],
   "source": [
    "# Наилучшая максимальная глубина - 15, что подтверждает идею о том, что в ансамблях базовые модели должны иметь как можно меньшее смещение\n",
    "best_max_depth, best_min_samples_split, best_n_estimators = rf_GS.best_params_.values()\n",
    "best_max_depth, best_min_samples_split, best_n_estimators"
   ]
  },
  {
   "cell_type": "code",
   "execution_count": 441,
   "id": "c7332e23",
   "metadata": {},
   "outputs": [],
   "source": [
    "rf_model = RandomForestRegressor(\n",
    "    n_estimators=best_n_estimators, min_samples_split=best_min_samples_split, max_depth=best_max_depth\n",
    ")\n",
    "\n",
    "rf_model.fit(X_train_scaled, y_train);"
   ]
  },
  {
   "cell_type": "code",
   "execution_count": 442,
   "id": "dd72a589",
   "metadata": {},
   "outputs": [],
   "source": [
    "y_train_pred = rf_model.predict(X_train_scaled)\n",
    "y_pred = rf_model.predict(X_test_scaled)"
   ]
  },
  {
   "cell_type": "code",
   "execution_count": 443,
   "id": "27e2a436",
   "metadata": {
    "scrolled": false
   },
   "outputs": [
    {
     "name": "stdout",
     "output_type": "stream",
     "text": [
      "Train MSE = 69235373.72802378\n",
      "Test MSE = 15514818419.882542\n",
      "\n",
      "Train MAE = 3180.3070552671143\n",
      "Test MAE = 11335.995306198025\n"
     ]
    }
   ],
   "source": [
    "print(f\"Train MSE = {mean_squared_error(y_train, y_train_pred)}\")\n",
    "print(f\"Test MSE = {mean_squared_error(y_test, y_pred)}\")\n",
    "print()\n",
    "print(f\"Train MAE = {mean_absolute_error(y_train, y_train_pred)}\")\n",
    "print(f\"Test MAE = {mean_absolute_error(y_test, y_pred)}\")"
   ]
  },
  {
   "cell_type": "code",
   "execution_count": 446,
   "id": "8dbd03cf",
   "metadata": {},
   "outputs": [
    {
     "data": {
      "text/html": [
       "<div>\n",
       "<style scoped>\n",
       "    .dataframe tbody tr th:only-of-type {\n",
       "        vertical-align: middle;\n",
       "    }\n",
       "\n",
       "    .dataframe tbody tr th {\n",
       "        vertical-align: top;\n",
       "    }\n",
       "\n",
       "    .dataframe thead th {\n",
       "        text-align: right;\n",
       "    }\n",
       "</style>\n",
       "<table border=\"1\" class=\"dataframe\">\n",
       "  <thead>\n",
       "    <tr style=\"text-align: right;\">\n",
       "      <th></th>\n",
       "      <th>Coef</th>\n",
       "    </tr>\n",
       "  </thead>\n",
       "  <tbody>\n",
       "    <tr>\n",
       "      <th>scaling__Year</th>\n",
       "      <td>0.064385</td>\n",
       "    </tr>\n",
       "    <tr>\n",
       "      <th>scaling__Capacity</th>\n",
       "      <td>0.020803</td>\n",
       "    </tr>\n",
       "    <tr>\n",
       "      <th>scaling__Valves</th>\n",
       "      <td>0.209913</td>\n",
       "    </tr>\n",
       "    <tr>\n",
       "      <th>scaling__MPG_min</th>\n",
       "      <td>0.009701</td>\n",
       "    </tr>\n",
       "    <tr>\n",
       "      <th>scaling__MPG_max</th>\n",
       "      <td>0.018115</td>\n",
       "    </tr>\n",
       "    <tr>\n",
       "      <th>...</th>\n",
       "      <td>...</td>\n",
       "    </tr>\n",
       "    <tr>\n",
       "      <th>ohe__Ownership History_Good</th>\n",
       "      <td>0.001629</td>\n",
       "    </tr>\n",
       "    <tr>\n",
       "      <th>ohe__Ownership History_Potential Risk</th>\n",
       "      <td>0.007820</td>\n",
       "    </tr>\n",
       "    <tr>\n",
       "      <th>ohe__Origin_Asian</th>\n",
       "      <td>0.002803</td>\n",
       "    </tr>\n",
       "    <tr>\n",
       "      <th>ohe__Origin_British</th>\n",
       "      <td>0.009284</td>\n",
       "    </tr>\n",
       "    <tr>\n",
       "      <th>ohe__Origin_European</th>\n",
       "      <td>0.007028</td>\n",
       "    </tr>\n",
       "  </tbody>\n",
       "</table>\n",
       "<p>96 rows × 1 columns</p>\n",
       "</div>"
      ],
      "text/plain": [
       "                                           Coef\n",
       "scaling__Year                          0.064385\n",
       "scaling__Capacity                      0.020803\n",
       "scaling__Valves                        0.209913\n",
       "scaling__MPG_min                       0.009701\n",
       "scaling__MPG_max                       0.018115\n",
       "...                                         ...\n",
       "ohe__Ownership History_Good            0.001629\n",
       "ohe__Ownership History_Potential Risk  0.007820\n",
       "ohe__Origin_Asian                      0.002803\n",
       "ohe__Origin_British                    0.009284\n",
       "ohe__Origin_European                   0.007028\n",
       "\n",
       "[96 rows x 1 columns]"
      ]
     },
     "execution_count": 446,
     "metadata": {},
     "output_type": "execute_result"
    }
   ],
   "source": [
    "# Создадим таблицу с важностями\n",
    "rf_model_feature_coefs = pd.DataFrame(\n",
    "    data=rf_model.feature_importances_, index=feature_names, columns=['Coef']\n",
    ")\n",
    "\n",
    "rf_model_feature_coefs"
   ]
  },
  {
   "cell_type": "markdown",
   "id": "9acea43c",
   "metadata": {},
   "source": [
    "__Вывод:__ Таким образом, нам удалось добиться улучшения модели, и наша ошибка на тестовой и обучающей выборке стала значительно меньше, чем при использовании линейной регресии. Однако таких же хороший результатов как при использовании имитация отжига добиться не удалось. Но при этом мы решили проблему переобучения, снизив значения оптимального набора весов. "
   ]
  },
  {
   "cell_type": "markdown",
   "id": "b5f5cf88",
   "metadata": {},
   "source": [
    "## 6. Градиентный бустинг"
   ]
  },
  {
   "cell_type": "markdown",
   "id": "05af37dd",
   "metadata": {},
   "source": [
    "В заключении подбора оптимального алгоритма машинного обучения для предсказания стоимости подержанного автомобиля на основании его характеристик мы воспользуемся градиентный бустингом. В современном машинного обучении градиентный бустинг является одной из самых передовых моделей, который представляет из себя композицию из n базовых моделей, каждая из которых строится последовательно с целью исправления ошибки предыдущей. Базовая идея градиентного бустинга - попытка минимизировать ошибку уже имеющейся модели при добавлении последующей."
   ]
  },
  {
   "cell_type": "code",
   "execution_count": 447,
   "id": "251d0bbe",
   "metadata": {},
   "outputs": [
    {
     "data": {
      "text/plain": [
       "200"
      ]
     },
     "execution_count": 447,
     "metadata": {},
     "output_type": "execute_result"
    }
   ],
   "source": [
    "# Подбираем оптимальные гиперпараметры модели\n",
    "btg_raw_model_GS = GridSearchCV(\n",
    "    estimator=GradientBoostingRegressor(),\n",
    "    param_grid={'n_estimators': [50, 100, 150, 200]}\n",
    ")\n",
    "\n",
    "btg_raw_model_GS.fit(X_train_scaled, y_train)\n",
    "\n",
    "# Определим оптимальное количество базовых моделей\n",
    "best_n_estimators = btg_raw_model_GS.best_params_['n_estimators']\n",
    "best_n_estimators"
   ]
  },
  {
   "cell_type": "code",
   "execution_count": 448,
   "id": "c36829a0",
   "metadata": {
    "scrolled": false
   },
   "outputs": [],
   "source": [
    "# Подбираем оптимальные гиперпараметры модели\n",
    "btg_model_GS = GridSearchCV(\n",
    "    estimator=GradientBoostingRegressor(n_estimators=best_n_estimators),\n",
    "    param_grid={\n",
    "        'min_samples_split': [2, 5, 10, 15],\n",
    "        'min_samples_leaf': [1, 5, 10, 15],\n",
    "        'max_depth': [3, 5, 10, 15]\n",
    "    }\n",
    ")\n",
    "\n",
    "btg_model_GS.fit(X_train_scaled, y_train);"
   ]
  },
  {
   "cell_type": "code",
   "execution_count": 449,
   "id": "abc9c2b9",
   "metadata": {},
   "outputs": [
    {
     "data": {
      "text/plain": [
       "{'max_depth': 5, 'min_samples_leaf': 1, 'min_samples_split': 5}"
      ]
     },
     "execution_count": 449,
     "metadata": {},
     "output_type": "execute_result"
    }
   ],
   "source": [
    "btg_model_GS.best_params_"
   ]
  },
  {
   "cell_type": "code",
   "execution_count": 451,
   "id": "bc1b2503",
   "metadata": {
    "scrolled": true
   },
   "outputs": [
    {
     "data": {
      "text/plain": [
       "(5, 1, 5)"
      ]
     },
     "execution_count": 451,
     "metadata": {},
     "output_type": "execute_result"
    }
   ],
   "source": [
    "best_max_depth, best_min_samples_leaf, best_min_samples_split = btg_model_GS.best_params_.values()\n",
    "best_max_depth, best_min_samples_leaf, best_min_samples_split"
   ]
  },
  {
   "cell_type": "code",
   "execution_count": 452,
   "id": "7c562231",
   "metadata": {
    "scrolled": false
   },
   "outputs": [
    {
     "data": {
      "text/plain": [
       "GradientBoostingRegressor(max_depth=5, min_samples_split=5, n_estimators=200)"
      ]
     },
     "execution_count": 452,
     "metadata": {},
     "output_type": "execute_result"
    }
   ],
   "source": [
    "# Обучаем лучшую из моделей\n",
    "btg_model = GradientBoostingRegressor(\n",
    "    n_estimators=best_n_estimators,\n",
    "    max_depth=best_max_depth,\n",
    "    min_samples_leaf=best_min_samples_leaf,\n",
    "    min_samples_split=best_min_samples_split\n",
    ")\n",
    "\n",
    "btg_model.fit(X_train_scaled, y_train)"
   ]
  },
  {
   "cell_type": "code",
   "execution_count": 453,
   "id": "5753f0c9",
   "metadata": {},
   "outputs": [],
   "source": [
    "y_train_pred = btg_model.predict(X_train_scaled)\n",
    "y_pred = btg_model.predict(X_test_scaled)"
   ]
  },
  {
   "cell_type": "markdown",
   "id": "62efa296",
   "metadata": {},
   "source": [
    "Посмотрим на получившиеся у нас значения ошибок на тесте и на трейне:"
   ]
  },
  {
   "cell_type": "code",
   "execution_count": 454,
   "id": "363afcc1",
   "metadata": {},
   "outputs": [
    {
     "name": "stdout",
     "output_type": "stream",
     "text": [
      "Train MSE = 14211769.53381083\n",
      "Test MSE = 14338503680.141674\n",
      "\n",
      "Train MAE = 2773.4334510464682\n",
      "Test MAE = 11065.955218999474\n"
     ]
    }
   ],
   "source": [
    "print(f\"Train MSE = {mean_squared_error(y_train, y_train_pred)}\")\n",
    "print(f\"Test MSE = {mean_squared_error(y_test, y_pred)}\")\n",
    "print()\n",
    "print(f\"Train MAE = {mean_absolute_error(y_train, y_train_pred)}\")\n",
    "print(f\"Test MAE = {mean_absolute_error(y_test, y_pred)}\")"
   ]
  },
  {
   "cell_type": "code",
   "execution_count": 455,
   "id": "12807248",
   "metadata": {},
   "outputs": [
    {
     "data": {
      "text/html": [
       "<div>\n",
       "<style scoped>\n",
       "    .dataframe tbody tr th:only-of-type {\n",
       "        vertical-align: middle;\n",
       "    }\n",
       "\n",
       "    .dataframe tbody tr th {\n",
       "        vertical-align: top;\n",
       "    }\n",
       "\n",
       "    .dataframe thead th {\n",
       "        text-align: right;\n",
       "    }\n",
       "</style>\n",
       "<table border=\"1\" class=\"dataframe\">\n",
       "  <thead>\n",
       "    <tr style=\"text-align: right;\">\n",
       "      <th></th>\n",
       "      <th>Feature Importance</th>\n",
       "    </tr>\n",
       "  </thead>\n",
       "  <tbody>\n",
       "    <tr>\n",
       "      <th>scaling__Year</th>\n",
       "      <td>0.085576</td>\n",
       "    </tr>\n",
       "    <tr>\n",
       "      <th>scaling__Capacity</th>\n",
       "      <td>0.016492</td>\n",
       "    </tr>\n",
       "    <tr>\n",
       "      <th>scaling__Valves</th>\n",
       "      <td>0.239467</td>\n",
       "    </tr>\n",
       "    <tr>\n",
       "      <th>scaling__MPG_min</th>\n",
       "      <td>0.005972</td>\n",
       "    </tr>\n",
       "    <tr>\n",
       "      <th>scaling__MPG_max</th>\n",
       "      <td>0.009955</td>\n",
       "    </tr>\n",
       "    <tr>\n",
       "      <th>...</th>\n",
       "      <td>...</td>\n",
       "    </tr>\n",
       "    <tr>\n",
       "      <th>ohe__Ownership History_Good</th>\n",
       "      <td>0.000199</td>\n",
       "    </tr>\n",
       "    <tr>\n",
       "      <th>ohe__Ownership History_Potential Risk</th>\n",
       "      <td>0.004379</td>\n",
       "    </tr>\n",
       "    <tr>\n",
       "      <th>ohe__Origin_Asian</th>\n",
       "      <td>0.003584</td>\n",
       "    </tr>\n",
       "    <tr>\n",
       "      <th>ohe__Origin_British</th>\n",
       "      <td>0.021569</td>\n",
       "    </tr>\n",
       "    <tr>\n",
       "      <th>ohe__Origin_European</th>\n",
       "      <td>0.006212</td>\n",
       "    </tr>\n",
       "  </tbody>\n",
       "</table>\n",
       "<p>96 rows × 1 columns</p>\n",
       "</div>"
      ],
      "text/plain": [
       "                                       Feature Importance\n",
       "scaling__Year                                    0.085576\n",
       "scaling__Capacity                                0.016492\n",
       "scaling__Valves                                  0.239467\n",
       "scaling__MPG_min                                 0.005972\n",
       "scaling__MPG_max                                 0.009955\n",
       "...                                                   ...\n",
       "ohe__Ownership History_Good                      0.000199\n",
       "ohe__Ownership History_Potential Risk            0.004379\n",
       "ohe__Origin_Asian                                0.003584\n",
       "ohe__Origin_British                              0.021569\n",
       "ohe__Origin_European                             0.006212\n",
       "\n",
       "[96 rows x 1 columns]"
      ]
     },
     "execution_count": 455,
     "metadata": {},
     "output_type": "execute_result"
    }
   ],
   "source": [
    "# Создадим таблицу с важностью признаков в модели градиентного бустинга\n",
    "btg_model_feature_importances = pd.DataFrame(\n",
    "    data=btg_model.feature_importances_, index=feature_names, columns=['Feature Importance']\n",
    ")\n",
    "\n",
    "btg_model_feature_importances"
   ]
  },
  {
   "cell_type": "markdown",
   "id": "b485b6ad",
   "metadata": {},
   "source": [
    "__Вывод:__ Таким образом, применение градиентого бустинга помогло нам добиться значительного улучшения работы нашей модели, сильно снизив величины средних ошибок на обучении и на тесте, тем самым повысив обобщающую способность алгоритма."
   ]
  },
  {
   "cell_type": "markdown",
   "id": "4cb594b4",
   "metadata": {},
   "source": [
    "## 7. Финальный вывод"
   ]
  },
  {
   "cell_type": "markdown",
   "id": "07543a6e",
   "metadata": {},
   "source": [
    "__Вывод:__ Таким образом, среди примененных нами стандартных моделей машинного обучения наилучшие результаты показал градиентный бустинг, который оказался способен обеспечить минимальные зачения функции потерь как и на обучающей выборке, так и на тестовой. \n",
    "\n",
    "Именно поэтому при рассмотрении дальнейших гипотез о важности признаков мы будет пользоваться результатами обучения градиентного бустинга. Для гипотез же связанных с направлением влияния различных характеристик автомобилей мы будем рассматривать  веса в Lasso-регрессии."
   ]
  },
  {
   "cell_type": "code",
   "execution_count": 459,
   "id": "471c6afc",
   "metadata": {
    "scrolled": false
   },
   "outputs": [
    {
     "data": {
      "text/html": [
       "<div>\n",
       "<style scoped>\n",
       "    .dataframe tbody tr th:only-of-type {\n",
       "        vertical-align: middle;\n",
       "    }\n",
       "\n",
       "    .dataframe tbody tr th {\n",
       "        vertical-align: top;\n",
       "    }\n",
       "\n",
       "    .dataframe thead th {\n",
       "        text-align: right;\n",
       "    }\n",
       "</style>\n",
       "<table border=\"1\" class=\"dataframe\">\n",
       "  <thead>\n",
       "    <tr style=\"text-align: right;\">\n",
       "      <th></th>\n",
       "      <th>Feature Importance</th>\n",
       "    </tr>\n",
       "  </thead>\n",
       "  <tbody>\n",
       "    <tr>\n",
       "      <th>scaling__Valves</th>\n",
       "      <td>0.239467</td>\n",
       "    </tr>\n",
       "    <tr>\n",
       "      <th>scaling__Mileage</th>\n",
       "      <td>0.204344</td>\n",
       "    </tr>\n",
       "    <tr>\n",
       "      <th>ohe__Brand_Ferrari</th>\n",
       "      <td>0.159720</td>\n",
       "    </tr>\n",
       "    <tr>\n",
       "      <th>scaling__Engine Power</th>\n",
       "      <td>0.105526</td>\n",
       "    </tr>\n",
       "    <tr>\n",
       "      <th>scaling__Year</th>\n",
       "      <td>0.085576</td>\n",
       "    </tr>\n",
       "    <tr>\n",
       "      <th>...</th>\n",
       "      <td>...</td>\n",
       "    </tr>\n",
       "    <tr>\n",
       "      <th>ohe__Brand_Scion</th>\n",
       "      <td>0.000000</td>\n",
       "    </tr>\n",
       "    <tr>\n",
       "      <th>ohe__Brand_MINI</th>\n",
       "      <td>0.000000</td>\n",
       "    </tr>\n",
       "    <tr>\n",
       "      <th>ohe__Brand_Saab</th>\n",
       "      <td>0.000000</td>\n",
       "    </tr>\n",
       "    <tr>\n",
       "      <th>ohe__Brand_Plymouth</th>\n",
       "      <td>0.000000</td>\n",
       "    </tr>\n",
       "    <tr>\n",
       "      <th>ohe__Brand_Pontiac</th>\n",
       "      <td>0.000000</td>\n",
       "    </tr>\n",
       "  </tbody>\n",
       "</table>\n",
       "<p>96 rows × 1 columns</p>\n",
       "</div>"
      ],
      "text/plain": [
       "                       Feature Importance\n",
       "scaling__Valves                  0.239467\n",
       "scaling__Mileage                 0.204344\n",
       "ohe__Brand_Ferrari               0.159720\n",
       "scaling__Engine Power            0.105526\n",
       "scaling__Year                    0.085576\n",
       "...                                   ...\n",
       "ohe__Brand_Scion                 0.000000\n",
       "ohe__Brand_MINI                  0.000000\n",
       "ohe__Brand_Saab                  0.000000\n",
       "ohe__Brand_Plymouth              0.000000\n",
       "ohe__Brand_Pontiac               0.000000\n",
       "\n",
       "[96 rows x 1 columns]"
      ]
     },
     "execution_count": 459,
     "metadata": {},
     "output_type": "execute_result"
    }
   ],
   "source": [
    "# Посмотрим на отсортированную таблицу с важностью признаков в модели градиентного бустинга\n",
    "sorted_btg_feature_importances = btg_model_feature_importances.sort_values(by='Feature Importance', ascending=False)\n",
    "sorted_btg_feature_importances"
   ]
  },
  {
   "cell_type": "code",
   "execution_count": 460,
   "id": "1df8984b",
   "metadata": {},
   "outputs": [
    {
     "data": {
      "text/html": [
       "<div>\n",
       "<style scoped>\n",
       "    .dataframe tbody tr th:only-of-type {\n",
       "        vertical-align: middle;\n",
       "    }\n",
       "\n",
       "    .dataframe tbody tr th {\n",
       "        vertical-align: top;\n",
       "    }\n",
       "\n",
       "    .dataframe thead th {\n",
       "        text-align: right;\n",
       "    }\n",
       "</style>\n",
       "<table border=\"1\" class=\"dataframe\">\n",
       "  <thead>\n",
       "    <tr style=\"text-align: right;\">\n",
       "      <th></th>\n",
       "      <th>Feature Importance</th>\n",
       "    </tr>\n",
       "  </thead>\n",
       "  <tbody>\n",
       "    <tr>\n",
       "      <th>scaling__Valves</th>\n",
       "      <td>0.239467</td>\n",
       "    </tr>\n",
       "    <tr>\n",
       "      <th>scaling__Mileage</th>\n",
       "      <td>0.204344</td>\n",
       "    </tr>\n",
       "    <tr>\n",
       "      <th>ohe__Brand_Ferrari</th>\n",
       "      <td>0.159720</td>\n",
       "    </tr>\n",
       "    <tr>\n",
       "      <th>scaling__Engine Power</th>\n",
       "      <td>0.105526</td>\n",
       "    </tr>\n",
       "    <tr>\n",
       "      <th>scaling__Year</th>\n",
       "      <td>0.085576</td>\n",
       "    </tr>\n",
       "    <tr>\n",
       "      <th>ohe__Origin_British</th>\n",
       "      <td>0.021569</td>\n",
       "    </tr>\n",
       "    <tr>\n",
       "      <th>scaling__MPG_mean</th>\n",
       "      <td>0.017586</td>\n",
       "    </tr>\n",
       "    <tr>\n",
       "      <th>scaling__Capacity</th>\n",
       "      <td>0.016492</td>\n",
       "    </tr>\n",
       "    <tr>\n",
       "      <th>scaling__Usage Intensity</th>\n",
       "      <td>0.016430</td>\n",
       "    </tr>\n",
       "    <tr>\n",
       "      <th>scaling__Fuel Efficiency</th>\n",
       "      <td>0.013405</td>\n",
       "    </tr>\n",
       "  </tbody>\n",
       "</table>\n",
       "</div>"
      ],
      "text/plain": [
       "                          Feature Importance\n",
       "scaling__Valves                     0.239467\n",
       "scaling__Mileage                    0.204344\n",
       "ohe__Brand_Ferrari                  0.159720\n",
       "scaling__Engine Power               0.105526\n",
       "scaling__Year                       0.085576\n",
       "ohe__Origin_British                 0.021569\n",
       "scaling__MPG_mean                   0.017586\n",
       "scaling__Capacity                   0.016492\n",
       "scaling__Usage Intensity            0.016430\n",
       "scaling__Fuel Efficiency            0.013405"
      ]
     },
     "execution_count": 460,
     "metadata": {},
     "output_type": "execute_result"
    }
   ],
   "source": [
    "# Рассмотрим первые 10 самых важных признаков\n",
    "sorted_btg_feature_importances.head(10)"
   ]
  },
  {
   "cell_type": "markdown",
   "id": "f961ea2d",
   "metadata": {},
   "source": [
    "__Вывод:__ Весьма неожиданно, что наиболее важным признаком является количество клапанов. Также есть и предсказуемые результаты, в частности пробег и год выпуска, а также созданный нами признак, характеризующий мощность двигателя."
   ]
  },
  {
   "cell_type": "code",
   "execution_count": 461,
   "id": "114e9359",
   "metadata": {},
   "outputs": [
    {
     "data": {
      "text/html": [
       "<div>\n",
       "<style scoped>\n",
       "    .dataframe tbody tr th:only-of-type {\n",
       "        vertical-align: middle;\n",
       "    }\n",
       "\n",
       "    .dataframe tbody tr th {\n",
       "        vertical-align: top;\n",
       "    }\n",
       "\n",
       "    .dataframe thead th {\n",
       "        text-align: right;\n",
       "    }\n",
       "</style>\n",
       "<table border=\"1\" class=\"dataframe\">\n",
       "  <thead>\n",
       "    <tr style=\"text-align: right;\">\n",
       "      <th></th>\n",
       "      <th>Feature Importance</th>\n",
       "    </tr>\n",
       "  </thead>\n",
       "  <tbody>\n",
       "    <tr>\n",
       "      <th>ohe__Exterior color_Gold</th>\n",
       "      <td>0.000001</td>\n",
       "    </tr>\n",
       "    <tr>\n",
       "      <th>ohe__Brand_FIAT</th>\n",
       "      <td>0.000000</td>\n",
       "    </tr>\n",
       "    <tr>\n",
       "      <th>ohe__Brand_Rolls-Royce</th>\n",
       "      <td>0.000000</td>\n",
       "    </tr>\n",
       "    <tr>\n",
       "      <th>ohe__Exterior color_Brown</th>\n",
       "      <td>0.000000</td>\n",
       "    </tr>\n",
       "    <tr>\n",
       "      <th>ohe__Brand_Land Rover</th>\n",
       "      <td>0.000000</td>\n",
       "    </tr>\n",
       "    <tr>\n",
       "      <th>ohe__Brand_Scion</th>\n",
       "      <td>0.000000</td>\n",
       "    </tr>\n",
       "    <tr>\n",
       "      <th>ohe__Brand_MINI</th>\n",
       "      <td>0.000000</td>\n",
       "    </tr>\n",
       "    <tr>\n",
       "      <th>ohe__Brand_Saab</th>\n",
       "      <td>0.000000</td>\n",
       "    </tr>\n",
       "    <tr>\n",
       "      <th>ohe__Brand_Plymouth</th>\n",
       "      <td>0.000000</td>\n",
       "    </tr>\n",
       "    <tr>\n",
       "      <th>ohe__Brand_Pontiac</th>\n",
       "      <td>0.000000</td>\n",
       "    </tr>\n",
       "  </tbody>\n",
       "</table>\n",
       "</div>"
      ],
      "text/plain": [
       "                           Feature Importance\n",
       "ohe__Exterior color_Gold             0.000001\n",
       "ohe__Brand_FIAT                      0.000000\n",
       "ohe__Brand_Rolls-Royce               0.000000\n",
       "ohe__Exterior color_Brown            0.000000\n",
       "ohe__Brand_Land Rover                0.000000\n",
       "ohe__Brand_Scion                     0.000000\n",
       "ohe__Brand_MINI                      0.000000\n",
       "ohe__Brand_Saab                      0.000000\n",
       "ohe__Brand_Plymouth                  0.000000\n",
       "ohe__Brand_Pontiac                   0.000000"
      ]
     },
     "execution_count": 461,
     "metadata": {},
     "output_type": "execute_result"
    }
   ],
   "source": [
    "# Рассмотрим первые 10 самых менее важных признаков\n",
    "sorted_btg_feature_importances.tail(10)"
   ]
  },
  {
   "cell_type": "markdown",
   "id": "ee2c9d10",
   "metadata": {},
   "source": [
    "__Вывод:__ Здесь же представлены значения категориальных признаков, встречающихся относительно нечасто, поэтому ничего неожиданного не наблюдается."
   ]
  },
  {
   "cell_type": "markdown",
   "id": "87a57580",
   "metadata": {},
   "source": [
    "---"
   ]
  },
  {
   "cell_type": "code",
   "execution_count": 481,
   "id": "45a4f922",
   "metadata": {
    "scrolled": false
   },
   "outputs": [
    {
     "data": {
      "text/html": [
       "<div>\n",
       "<style scoped>\n",
       "    .dataframe tbody tr th:only-of-type {\n",
       "        vertical-align: middle;\n",
       "    }\n",
       "\n",
       "    .dataframe tbody tr th {\n",
       "        vertical-align: top;\n",
       "    }\n",
       "\n",
       "    .dataframe thead th {\n",
       "        text-align: right;\n",
       "    }\n",
       "</style>\n",
       "<table border=\"1\" class=\"dataframe\">\n",
       "  <thead>\n",
       "    <tr style=\"text-align: right;\">\n",
       "      <th></th>\n",
       "      <th>Coef</th>\n",
       "    </tr>\n",
       "  </thead>\n",
       "  <tbody>\n",
       "    <tr>\n",
       "      <th>ohe__Brand_Lamborghini</th>\n",
       "      <td>233631.450181</td>\n",
       "    </tr>\n",
       "    <tr>\n",
       "      <th>ohe__Brand_Ferrari</th>\n",
       "      <td>225050.065391</td>\n",
       "    </tr>\n",
       "    <tr>\n",
       "      <th>ohe__Brand_Rolls-Royce</th>\n",
       "      <td>171100.182785</td>\n",
       "    </tr>\n",
       "    <tr>\n",
       "      <th>ohe__Brand_McLaren</th>\n",
       "      <td>102229.201035</td>\n",
       "    </tr>\n",
       "    <tr>\n",
       "      <th>ohe__Brand_Aston Martin</th>\n",
       "      <td>99247.626313</td>\n",
       "    </tr>\n",
       "    <tr>\n",
       "      <th>...</th>\n",
       "      <td>...</td>\n",
       "    </tr>\n",
       "    <tr>\n",
       "      <th>ohe__Fuel type_Gasoline</th>\n",
       "      <td>-11353.316473</td>\n",
       "    </tr>\n",
       "    <tr>\n",
       "      <th>ohe__Fuel type_E85 Flex Fuel</th>\n",
       "      <td>-15896.698250</td>\n",
       "    </tr>\n",
       "    <tr>\n",
       "      <th>ohe__Configuration_V10</th>\n",
       "      <td>-20509.200869</td>\n",
       "    </tr>\n",
       "    <tr>\n",
       "      <th>ohe__Brand_Land Rover</th>\n",
       "      <td>-27783.693849</td>\n",
       "    </tr>\n",
       "    <tr>\n",
       "      <th>ohe__Brand_Jaguar</th>\n",
       "      <td>-41503.498199</td>\n",
       "    </tr>\n",
       "  </tbody>\n",
       "</table>\n",
       "<p>96 rows × 1 columns</p>\n",
       "</div>"
      ],
      "text/plain": [
       "                                       Coef\n",
       "ohe__Brand_Lamborghini        233631.450181\n",
       "ohe__Brand_Ferrari            225050.065391\n",
       "ohe__Brand_Rolls-Royce        171100.182785\n",
       "ohe__Brand_McLaren            102229.201035\n",
       "ohe__Brand_Aston Martin        99247.626313\n",
       "...                                     ...\n",
       "ohe__Fuel type_Gasoline       -11353.316473\n",
       "ohe__Fuel type_E85 Flex Fuel  -15896.698250\n",
       "ohe__Configuration_V10        -20509.200869\n",
       "ohe__Brand_Land Rover         -27783.693849\n",
       "ohe__Brand_Jaguar             -41503.498199\n",
       "\n",
       "[96 rows x 1 columns]"
      ]
     },
     "execution_count": 481,
     "metadata": {},
     "output_type": "execute_result"
    }
   ],
   "source": [
    "# Посмотрим на отсортированную таблицу с важностью признаков Lasso-регрессии\n",
    "sorted_lasso_lr_feature_coefs = lasso_lr_feature_coefs.sort_values(by='Coef', ascending=False)\n",
    "sorted_lasso_lr_feature_coefs"
   ]
  },
  {
   "cell_type": "markdown",
   "id": "cdcdf6e5",
   "metadata": {},
   "source": [
    "#### Еще раз перечислим гипотезы:\n",
    "\n",
    "* *Пробег автомобиля отрицательно влияет на цену*: качество автомобиля с ростом пробега снижается\n",
    "\n",
    "\n",
    "* *Год выпуска положительно влияет на цену*: при прочих равных чем новее автомобиль, тем он дороже\n",
    "\n",
    "\n",
    "* *Происхождение автомобиля \"British\" положительно влияет на цену*: среди британских автомобилей в основном представлены только премиальные бренды, поэтому, на наш взгляд, вес этого признака будет большим\n",
    "\n",
    "\n",
    "* *Признак \"Ownership History\" будет значительно влиять на цену: плохая история автомобиля будет отрицательно влиять на цену, а хорошая - положительно"
   ]
  },
  {
   "cell_type": "code",
   "execution_count": 496,
   "id": "8500f4d0",
   "metadata": {},
   "outputs": [
    {
     "data": {
      "text/html": [
       "<div>\n",
       "<style scoped>\n",
       "    .dataframe tbody tr th:only-of-type {\n",
       "        vertical-align: middle;\n",
       "    }\n",
       "\n",
       "    .dataframe tbody tr th {\n",
       "        vertical-align: top;\n",
       "    }\n",
       "\n",
       "    .dataframe thead th {\n",
       "        text-align: right;\n",
       "    }\n",
       "</style>\n",
       "<table border=\"1\" class=\"dataframe\">\n",
       "  <thead>\n",
       "    <tr style=\"text-align: right;\">\n",
       "      <th></th>\n",
       "      <th>Coef</th>\n",
       "    </tr>\n",
       "  </thead>\n",
       "  <tbody>\n",
       "    <tr>\n",
       "      <th>scaling__Mileage</th>\n",
       "      <td>-4333.666462</td>\n",
       "    </tr>\n",
       "    <tr>\n",
       "      <th>scaling__Year</th>\n",
       "      <td>10798.920597</td>\n",
       "    </tr>\n",
       "    <tr>\n",
       "      <th>ohe__Origin_British</th>\n",
       "      <td>36950.211755</td>\n",
       "    </tr>\n",
       "    <tr>\n",
       "      <th>ohe__Ownership History_Good</th>\n",
       "      <td>-0.000000</td>\n",
       "    </tr>\n",
       "    <tr>\n",
       "      <th>ohe__Ownership History_Potential Risk</th>\n",
       "      <td>1247.861045</td>\n",
       "    </tr>\n",
       "  </tbody>\n",
       "</table>\n",
       "</div>"
      ],
      "text/plain": [
       "                                               Coef\n",
       "scaling__Mileage                       -4333.666462\n",
       "scaling__Year                          10798.920597\n",
       "ohe__Origin_British                    36950.211755\n",
       "ohe__Ownership History_Good               -0.000000\n",
       "ohe__Ownership History_Potential Risk   1247.861045"
      ]
     },
     "execution_count": 496,
     "metadata": {},
     "output_type": "execute_result"
    }
   ],
   "source": [
    "sorted_lasso_lr_feature_coefs.loc[\n",
    "    [\n",
    "    'scaling__Mileage', 'scaling__Year', 'ohe__Origin_British',\n",
    "    'ohe__Ownership History_Good', 'ohe__Ownership History_Potential Risk'\n",
    "    ]\n",
    "]"
   ]
  },
  {
   "cell_type": "markdown",
   "id": "4db8f226",
   "metadata": {},
   "source": [
    "__Вывод:__ \n",
    "\n",
    "* Неожиданно, пробег автомобиля отрицательно влияет на цену. Данный результат мог, например, появиться вследствие того, что редкие и дорогоие автомобили имели большой пробег\n",
    "\n",
    "\n",
    "* Ожидаемо, год выпуска положительно влиял на цену автомобиля\n",
    "\n",
    "\n",
    "* Также подтвердилась гипотеза о положительном влиянии происхождения автомобиля \"British\"\n",
    "\n",
    "\n",
    "* Что касается гипотезы относительно признака \"Ownership History\", то она опровергнута на наших данных, но этот факт можно объяснить тем, что цены на площадке выбирает владелец автомобиля, для которого история владения не так важна"
   ]
  }
 ],
 "metadata": {
  "kernelspec": {
   "display_name": "Python 3 (ipykernel)",
   "language": "python",
   "name": "python3"
  },
  "language_info": {
   "codemirror_mode": {
    "name": "ipython",
    "version": 3
   },
   "file_extension": ".py",
   "mimetype": "text/x-python",
   "name": "python",
   "nbconvert_exporter": "python",
   "pygments_lexer": "ipython3",
   "version": "3.9.7"
  }
 },
 "nbformat": 4,
 "nbformat_minor": 5
}
