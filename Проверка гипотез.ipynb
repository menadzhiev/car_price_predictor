{
 "cells": [
  {
   "cell_type": "code",
   "execution_count": 1,
   "id": "6f1fd72c",
   "metadata": {},
   "outputs": [],
   "source": [
    "import numpy as np\n",
    "import pandas as pd\n",
    "import scipy.stats as sts"
   ]
  },
  {
   "cell_type": "code",
   "execution_count": 2,
   "id": "455378f8",
   "metadata": {},
   "outputs": [],
   "source": [
    "cars_df = pd.read_csv('/Users/mmenadzhiev/Desktop/Проект по анализу данных/cars_df_final.csv')"
   ]
  },
  {
   "cell_type": "code",
   "execution_count": 3,
   "id": "560f2ea4",
   "metadata": {},
   "outputs": [],
   "source": [
    "cars_df['Accidents or damage'] = (cars_df['Accidents or damage'] == 'At least 1 accident or damage reported')\n",
    "cars_df['1-owner vehicle'] = (cars_df['1-owner vehicle'] == 'Yes')\n",
    "cars_df['Personal use only'] = (cars_df['Personal use only'] == 'Yes')"
   ]
  },
  {
   "cell_type": "code",
   "execution_count": 4,
   "id": "2700e39c",
   "metadata": {
    "scrolled": false
   },
   "outputs": [
    {
     "name": "stdout",
     "output_type": "stream",
     "text": [
      "(2542, 17)\n"
     ]
    },
    {
     "data": {
      "text/html": [
       "<div>\n",
       "<style scoped>\n",
       "    .dataframe tbody tr th:only-of-type {\n",
       "        vertical-align: middle;\n",
       "    }\n",
       "\n",
       "    .dataframe tbody tr th {\n",
       "        vertical-align: top;\n",
       "    }\n",
       "\n",
       "    .dataframe thead th {\n",
       "        text-align: right;\n",
       "    }\n",
       "</style>\n",
       "<table border=\"1\" class=\"dataframe\">\n",
       "  <thead>\n",
       "    <tr style=\"text-align: right;\">\n",
       "      <th></th>\n",
       "      <th>Brand</th>\n",
       "      <th>Year</th>\n",
       "      <th>Exterior color</th>\n",
       "      <th>Interior color</th>\n",
       "      <th>Drivetrain</th>\n",
       "      <th>Fuel type</th>\n",
       "      <th>Capacity</th>\n",
       "      <th>Configuration</th>\n",
       "      <th>Valves</th>\n",
       "      <th>Accidents or damage</th>\n",
       "      <th>1-owner vehicle</th>\n",
       "      <th>Personal use only</th>\n",
       "      <th>MPG_min</th>\n",
       "      <th>MPG_max</th>\n",
       "      <th>MPG_mean</th>\n",
       "      <th>Mileage</th>\n",
       "      <th>Price</th>\n",
       "    </tr>\n",
       "  </thead>\n",
       "  <tbody>\n",
       "    <tr>\n",
       "      <th>0</th>\n",
       "      <td>Hyundai</td>\n",
       "      <td>2022</td>\n",
       "      <td>Red</td>\n",
       "      <td>Black</td>\n",
       "      <td>Front-wheel Drive</td>\n",
       "      <td>Gasoline</td>\n",
       "      <td>2.5</td>\n",
       "      <td>I4</td>\n",
       "      <td>16.0</td>\n",
       "      <td>True</td>\n",
       "      <td>True</td>\n",
       "      <td>True</td>\n",
       "      <td>22.000000</td>\n",
       "      <td>28.000000</td>\n",
       "      <td>25.000000</td>\n",
       "      <td>13256.0</td>\n",
       "      <td>38988.0</td>\n",
       "    </tr>\n",
       "    <tr>\n",
       "      <th>1</th>\n",
       "      <td>Lexus</td>\n",
       "      <td>2016</td>\n",
       "      <td>Black</td>\n",
       "      <td>Black</td>\n",
       "      <td>All-wheel Drive</td>\n",
       "      <td>Gasoline</td>\n",
       "      <td>3.5</td>\n",
       "      <td>V6</td>\n",
       "      <td>24.0</td>\n",
       "      <td>True</td>\n",
       "      <td>False</td>\n",
       "      <td>True</td>\n",
       "      <td>19.000000</td>\n",
       "      <td>26.000000</td>\n",
       "      <td>22.500000</td>\n",
       "      <td>100067.0</td>\n",
       "      <td>19747.0</td>\n",
       "    </tr>\n",
       "    <tr>\n",
       "      <th>2</th>\n",
       "      <td>Chevrolet</td>\n",
       "      <td>2017</td>\n",
       "      <td>White</td>\n",
       "      <td>Black</td>\n",
       "      <td>Front-wheel Drive</td>\n",
       "      <td>Hybrid</td>\n",
       "      <td>1.5</td>\n",
       "      <td>I4</td>\n",
       "      <td>16.0</td>\n",
       "      <td>True</td>\n",
       "      <td>True</td>\n",
       "      <td>False</td>\n",
       "      <td>20.592777</td>\n",
       "      <td>27.239548</td>\n",
       "      <td>23.916163</td>\n",
       "      <td>39032.0</td>\n",
       "      <td>25999.0</td>\n",
       "    </tr>\n",
       "    <tr>\n",
       "      <th>3</th>\n",
       "      <td>Mercedes-Benz</td>\n",
       "      <td>2022</td>\n",
       "      <td>White</td>\n",
       "      <td>Other</td>\n",
       "      <td>All-wheel Drive</td>\n",
       "      <td>Gasoline</td>\n",
       "      <td>3.0</td>\n",
       "      <td>I6</td>\n",
       "      <td>24.0</td>\n",
       "      <td>False</td>\n",
       "      <td>True</td>\n",
       "      <td>False</td>\n",
       "      <td>20.592777</td>\n",
       "      <td>27.239548</td>\n",
       "      <td>23.916163</td>\n",
       "      <td>10901.0</td>\n",
       "      <td>96750.0</td>\n",
       "    </tr>\n",
       "    <tr>\n",
       "      <th>4</th>\n",
       "      <td>Land Rover</td>\n",
       "      <td>2020</td>\n",
       "      <td>Blue</td>\n",
       "      <td>Other</td>\n",
       "      <td>Four-wheel Drive</td>\n",
       "      <td>Gasoline</td>\n",
       "      <td>3.0</td>\n",
       "      <td>I6</td>\n",
       "      <td>24.0</td>\n",
       "      <td>False</td>\n",
       "      <td>True</td>\n",
       "      <td>True</td>\n",
       "      <td>17.000000</td>\n",
       "      <td>22.000000</td>\n",
       "      <td>19.500000</td>\n",
       "      <td>24946.0</td>\n",
       "      <td>61530.0</td>\n",
       "    </tr>\n",
       "  </tbody>\n",
       "</table>\n",
       "</div>"
      ],
      "text/plain": [
       "           Brand  Year Exterior color Interior color         Drivetrain  \\\n",
       "0        Hyundai  2022            Red          Black  Front-wheel Drive   \n",
       "1          Lexus  2016          Black          Black    All-wheel Drive   \n",
       "2      Chevrolet  2017          White          Black  Front-wheel Drive   \n",
       "3  Mercedes-Benz  2022          White          Other    All-wheel Drive   \n",
       "4     Land Rover  2020           Blue          Other   Four-wheel Drive   \n",
       "\n",
       "  Fuel type  Capacity Configuration  Valves  Accidents or damage  \\\n",
       "0  Gasoline       2.5            I4    16.0                 True   \n",
       "1  Gasoline       3.5            V6    24.0                 True   \n",
       "2    Hybrid       1.5            I4    16.0                 True   \n",
       "3  Gasoline       3.0            I6    24.0                False   \n",
       "4  Gasoline       3.0            I6    24.0                False   \n",
       "\n",
       "   1-owner vehicle  Personal use only    MPG_min    MPG_max   MPG_mean  \\\n",
       "0             True               True  22.000000  28.000000  25.000000   \n",
       "1            False               True  19.000000  26.000000  22.500000   \n",
       "2             True              False  20.592777  27.239548  23.916163   \n",
       "3             True              False  20.592777  27.239548  23.916163   \n",
       "4             True               True  17.000000  22.000000  19.500000   \n",
       "\n",
       "    Mileage    Price  \n",
       "0   13256.0  38988.0  \n",
       "1  100067.0  19747.0  \n",
       "2   39032.0  25999.0  \n",
       "3   10901.0  96750.0  \n",
       "4   24946.0  61530.0  "
      ]
     },
     "execution_count": 4,
     "metadata": {},
     "output_type": "execute_result"
    }
   ],
   "source": [
    "print(cars_df.shape)\n",
    "cars_df.head()"
   ]
  },
  {
   "cell_type": "markdown",
   "id": "7b836d0c",
   "metadata": {},
   "source": [
    "# Гипотезы"
   ]
  },
  {
   "cell_type": "markdown",
   "id": "b4492fbd",
   "metadata": {},
   "source": [
    "__Заметка:__ Поверим, что цены автомобилей независимы."
   ]
  },
  {
   "cell_type": "markdown",
   "id": "3829b19e",
   "metadata": {},
   "source": [
    "__Гипотезы:__\n",
    "\n",
    "1) Наличие ДТП снижает цену в среднем на x % (Автомобили, поучаствовавшие в ДТП, в среднем стоят на x% дешевле): критерий ...\n",
    "\n",
    "   Дисперсия и мат. ожидание неизвестны\n",
    "\n",
    "2) Американские и европейские автомобили в среднем стоят одинаково\n",
    "\n",
    "3) 0,9 автомобилей ездят на бензине\n",
    "\n",
    "4) Американские автомобили в среднем расходуют на 20% больше бензина, чем европейские\n",
    "\n",
    "5) Большинство автомобилей имеет передний привод (p > 0.5)\n",
    "\n",
    "6) На современных автомобилях (новее 2015 года включительно) средний объем двигателя больше, чем у старых\n",
    "\n"
   ]
  },
  {
   "cell_type": "markdown",
   "id": "25854fbf",
   "metadata": {},
   "source": [
    "---"
   ]
  },
  {
   "cell_type": "markdown",
   "id": "16aef31f",
   "metadata": {},
   "source": [
    "### **5)** Большинство автомобилей имеет передний привод (p > 0.5)"
   ]
  },
  {
   "cell_type": "markdown",
   "id": "7e8b30f6",
   "metadata": {},
   "source": [
    "Пусть $p$ - доля автомобилей, ездящих на бензине. Тогда \n",
    "\n",
    "$H_{0}: p = 0.5$\n",
    "\n",
    "$H_{1}: p < 0.5$"
   ]
  },
  {
   "cell_type": "code",
   "execution_count": 5,
   "id": "35b7e8a2",
   "metadata": {},
   "outputs": [],
   "source": [
    "alpha = 0.05"
   ]
  },
  {
   "cell_type": "code",
   "execution_count": 6,
   "id": "fdd69d62",
   "metadata": {
    "scrolled": true
   },
   "outputs": [
    {
     "data": {
      "text/plain": [
       "1.6448536269514722"
      ]
     },
     "execution_count": 6,
     "metadata": {},
     "output_type": "execute_result"
    }
   ],
   "source": [
    "z_crit = sts.norm.ppf(1 - alpha)\n",
    "z_crit"
   ]
  },
  {
   "cell_type": "code",
   "execution_count": 7,
   "id": "b0028d84",
   "metadata": {},
   "outputs": [],
   "source": [
    "p_hat, p = (cars_df['Drivetrain'] == 'Front-wheel Drive').mean(), 0.5\n",
    "n_obs = cars_df.shape[0]"
   ]
  },
  {
   "cell_type": "code",
   "execution_count": 8,
   "id": "c8be0566",
   "metadata": {},
   "outputs": [
    {
     "data": {
      "text/plain": [
       "-30.31869999086294"
      ]
     },
     "execution_count": 8,
     "metadata": {},
     "output_type": "execute_result"
    }
   ],
   "source": [
    "z_obs = (p_hat - p) / np.sqrt(p_hat * (1 - p_hat) / n_obs)\n",
    "z_obs"
   ]
  },
  {
   "cell_type": "code",
   "execution_count": 9,
   "id": "cd2b9c52",
   "metadata": {},
   "outputs": [
    {
     "name": "stdout",
     "output_type": "stream",
     "text": [
      "H_0 отвергается\n"
     ]
    }
   ],
   "source": [
    "if z_obs < -z_crit:\n",
    "    print(\"H_0 отвергается\")\n",
    "else:\n",
    "    print(\"H_0 не отвергается\")"
   ]
  },
  {
   "cell_type": "markdown",
   "id": "9e1eed10",
   "metadata": {},
   "source": [
    "### **3)** 90% автомобилей ездят на бензине"
   ]
  },
  {
   "cell_type": "markdown",
   "id": "62faf0f0",
   "metadata": {},
   "source": [
    "Пусть $p$ - доля автомобилей, ездящих на бензине. Тогда \n",
    "\n",
    "$H_{0}: p = 0.9$\n",
    "\n",
    "$H_{1}: p \\neq 0.9$\n",
    "\n",
    "Заметим, что $\\large \\frac {\\hat p - p} {\\sqrt{\\frac{\\hat p (1 - \\hat p)} {n}}}$ $\\sim N(0, 1)$"
   ]
  },
  {
   "cell_type": "code",
   "execution_count": 10,
   "id": "87087882",
   "metadata": {},
   "outputs": [
    {
     "data": {
      "text/plain": [
       "-3.9342925480047013"
      ]
     },
     "execution_count": 10,
     "metadata": {},
     "output_type": "execute_result"
    }
   ],
   "source": [
    "n = cars_df.shape[0]\n",
    "p, p_hat = 0.9, cars_df[cars_df['Fuel type'] == 'Gasoline'].shape[0] / n\n",
    "z_obs = (p_hat - p) / np.sqrt(p_hat * (1 - p_hat) / n)\n",
    "z_obs"
   ]
  },
  {
   "cell_type": "code",
   "execution_count": 11,
   "id": "deaedd51",
   "metadata": {},
   "outputs": [],
   "source": [
    "p_value = 2 * (1 - sts.norm.cdf(np.abs(z_obs)))"
   ]
  },
  {
   "cell_type": "code",
   "execution_count": 12,
   "id": "796f0e1b",
   "metadata": {
    "scrolled": true
   },
   "outputs": [
    {
     "data": {
      "text/plain": [
       "8.344210198640845e-05"
      ]
     },
     "execution_count": 12,
     "metadata": {},
     "output_type": "execute_result"
    }
   ],
   "source": [
    "p_value"
   ]
  },
  {
   "cell_type": "code",
   "execution_count": 13,
   "id": "29443031",
   "metadata": {},
   "outputs": [],
   "source": [
    "alpha = 0.05"
   ]
  },
  {
   "cell_type": "code",
   "execution_count": 14,
   "id": "e5522a1b",
   "metadata": {},
   "outputs": [
    {
     "data": {
      "text/plain": [
       "True"
      ]
     },
     "execution_count": 14,
     "metadata": {},
     "output_type": "execute_result"
    }
   ],
   "source": [
    "p_value < alpha"
   ]
  },
  {
   "cell_type": "markdown",
   "id": "0c12caf5",
   "metadata": {},
   "source": [
    "**Вывод:** Нулевая гипотеза отвергается."
   ]
  },
  {
   "cell_type": "markdown",
   "id": "87e9d510",
   "metadata": {},
   "source": [
    "---"
   ]
  },
  {
   "cell_type": "markdown",
   "id": "5949c285",
   "metadata": {},
   "source": [
    "### **1)** Наличие ДТП снижает цену на x % (Автомобили, поучаствовавшие в ДТП, в среднем стоят на x% дешевле): критерий ...\n"
   ]
  },
  {
   "cell_type": "markdown",
   "id": "7288e401",
   "metadata": {},
   "source": [
    "__Заметка:__ В данном случае мы разбиваем всю выборку на две группы: автомобили, попавшие и не попавшие в ДТП. Достоверное распределение цены автомобилей неизвестно, но наблюдений достаточно много, чтобы воспользоваться ЦПТ. Также неизвестна и дисперсия, поэтому проверим гипотезу об их равенстве."
   ]
  },
  {
   "cell_type": "markdown",
   "id": "33df1769",
   "metadata": {},
   "source": [
    "$H_{0}: \\sigma_{x} = \\sigma_{y}$\n",
    "\n",
    "$H_{1}: \\sigma_{x} \\neq \\sigma_{y}$"
   ]
  },
  {
   "cell_type": "code",
   "execution_count": 15,
   "id": "02803bf7",
   "metadata": {},
   "outputs": [],
   "source": [
    "alpha = 0.05"
   ]
  },
  {
   "cell_type": "code",
   "execution_count": 16,
   "id": "f12f2167",
   "metadata": {},
   "outputs": [
    {
     "name": "stdout",
     "output_type": "stream",
     "text": [
      "(510, 17)\n",
      "(2032, 17)\n"
     ]
    },
    {
     "data": {
      "text/html": [
       "<div>\n",
       "<style scoped>\n",
       "    .dataframe tbody tr th:only-of-type {\n",
       "        vertical-align: middle;\n",
       "    }\n",
       "\n",
       "    .dataframe tbody tr th {\n",
       "        vertical-align: top;\n",
       "    }\n",
       "\n",
       "    .dataframe thead th {\n",
       "        text-align: right;\n",
       "    }\n",
       "</style>\n",
       "<table border=\"1\" class=\"dataframe\">\n",
       "  <thead>\n",
       "    <tr style=\"text-align: right;\">\n",
       "      <th></th>\n",
       "      <th>Brand</th>\n",
       "      <th>Year</th>\n",
       "      <th>Exterior color</th>\n",
       "      <th>Interior color</th>\n",
       "      <th>Drivetrain</th>\n",
       "      <th>Fuel type</th>\n",
       "      <th>Capacity</th>\n",
       "      <th>Configuration</th>\n",
       "      <th>Valves</th>\n",
       "      <th>Accidents or damage</th>\n",
       "      <th>1-owner vehicle</th>\n",
       "      <th>Personal use only</th>\n",
       "      <th>MPG_min</th>\n",
       "      <th>MPG_max</th>\n",
       "      <th>MPG_mean</th>\n",
       "      <th>Mileage</th>\n",
       "      <th>Price</th>\n",
       "    </tr>\n",
       "  </thead>\n",
       "  <tbody>\n",
       "    <tr>\n",
       "      <th>3</th>\n",
       "      <td>Mercedes-Benz</td>\n",
       "      <td>2022</td>\n",
       "      <td>White</td>\n",
       "      <td>Other</td>\n",
       "      <td>All-wheel Drive</td>\n",
       "      <td>Gasoline</td>\n",
       "      <td>3.0</td>\n",
       "      <td>I6</td>\n",
       "      <td>24.0</td>\n",
       "      <td>False</td>\n",
       "      <td>True</td>\n",
       "      <td>False</td>\n",
       "      <td>20.592777</td>\n",
       "      <td>27.239548</td>\n",
       "      <td>23.916163</td>\n",
       "      <td>10901.0</td>\n",
       "      <td>96750.0</td>\n",
       "    </tr>\n",
       "    <tr>\n",
       "      <th>4</th>\n",
       "      <td>Land Rover</td>\n",
       "      <td>2020</td>\n",
       "      <td>Blue</td>\n",
       "      <td>Other</td>\n",
       "      <td>Four-wheel Drive</td>\n",
       "      <td>Gasoline</td>\n",
       "      <td>3.0</td>\n",
       "      <td>I6</td>\n",
       "      <td>24.0</td>\n",
       "      <td>False</td>\n",
       "      <td>True</td>\n",
       "      <td>True</td>\n",
       "      <td>17.000000</td>\n",
       "      <td>22.000000</td>\n",
       "      <td>19.500000</td>\n",
       "      <td>24946.0</td>\n",
       "      <td>61530.0</td>\n",
       "    </tr>\n",
       "    <tr>\n",
       "      <th>5</th>\n",
       "      <td>Lexus</td>\n",
       "      <td>2018</td>\n",
       "      <td>Silver/Gray</td>\n",
       "      <td>Other</td>\n",
       "      <td>Rear-wheel Drive</td>\n",
       "      <td>Gasoline</td>\n",
       "      <td>3.5</td>\n",
       "      <td>V6</td>\n",
       "      <td>24.0</td>\n",
       "      <td>False</td>\n",
       "      <td>False</td>\n",
       "      <td>True</td>\n",
       "      <td>19.000000</td>\n",
       "      <td>30.000000</td>\n",
       "      <td>24.500000</td>\n",
       "      <td>33005.0</td>\n",
       "      <td>49878.0</td>\n",
       "    </tr>\n",
       "    <tr>\n",
       "      <th>6</th>\n",
       "      <td>Chevrolet</td>\n",
       "      <td>2006</td>\n",
       "      <td>Silver/Gray</td>\n",
       "      <td>Silver/Gray</td>\n",
       "      <td>Front-wheel Drive</td>\n",
       "      <td>E85 Flex Fuel</td>\n",
       "      <td>3.5</td>\n",
       "      <td>V6</td>\n",
       "      <td>12.0</td>\n",
       "      <td>False</td>\n",
       "      <td>True</td>\n",
       "      <td>False</td>\n",
       "      <td>21.000000</td>\n",
       "      <td>31.000000</td>\n",
       "      <td>26.000000</td>\n",
       "      <td>168810.0</td>\n",
       "      <td>5909.0</td>\n",
       "    </tr>\n",
       "    <tr>\n",
       "      <th>7</th>\n",
       "      <td>INFINITI</td>\n",
       "      <td>2020</td>\n",
       "      <td>White</td>\n",
       "      <td>White</td>\n",
       "      <td>Rear-wheel Drive</td>\n",
       "      <td>Gasoline</td>\n",
       "      <td>3.0</td>\n",
       "      <td>V6</td>\n",
       "      <td>24.0</td>\n",
       "      <td>False</td>\n",
       "      <td>True</td>\n",
       "      <td>True</td>\n",
       "      <td>20.000000</td>\n",
       "      <td>26.000000</td>\n",
       "      <td>23.000000</td>\n",
       "      <td>34487.0</td>\n",
       "      <td>38594.0</td>\n",
       "    </tr>\n",
       "  </tbody>\n",
       "</table>\n",
       "</div>"
      ],
      "text/plain": [
       "           Brand  Year Exterior color Interior color         Drivetrain  \\\n",
       "3  Mercedes-Benz  2022          White          Other    All-wheel Drive   \n",
       "4     Land Rover  2020           Blue          Other   Four-wheel Drive   \n",
       "5          Lexus  2018    Silver/Gray          Other   Rear-wheel Drive   \n",
       "6      Chevrolet  2006    Silver/Gray    Silver/Gray  Front-wheel Drive   \n",
       "7       INFINITI  2020          White          White   Rear-wheel Drive   \n",
       "\n",
       "       Fuel type  Capacity Configuration  Valves  Accidents or damage  \\\n",
       "3       Gasoline       3.0            I6    24.0                False   \n",
       "4       Gasoline       3.0            I6    24.0                False   \n",
       "5       Gasoline       3.5            V6    24.0                False   \n",
       "6  E85 Flex Fuel       3.5            V6    12.0                False   \n",
       "7       Gasoline       3.0            V6    24.0                False   \n",
       "\n",
       "   1-owner vehicle  Personal use only    MPG_min    MPG_max   MPG_mean  \\\n",
       "3             True              False  20.592777  27.239548  23.916163   \n",
       "4             True               True  17.000000  22.000000  19.500000   \n",
       "5            False               True  19.000000  30.000000  24.500000   \n",
       "6             True              False  21.000000  31.000000  26.000000   \n",
       "7             True               True  20.000000  26.000000  23.000000   \n",
       "\n",
       "    Mileage    Price  \n",
       "3   10901.0  96750.0  \n",
       "4   24946.0  61530.0  \n",
       "5   33005.0  49878.0  \n",
       "6  168810.0   5909.0  \n",
       "7   34487.0  38594.0  "
      ]
     },
     "execution_count": 16,
     "metadata": {},
     "output_type": "execute_result"
    }
   ],
   "source": [
    "damaged_cars_df = cars_df[cars_df['Accidents or damage']]\n",
    "dc_mean_price = damaged_cars_df['Price'].mean()\n",
    "print(damaged_cars_df.shape)\n",
    "damaged_cars_df.head()\n",
    "\n",
    "\n",
    "intact_cars_df = cars_df[~cars_df['Accidents or damage']]\n",
    "ic_mean_price = intact_cars_df['Price'].mean()\n",
    "print(intact_cars_df.shape)\n",
    "intact_cars_df.head()"
   ]
  },
  {
   "cell_type": "code",
   "execution_count": 17,
   "id": "95876bd3",
   "metadata": {},
   "outputs": [
    {
     "data": {
      "text/plain": [
       "(0.8690236736851707, 1.144130115154565)"
      ]
     },
     "execution_count": 17,
     "metadata": {},
     "output_type": "execute_result"
    }
   ],
   "source": [
    "n_x, n_y = damaged_cars_df.shape[0], intact_cars_df.shape[0]\n",
    "l_tail = sts.f.ppf(alpha / 2, n_x - 1, n_y - 1)\n",
    "r_tail = sts.f.ppf(1 - alpha / 2, n_x - 1, n_y - 1)\n",
    "l_tail, r_tail"
   ]
  },
  {
   "cell_type": "code",
   "execution_count": 18,
   "id": "74032664",
   "metadata": {},
   "outputs": [
    {
     "data": {
      "text/plain": [
       "0.03570309917715467"
      ]
     },
     "execution_count": 18,
     "metadata": {},
     "output_type": "execute_result"
    }
   ],
   "source": [
    "s_hat_x = np.var(damaged_cars_df['Price'], ddof=1)\n",
    "s_hat_y = np.var(intact_cars_df['Price'], ddof=1)\n",
    "f_obs = s_hat_x / s_hat_y\n",
    "f_obs"
   ]
  },
  {
   "cell_type": "code",
   "execution_count": 19,
   "id": "3696ba66",
   "metadata": {},
   "outputs": [
    {
     "name": "stdout",
     "output_type": "stream",
     "text": [
      "H_0 отвергается\n"
     ]
    }
   ],
   "source": [
    "if f_obs < l_tail or f_obs > r_tail:\n",
    "    print(f'H_0 отвергается')\n",
    "else:\n",
    "    print(f'H_0 не отверграется')"
   ]
  },
  {
   "cell_type": "markdown",
   "id": "ba452ba4",
   "metadata": {},
   "source": [
    "---"
   ]
  },
  {
   "cell_type": "markdown",
   "id": "593fee11",
   "metadata": {},
   "source": [
    "### **2)** Американские и европейские автомобили в среднем стоят одинаково"
   ]
  },
  {
   "cell_type": "markdown",
   "id": "48cdef17",
   "metadata": {},
   "source": [
    "$H_{0}:$ $\\mu_{x} = \\mu_{y}$\n",
    "\n",
    "$H_{1}:$ $\\mu_{x} \\neq \\mu_{y}$"
   ]
  },
  {
   "cell_type": "markdown",
   "id": "68dbdca3",
   "metadata": {},
   "source": [
    "Воспользуемся z-тестом."
   ]
  },
  {
   "cell_type": "code",
   "execution_count": 67,
   "id": "d96d9acf",
   "metadata": {
    "scrolled": true
   },
   "outputs": [
    {
     "data": {
      "text/plain": [
       "array(['Hyundai', 'Lexus', 'Chevrolet', 'Mercedes-Benz', 'Land Rover',\n",
       "       'INFINITI', 'Chrysler', 'Mazda', 'GMC', 'Toyota', 'Cadillac',\n",
       "       'Genesis', 'Ford', 'Buick', 'Jeep', 'Audi', 'Lincoln', 'BMW',\n",
       "       'RAM', 'Kia', 'Lamborghini', 'Acura', 'Nissan', 'McLaren',\n",
       "       'Porsche', 'Honda', 'Volkswagen', 'Pontiac', 'Dodge', 'Mitsubishi',\n",
       "       'Volvo', 'FIAT', 'MINI', 'Jaguar', 'Aston Martin', 'Maserati',\n",
       "       'Hummer', 'Bentley', 'Alfa Romeo', 'Plymouth', 'Ferrari', 'Scion',\n",
       "       'Lotus', 'Suzuki', 'Rolls-Royce', 'Saab'], dtype=object)"
      ]
     },
     "execution_count": 67,
     "metadata": {},
     "output_type": "execute_result"
    }
   ],
   "source": [
    "cars_df['Brand'].unique()"
   ]
  },
  {
   "cell_type": "code",
   "execution_count": 68,
   "id": "4efa06a4",
   "metadata": {},
   "outputs": [],
   "source": [
    "# Получим список американских машин. В дальнейшем можно создать новый бинарный признак о стране происхождения.\n",
    "american_cars = ['Chevrolet', 'Chrysler', 'GMC', 'Cadillac',\n",
    "                 'Ford', 'Buick', 'Jeep', 'Lincoln', 'RAM',\n",
    "                 'Pontiac', 'Dodge', 'Hummer', 'Plymouth']\n",
    "\n",
    "european_cars = ['Mercedes-Benz', 'Audi', 'BMW', 'Lamborghini', 'Porsche', 'Volkswagen',\n",
    "                 'Volvo', 'FIAT', 'MINI', 'Maserati', 'Alfa Romeo', 'Ferrari', 'Saab']\n",
    "\n",
    "british_cars = ['Land Rover', 'McLaren', 'Jaguar', 'Aston Martin', 'Bentley', 'Lotus', 'Rolls-Royce']\n",
    "\n",
    "asian_cars = ['Hyundai', 'Lexus', 'INFINITI', 'Mazda', 'Toyota', 'Genesis', 'Kia',\n",
    "              'Acura', 'Nissan', 'Honda', 'Mitsubishi', 'Scion', 'Suzuki']"
   ]
  },
  {
   "cell_type": "code",
   "execution_count": 69,
   "id": "aa650bdc",
   "metadata": {},
   "outputs": [],
   "source": [
    "alpha = 0.05"
   ]
  },
  {
   "cell_type": "code",
   "execution_count": 70,
   "id": "e88dea60",
   "metadata": {
    "scrolled": true
   },
   "outputs": [
    {
     "data": {
      "text/html": [
       "<div>\n",
       "<style scoped>\n",
       "    .dataframe tbody tr th:only-of-type {\n",
       "        vertical-align: middle;\n",
       "    }\n",
       "\n",
       "    .dataframe tbody tr th {\n",
       "        vertical-align: top;\n",
       "    }\n",
       "\n",
       "    .dataframe thead th {\n",
       "        text-align: right;\n",
       "    }\n",
       "</style>\n",
       "<table border=\"1\" class=\"dataframe\">\n",
       "  <thead>\n",
       "    <tr style=\"text-align: right;\">\n",
       "      <th></th>\n",
       "      <th>Brand</th>\n",
       "      <th>Year</th>\n",
       "      <th>Exterior color</th>\n",
       "      <th>Interior color</th>\n",
       "      <th>Drivetrain</th>\n",
       "      <th>Fuel type</th>\n",
       "      <th>Capacity</th>\n",
       "      <th>Configuration</th>\n",
       "      <th>Valves</th>\n",
       "      <th>Accidents or damage</th>\n",
       "      <th>1-owner vehicle</th>\n",
       "      <th>Personal use only</th>\n",
       "      <th>MPG_min</th>\n",
       "      <th>MPG_max</th>\n",
       "      <th>MPG_mean</th>\n",
       "      <th>Mileage</th>\n",
       "      <th>Price</th>\n",
       "    </tr>\n",
       "  </thead>\n",
       "  <tbody>\n",
       "    <tr>\n",
       "      <th>2</th>\n",
       "      <td>Chevrolet</td>\n",
       "      <td>2017</td>\n",
       "      <td>White</td>\n",
       "      <td>Black</td>\n",
       "      <td>Front-wheel Drive</td>\n",
       "      <td>Hybrid</td>\n",
       "      <td>1.5</td>\n",
       "      <td>I4</td>\n",
       "      <td>16.0</td>\n",
       "      <td>True</td>\n",
       "      <td>True</td>\n",
       "      <td>False</td>\n",
       "      <td>20.592777</td>\n",
       "      <td>27.239548</td>\n",
       "      <td>23.916163</td>\n",
       "      <td>39032.0</td>\n",
       "      <td>25999.0</td>\n",
       "    </tr>\n",
       "    <tr>\n",
       "      <th>6</th>\n",
       "      <td>Chevrolet</td>\n",
       "      <td>2006</td>\n",
       "      <td>Silver/Gray</td>\n",
       "      <td>Silver/Gray</td>\n",
       "      <td>Front-wheel Drive</td>\n",
       "      <td>E85 Flex Fuel</td>\n",
       "      <td>3.5</td>\n",
       "      <td>V6</td>\n",
       "      <td>12.0</td>\n",
       "      <td>False</td>\n",
       "      <td>True</td>\n",
       "      <td>False</td>\n",
       "      <td>21.000000</td>\n",
       "      <td>31.000000</td>\n",
       "      <td>26.000000</td>\n",
       "      <td>168810.0</td>\n",
       "      <td>5909.0</td>\n",
       "    </tr>\n",
       "    <tr>\n",
       "      <th>8</th>\n",
       "      <td>Chrysler</td>\n",
       "      <td>2016</td>\n",
       "      <td>Black</td>\n",
       "      <td>Black</td>\n",
       "      <td>All-wheel Drive</td>\n",
       "      <td>Gasoline</td>\n",
       "      <td>3.6</td>\n",
       "      <td>V6</td>\n",
       "      <td>24.0</td>\n",
       "      <td>True</td>\n",
       "      <td>False</td>\n",
       "      <td>True</td>\n",
       "      <td>18.000000</td>\n",
       "      <td>27.000000</td>\n",
       "      <td>22.500000</td>\n",
       "      <td>117793.0</td>\n",
       "      <td>16900.0</td>\n",
       "    </tr>\n",
       "    <tr>\n",
       "      <th>11</th>\n",
       "      <td>GMC</td>\n",
       "      <td>2018</td>\n",
       "      <td>Metallic</td>\n",
       "      <td>Black</td>\n",
       "      <td>Four-wheel Drive</td>\n",
       "      <td>Gasoline</td>\n",
       "      <td>6.2</td>\n",
       "      <td>V8</td>\n",
       "      <td>16.0</td>\n",
       "      <td>False</td>\n",
       "      <td>False</td>\n",
       "      <td>False</td>\n",
       "      <td>14.000000</td>\n",
       "      <td>22.000000</td>\n",
       "      <td>18.000000</td>\n",
       "      <td>99458.0</td>\n",
       "      <td>36450.0</td>\n",
       "    </tr>\n",
       "    <tr>\n",
       "      <th>14</th>\n",
       "      <td>Chevrolet</td>\n",
       "      <td>2022</td>\n",
       "      <td>Metallic</td>\n",
       "      <td>Black</td>\n",
       "      <td>Rear-wheel Drive</td>\n",
       "      <td>Gasoline</td>\n",
       "      <td>3.6</td>\n",
       "      <td>V6</td>\n",
       "      <td>24.0</td>\n",
       "      <td>False</td>\n",
       "      <td>True</td>\n",
       "      <td>True</td>\n",
       "      <td>25.000000</td>\n",
       "      <td>27.239548</td>\n",
       "      <td>26.119774</td>\n",
       "      <td>4600.0</td>\n",
       "      <td>34790.0</td>\n",
       "    </tr>\n",
       "  </tbody>\n",
       "</table>\n",
       "</div>"
      ],
      "text/plain": [
       "        Brand  Year Exterior color Interior color         Drivetrain  \\\n",
       "2   Chevrolet  2017          White          Black  Front-wheel Drive   \n",
       "6   Chevrolet  2006    Silver/Gray    Silver/Gray  Front-wheel Drive   \n",
       "8    Chrysler  2016          Black          Black    All-wheel Drive   \n",
       "11        GMC  2018       Metallic          Black   Four-wheel Drive   \n",
       "14  Chevrolet  2022       Metallic          Black   Rear-wheel Drive   \n",
       "\n",
       "        Fuel type  Capacity Configuration  Valves  Accidents or damage  \\\n",
       "2          Hybrid       1.5            I4    16.0                 True   \n",
       "6   E85 Flex Fuel       3.5            V6    12.0                False   \n",
       "8        Gasoline       3.6            V6    24.0                 True   \n",
       "11       Gasoline       6.2            V8    16.0                False   \n",
       "14       Gasoline       3.6            V6    24.0                False   \n",
       "\n",
       "    1-owner vehicle  Personal use only    MPG_min    MPG_max   MPG_mean  \\\n",
       "2              True              False  20.592777  27.239548  23.916163   \n",
       "6              True              False  21.000000  31.000000  26.000000   \n",
       "8             False               True  18.000000  27.000000  22.500000   \n",
       "11            False              False  14.000000  22.000000  18.000000   \n",
       "14             True               True  25.000000  27.239548  26.119774   \n",
       "\n",
       "     Mileage    Price  \n",
       "2    39032.0  25999.0  \n",
       "6   168810.0   5909.0  \n",
       "8   117793.0  16900.0  \n",
       "11   99458.0  36450.0  \n",
       "14    4600.0  34790.0  "
      ]
     },
     "execution_count": 70,
     "metadata": {},
     "output_type": "execute_result"
    }
   ],
   "source": [
    "american_cond = np.vectorize(lambda x: x in american_cars)(cars_df['Brand'])\n",
    "american_cars_df = cars_df[american_cond]\n",
    "american_cars_df.head()"
   ]
  },
  {
   "cell_type": "code",
   "execution_count": 71,
   "id": "2676982a",
   "metadata": {
    "scrolled": false
   },
   "outputs": [
    {
     "data": {
      "text/html": [
       "<div>\n",
       "<style scoped>\n",
       "    .dataframe tbody tr th:only-of-type {\n",
       "        vertical-align: middle;\n",
       "    }\n",
       "\n",
       "    .dataframe tbody tr th {\n",
       "        vertical-align: top;\n",
       "    }\n",
       "\n",
       "    .dataframe thead th {\n",
       "        text-align: right;\n",
       "    }\n",
       "</style>\n",
       "<table border=\"1\" class=\"dataframe\">\n",
       "  <thead>\n",
       "    <tr style=\"text-align: right;\">\n",
       "      <th></th>\n",
       "      <th>Brand</th>\n",
       "      <th>Year</th>\n",
       "      <th>Exterior color</th>\n",
       "      <th>Interior color</th>\n",
       "      <th>Drivetrain</th>\n",
       "      <th>Fuel type</th>\n",
       "      <th>Capacity</th>\n",
       "      <th>Configuration</th>\n",
       "      <th>Valves</th>\n",
       "      <th>Accidents or damage</th>\n",
       "      <th>1-owner vehicle</th>\n",
       "      <th>Personal use only</th>\n",
       "      <th>MPG_min</th>\n",
       "      <th>MPG_max</th>\n",
       "      <th>MPG_mean</th>\n",
       "      <th>Mileage</th>\n",
       "      <th>Price</th>\n",
       "    </tr>\n",
       "  </thead>\n",
       "  <tbody>\n",
       "    <tr>\n",
       "      <th>3</th>\n",
       "      <td>Mercedes-Benz</td>\n",
       "      <td>2022</td>\n",
       "      <td>White</td>\n",
       "      <td>Other</td>\n",
       "      <td>All-wheel Drive</td>\n",
       "      <td>Gasoline</td>\n",
       "      <td>3.0</td>\n",
       "      <td>I6</td>\n",
       "      <td>24.0</td>\n",
       "      <td>False</td>\n",
       "      <td>True</td>\n",
       "      <td>False</td>\n",
       "      <td>20.592777</td>\n",
       "      <td>27.239548</td>\n",
       "      <td>23.916163</td>\n",
       "      <td>10901.0</td>\n",
       "      <td>96750.0</td>\n",
       "    </tr>\n",
       "    <tr>\n",
       "      <th>10</th>\n",
       "      <td>Mercedes-Benz</td>\n",
       "      <td>2020</td>\n",
       "      <td>Black</td>\n",
       "      <td>Black</td>\n",
       "      <td>All-wheel Drive</td>\n",
       "      <td>Gasoline</td>\n",
       "      <td>2.0</td>\n",
       "      <td>I4</td>\n",
       "      <td>16.0</td>\n",
       "      <td>False</td>\n",
       "      <td>True</td>\n",
       "      <td>False</td>\n",
       "      <td>21.000000</td>\n",
       "      <td>28.000000</td>\n",
       "      <td>24.500000</td>\n",
       "      <td>62059.0</td>\n",
       "      <td>28888.0</td>\n",
       "    </tr>\n",
       "    <tr>\n",
       "      <th>26</th>\n",
       "      <td>Audi</td>\n",
       "      <td>2017</td>\n",
       "      <td>Silver/Gray</td>\n",
       "      <td>Black</td>\n",
       "      <td>All-wheel Drive</td>\n",
       "      <td>Gasoline</td>\n",
       "      <td>2.0</td>\n",
       "      <td>I4</td>\n",
       "      <td>16.0</td>\n",
       "      <td>True</td>\n",
       "      <td>False</td>\n",
       "      <td>False</td>\n",
       "      <td>23.000000</td>\n",
       "      <td>27.000000</td>\n",
       "      <td>25.000000</td>\n",
       "      <td>74672.0</td>\n",
       "      <td>32645.0</td>\n",
       "    </tr>\n",
       "    <tr>\n",
       "      <th>28</th>\n",
       "      <td>Audi</td>\n",
       "      <td>2019</td>\n",
       "      <td>White</td>\n",
       "      <td>Silver/Gray</td>\n",
       "      <td>All-wheel Drive</td>\n",
       "      <td>Gasoline</td>\n",
       "      <td>2.0</td>\n",
       "      <td>I4</td>\n",
       "      <td>16.0</td>\n",
       "      <td>False</td>\n",
       "      <td>True</td>\n",
       "      <td>True</td>\n",
       "      <td>22.000000</td>\n",
       "      <td>29.000000</td>\n",
       "      <td>25.500000</td>\n",
       "      <td>23768.0</td>\n",
       "      <td>38286.0</td>\n",
       "    </tr>\n",
       "    <tr>\n",
       "      <th>40</th>\n",
       "      <td>BMW</td>\n",
       "      <td>2019</td>\n",
       "      <td>Black</td>\n",
       "      <td>Other</td>\n",
       "      <td>All-wheel Drive</td>\n",
       "      <td>Gasoline</td>\n",
       "      <td>3.0</td>\n",
       "      <td>I6</td>\n",
       "      <td>24.0</td>\n",
       "      <td>True</td>\n",
       "      <td>True</td>\n",
       "      <td>True</td>\n",
       "      <td>21.000000</td>\n",
       "      <td>29.000000</td>\n",
       "      <td>25.000000</td>\n",
       "      <td>30231.0</td>\n",
       "      <td>37414.0</td>\n",
       "    </tr>\n",
       "  </tbody>\n",
       "</table>\n",
       "</div>"
      ],
      "text/plain": [
       "            Brand  Year Exterior color Interior color       Drivetrain  \\\n",
       "3   Mercedes-Benz  2022          White          Other  All-wheel Drive   \n",
       "10  Mercedes-Benz  2020          Black          Black  All-wheel Drive   \n",
       "26           Audi  2017    Silver/Gray          Black  All-wheel Drive   \n",
       "28           Audi  2019          White    Silver/Gray  All-wheel Drive   \n",
       "40            BMW  2019          Black          Other  All-wheel Drive   \n",
       "\n",
       "   Fuel type  Capacity Configuration  Valves  Accidents or damage  \\\n",
       "3   Gasoline       3.0            I6    24.0                False   \n",
       "10  Gasoline       2.0            I4    16.0                False   \n",
       "26  Gasoline       2.0            I4    16.0                 True   \n",
       "28  Gasoline       2.0            I4    16.0                False   \n",
       "40  Gasoline       3.0            I6    24.0                 True   \n",
       "\n",
       "    1-owner vehicle  Personal use only    MPG_min    MPG_max   MPG_mean  \\\n",
       "3              True              False  20.592777  27.239548  23.916163   \n",
       "10             True              False  21.000000  28.000000  24.500000   \n",
       "26            False              False  23.000000  27.000000  25.000000   \n",
       "28             True               True  22.000000  29.000000  25.500000   \n",
       "40             True               True  21.000000  29.000000  25.000000   \n",
       "\n",
       "    Mileage    Price  \n",
       "3   10901.0  96750.0  \n",
       "10  62059.0  28888.0  \n",
       "26  74672.0  32645.0  \n",
       "28  23768.0  38286.0  \n",
       "40  30231.0  37414.0  "
      ]
     },
     "execution_count": 71,
     "metadata": {},
     "output_type": "execute_result"
    }
   ],
   "source": [
    "european_cond = np.vectorize(lambda x: x in european_cars)(cars_df['Brand'])\n",
    "european_cars_df = cars_df[european_cond]\n",
    "#european_cars_df.loc[:, ['Price']] = european_cars_df['Price'] # / 6.785 Получается, что, мб, европейские автомобили в 6.785 раз дороже\n",
    "european_cars_df.head()"
   ]
  },
  {
   "cell_type": "code",
   "execution_count": 72,
   "id": "81a497e1",
   "metadata": {},
   "outputs": [],
   "source": [
    "X = american_cars_df['Price']\n",
    "Y = european_cars_df['Price']\n",
    "\n",
    "X_mean = X.mean()\n",
    "Y_mean = Y.mean()\n",
    "\n",
    "X_var_hat = np.var(X, ddof=1)\n",
    "Y_var_hat = np.var(Y, ddof=1)\n",
    "\n",
    "n_x, n_y = X.shape[0], Y.shape[0]\n",
    "\n",
    "d = (X_var_hat / n_x + Y_var_hat / n_y)**2 / (\n",
    "    X_var_hat**2 / (n_x**2 * (n_x - 1)) + Y_var_hat**2 / (n_y**2 * (n_y - 1)))"
   ]
  },
  {
   "cell_type": "code",
   "execution_count": 73,
   "id": "a55617e5",
   "metadata": {},
   "outputs": [
    {
     "data": {
      "text/plain": [
       "-3.0812372919188302"
      ]
     },
     "execution_count": 73,
     "metadata": {},
     "output_type": "execute_result"
    }
   ],
   "source": [
    "t_obs = (X_mean - Y_mean) / np.sqrt(X_var_hat / n_x + Y_var_hat / n_y)\n",
    "t_obs"
   ]
  },
  {
   "cell_type": "code",
   "execution_count": 74,
   "id": "2c442ae8",
   "metadata": {},
   "outputs": [
    {
     "data": {
      "text/plain": [
       "1.963131963244552"
      ]
     },
     "execution_count": 74,
     "metadata": {},
     "output_type": "execute_result"
    }
   ],
   "source": [
    "t_crit = sts.t.ppf(1 - alpha / 2, df=d)\n",
    "t_crit"
   ]
  },
  {
   "cell_type": "markdown",
   "id": "76280b73",
   "metadata": {},
   "source": [
    "**Вывод:** $H_{0}$ отвергается"
   ]
  },
  {
   "cell_type": "code",
   "execution_count": null,
   "id": "3fb2187b",
   "metadata": {},
   "outputs": [],
   "source": []
  },
  {
   "cell_type": "code",
   "execution_count": null,
   "id": "815c9e7e",
   "metadata": {},
   "outputs": [],
   "source": []
  }
 ],
 "metadata": {
  "kernelspec": {
   "display_name": "Python 3 (ipykernel)",
   "language": "python",
   "name": "python3"
  },
  "language_info": {
   "codemirror_mode": {
    "name": "ipython",
    "version": 3
   },
   "file_extension": ".py",
   "mimetype": "text/x-python",
   "name": "python",
   "nbconvert_exporter": "python",
   "pygments_lexer": "ipython3",
   "version": "3.9.13"
  }
 },
 "nbformat": 4,
 "nbformat_minor": 5
}
