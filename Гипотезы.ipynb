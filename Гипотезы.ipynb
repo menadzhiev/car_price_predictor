{
 "cells": [
  {
   "cell_type": "markdown",
   "id": "77463d2a",
   "metadata": {},
   "source": [
    "# Проверка гипотез"
   ]
  },
  {
   "cell_type": "code",
   "execution_count": 1,
   "id": "6f1fd72c",
   "metadata": {},
   "outputs": [],
   "source": [
    "import numpy as np\n",
    "import pandas as pd\n",
    "import scipy.stats as sts"
   ]
  },
  {
   "cell_type": "code",
   "execution_count": 2,
   "id": "455378f8",
   "metadata": {},
   "outputs": [],
   "source": [
    "cars_df = pd.read_csv('cars_df_final.csv')"
   ]
  },
  {
   "cell_type": "code",
   "execution_count": 3,
   "id": "560f2ea4",
   "metadata": {},
   "outputs": [],
   "source": [
    "cars_df['Accidents or damage'] = (cars_df['Accidents or damage'] == 'At least 1 accident or damage reported')\n",
    "cars_df['1-owner vehicle'] = (cars_df['1-owner vehicle'] == 'Yes')\n",
    "cars_df['Personal use only'] = (cars_df['Personal use only'] == 'Yes')"
   ]
  },
  {
   "cell_type": "code",
   "execution_count": 4,
   "id": "2700e39c",
   "metadata": {
    "scrolled": false
   },
   "outputs": [
    {
     "name": "stdout",
     "output_type": "stream",
     "text": [
      "(2542, 23)\n"
     ]
    },
    {
     "data": {
      "text/html": [
       "<div>\n",
       "<style scoped>\n",
       "    .dataframe tbody tr th:only-of-type {\n",
       "        vertical-align: middle;\n",
       "    }\n",
       "\n",
       "    .dataframe tbody tr th {\n",
       "        vertical-align: top;\n",
       "    }\n",
       "\n",
       "    .dataframe thead th {\n",
       "        text-align: right;\n",
       "    }\n",
       "</style>\n",
       "<table border=\"1\" class=\"dataframe\">\n",
       "  <thead>\n",
       "    <tr style=\"text-align: right;\">\n",
       "      <th></th>\n",
       "      <th>Brand</th>\n",
       "      <th>Year</th>\n",
       "      <th>Exterior color</th>\n",
       "      <th>Interior color</th>\n",
       "      <th>Drivetrain</th>\n",
       "      <th>Fuel type</th>\n",
       "      <th>Capacity</th>\n",
       "      <th>Configuration</th>\n",
       "      <th>Valves</th>\n",
       "      <th>Accidents or damage</th>\n",
       "      <th>...</th>\n",
       "      <th>MPG_max</th>\n",
       "      <th>MPG_mean</th>\n",
       "      <th>Mileage</th>\n",
       "      <th>Usage Intensity</th>\n",
       "      <th>Ownership History</th>\n",
       "      <th>Engine Power</th>\n",
       "      <th>Fuel Efficiency</th>\n",
       "      <th>Origin</th>\n",
       "      <th>Gallons Per Year</th>\n",
       "      <th>Price</th>\n",
       "    </tr>\n",
       "  </thead>\n",
       "  <tbody>\n",
       "    <tr>\n",
       "      <th>0</th>\n",
       "      <td>Hyundai</td>\n",
       "      <td>2022</td>\n",
       "      <td>Red</td>\n",
       "      <td>Black</td>\n",
       "      <td>Front-wheel Drive</td>\n",
       "      <td>Gasoline</td>\n",
       "      <td>2.5</td>\n",
       "      <td>I4</td>\n",
       "      <td>16.0</td>\n",
       "      <td>True</td>\n",
       "      <td>...</td>\n",
       "      <td>28.000000</td>\n",
       "      <td>25.000000</td>\n",
       "      <td>13256.0</td>\n",
       "      <td>6628.000</td>\n",
       "      <td>Potential Risk</td>\n",
       "      <td>40.0</td>\n",
       "      <td>10.000000</td>\n",
       "      <td>Asian</td>\n",
       "      <td>265.120000</td>\n",
       "      <td>38988.0</td>\n",
       "    </tr>\n",
       "    <tr>\n",
       "      <th>1</th>\n",
       "      <td>Lexus</td>\n",
       "      <td>2016</td>\n",
       "      <td>Black</td>\n",
       "      <td>Black</td>\n",
       "      <td>All-wheel Drive</td>\n",
       "      <td>Gasoline</td>\n",
       "      <td>3.5</td>\n",
       "      <td>V6</td>\n",
       "      <td>24.0</td>\n",
       "      <td>True</td>\n",
       "      <td>...</td>\n",
       "      <td>26.000000</td>\n",
       "      <td>22.500000</td>\n",
       "      <td>100067.0</td>\n",
       "      <td>12508.375</td>\n",
       "      <td>Bad</td>\n",
       "      <td>84.0</td>\n",
       "      <td>6.428571</td>\n",
       "      <td>Asian</td>\n",
       "      <td>555.927778</td>\n",
       "      <td>19747.0</td>\n",
       "    </tr>\n",
       "    <tr>\n",
       "      <th>2</th>\n",
       "      <td>Chevrolet</td>\n",
       "      <td>2017</td>\n",
       "      <td>White</td>\n",
       "      <td>Black</td>\n",
       "      <td>Front-wheel Drive</td>\n",
       "      <td>Hybrid</td>\n",
       "      <td>1.5</td>\n",
       "      <td>I4</td>\n",
       "      <td>16.0</td>\n",
       "      <td>True</td>\n",
       "      <td>...</td>\n",
       "      <td>27.239548</td>\n",
       "      <td>23.916163</td>\n",
       "      <td>39032.0</td>\n",
       "      <td>5576.000</td>\n",
       "      <td>Potential Risk</td>\n",
       "      <td>24.0</td>\n",
       "      <td>15.944109</td>\n",
       "      <td>American</td>\n",
       "      <td>233.147769</td>\n",
       "      <td>25999.0</td>\n",
       "    </tr>\n",
       "    <tr>\n",
       "      <th>3</th>\n",
       "      <td>Mercedes-Benz</td>\n",
       "      <td>2022</td>\n",
       "      <td>White</td>\n",
       "      <td>Other</td>\n",
       "      <td>All-wheel Drive</td>\n",
       "      <td>Gasoline</td>\n",
       "      <td>3.0</td>\n",
       "      <td>I6</td>\n",
       "      <td>24.0</td>\n",
       "      <td>False</td>\n",
       "      <td>...</td>\n",
       "      <td>27.239548</td>\n",
       "      <td>23.916163</td>\n",
       "      <td>10901.0</td>\n",
       "      <td>5450.500</td>\n",
       "      <td>Good</td>\n",
       "      <td>72.0</td>\n",
       "      <td>7.972054</td>\n",
       "      <td>European</td>\n",
       "      <td>227.900272</td>\n",
       "      <td>96750.0</td>\n",
       "    </tr>\n",
       "    <tr>\n",
       "      <th>4</th>\n",
       "      <td>Land Rover</td>\n",
       "      <td>2020</td>\n",
       "      <td>Blue</td>\n",
       "      <td>Other</td>\n",
       "      <td>Four-wheel Drive</td>\n",
       "      <td>Gasoline</td>\n",
       "      <td>3.0</td>\n",
       "      <td>I6</td>\n",
       "      <td>24.0</td>\n",
       "      <td>False</td>\n",
       "      <td>...</td>\n",
       "      <td>22.000000</td>\n",
       "      <td>19.500000</td>\n",
       "      <td>24946.0</td>\n",
       "      <td>6236.500</td>\n",
       "      <td>Good</td>\n",
       "      <td>72.0</td>\n",
       "      <td>6.500000</td>\n",
       "      <td>British</td>\n",
       "      <td>319.820513</td>\n",
       "      <td>61530.0</td>\n",
       "    </tr>\n",
       "  </tbody>\n",
       "</table>\n",
       "<p>5 rows × 23 columns</p>\n",
       "</div>"
      ],
      "text/plain": [
       "           Brand  Year Exterior color Interior color         Drivetrain  \\\n",
       "0        Hyundai  2022            Red          Black  Front-wheel Drive   \n",
       "1          Lexus  2016          Black          Black    All-wheel Drive   \n",
       "2      Chevrolet  2017          White          Black  Front-wheel Drive   \n",
       "3  Mercedes-Benz  2022          White          Other    All-wheel Drive   \n",
       "4     Land Rover  2020           Blue          Other   Four-wheel Drive   \n",
       "\n",
       "  Fuel type  Capacity Configuration  Valves  Accidents or damage  ...  \\\n",
       "0  Gasoline       2.5            I4    16.0                 True  ...   \n",
       "1  Gasoline       3.5            V6    24.0                 True  ...   \n",
       "2    Hybrid       1.5            I4    16.0                 True  ...   \n",
       "3  Gasoline       3.0            I6    24.0                False  ...   \n",
       "4  Gasoline       3.0            I6    24.0                False  ...   \n",
       "\n",
       "     MPG_max   MPG_mean   Mileage  Usage Intensity  Ownership History   \\\n",
       "0  28.000000  25.000000   13256.0         6628.000      Potential Risk   \n",
       "1  26.000000  22.500000  100067.0        12508.375                 Bad   \n",
       "2  27.239548  23.916163   39032.0         5576.000      Potential Risk   \n",
       "3  27.239548  23.916163   10901.0         5450.500                Good   \n",
       "4  22.000000  19.500000   24946.0         6236.500                Good   \n",
       "\n",
       "   Engine Power  Fuel Efficiency    Origin  Gallons Per Year    Price  \n",
       "0          40.0        10.000000     Asian        265.120000  38988.0  \n",
       "1          84.0         6.428571     Asian        555.927778  19747.0  \n",
       "2          24.0        15.944109  American        233.147769  25999.0  \n",
       "3          72.0         7.972054  European        227.900272  96750.0  \n",
       "4          72.0         6.500000   British        319.820513  61530.0  \n",
       "\n",
       "[5 rows x 23 columns]"
      ]
     },
     "execution_count": 4,
     "metadata": {},
     "output_type": "execute_result"
    }
   ],
   "source": [
    "print(cars_df.shape)\n",
    "cars_df.head()"
   ]
  },
  {
   "cell_type": "code",
   "execution_count": 5,
   "id": "93ac7139",
   "metadata": {},
   "outputs": [],
   "source": [
    "# Получим списки автомобилей по происхождению\n",
    "american_cars = ['Chevrolet', 'Chrysler', 'GMC', 'Cadillac',\n",
    "                 'Ford', 'Buick', 'Jeep', 'Lincoln', 'RAM',\n",
    "                 'Pontiac', 'Dodge', 'Hummer', 'Plymouth']\n",
    "\n",
    "european_cars = ['Mercedes-Benz', 'Audi', 'BMW', 'Lamborghini', 'Porsche', 'Volkswagen',\n",
    "                 'Volvo', 'FIAT', 'MINI', 'Maserati', 'Alfa Romeo', 'Ferrari', 'Saab']\n",
    "\n",
    "british_cars = ['Land Rover', 'McLaren', 'Jaguar', 'Aston Martin', 'Bentley', 'Lotus', 'Rolls-Royce']\n",
    "\n",
    "asian_cars = ['Hyundai', 'Lexus', 'INFINITI', 'Mazda', 'Toyota', 'Genesis', 'Kia',\n",
    "              'Acura', 'Nissan', 'Honda', 'Mitsubishi', 'Scion', 'Suzuki']"
   ]
  },
  {
   "cell_type": "markdown",
   "id": "7b836d0c",
   "metadata": {},
   "source": [
    "# Гипотезы"
   ]
  },
  {
   "cell_type": "markdown",
   "id": "b4492fbd",
   "metadata": {},
   "source": [
    "__Заметка:__ Поверим, что цены автомобилей независимы. Также заметим, что у нас в наличии большое число наблюдений, следовательно, мы можем пользоваться тем, что среднее значение какого-либо признака будет распределено асимптотически нормально. Наконец, установим уровень значимости $0.05$ для каждой проверки."
   ]
  },
  {
   "cell_type": "markdown",
   "id": "3c12061b",
   "metadata": {},
   "source": [
    "__1)__ Не менее 10% автомобилей, размещенных на cars.com, участвовали в ДТП.\n",
    "\n",
    "В данном случае мы имеем дело с долями. Пусть $p$ - вероятность того, что автомобиль попал в ДТП.\n",
    "\n",
    "Тогда $H_{0}: p = 0.1,$ $H_{1}: p < 0.1 \\overset{H_{0}}{\\Rightarrow} z_{obs} = \\frac {\\hat {p} - p} {\\sqrt {\\frac {\\hat {p} (1 - \\hat {p})} {n}}} \\overset{asy}{\\sim} N(0, 1), \\space z_{crit} = -z_{0.95}.$\n"
   ]
  },
  {
   "cell_type": "code",
   "execution_count": 6,
   "id": "b2f56711",
   "metadata": {
    "scrolled": true
   },
   "outputs": [
    {
     "name": "stdout",
     "output_type": "stream",
     "text": [
      "12.668971915279856 -1.6448536269514722\n"
     ]
    },
    {
     "data": {
      "text/plain": [
       "True"
      ]
     },
     "execution_count": 6,
     "metadata": {},
     "output_type": "execute_result"
    }
   ],
   "source": [
    "n = cars_df.shape[0]\n",
    "p_hat = cars_df['Accidents or damage'].mean()\n",
    "\n",
    "z_obs = (p_hat - 0.1) / (np.sqrt(p_hat * (1 - p_hat) / n))\n",
    "z_crit = -sts.norm.ppf(0.95)\n",
    "print(z_obs, z_crit)\n",
    "\n",
    "# Видим, что наблюдаемое значение больше критического\n",
    "z_obs > z_crit"
   ]
  },
  {
   "cell_type": "markdown",
   "id": "35af09da",
   "metadata": {},
   "source": [
    "__Вывод:__ Гипотеза о том, не менее 10% автомобилей, размещенных на cars.com, участвовали в ДТП, **не** отвергается на данном уровне значимости."
   ]
  },
  {
   "cell_type": "markdown",
   "id": "ee2f479b",
   "metadata": {},
   "source": [
    "---"
   ]
  },
  {
   "cell_type": "markdown",
   "id": "d0ff6e25",
   "metadata": {},
   "source": [
    "__2)__ Автомобили, поучаствовавшие в ДТП, в среднем стоят дешевле на 20% и более.\n",
    "\n",
    "Здесь рассмотрим две выборки, независимые по условию: $X$ - цена автомобилей, участвовавших в ДТП, $Y$ - не участвовавших.\n",
    "\n",
    "Тогда $H_{0}: \\mu_{x} = 0.8 \\mu_{Y}, \\space H_{1}: \\mu_{X} > 0.8 \\mu_{Y} \\Rightarrow$ рассмотрим случайную величину $\\bar{X} - 0.8 \\bar{Y} \\overset{asy}{\\sim} N(\\mu_{Y} - 0.8 \\mu_{Y}, \\frac {\\sigma_{X}^2} {n_{X}} + 0.64 \\frac {\\sigma_{Y}^2} {n_{Y}}) \\overset{H_{0}}{\\Rightarrow}$\n",
    "\n",
    "$\\overset{H_{0}}{\\Rightarrow} z_{obs} = \\frac {\\bar{X} - \\scriptstyle 0.8 \\bar{Y}} {\\sqrt{\\frac {\\hat{\\sigma}_{X}^2} {n_{X}} + \\scriptstyle 0.64 \\frac {\\hat{\\sigma}_{Y}^2} {n_{Y}}}} \\overset{asy}{\\sim} N(0, 1), \\space z_{crit} = z_{0.95}.$"
   ]
  },
  {
   "cell_type": "code",
   "execution_count": 7,
   "id": "641a3232",
   "metadata": {},
   "outputs": [],
   "source": [
    "X_cond = cars_df['Accidents or damage']\n",
    "X = cars_df[X_cond]['Price'].values\n",
    "\n",
    "Y = cars_df[~X_cond]['Price'].values"
   ]
  },
  {
   "cell_type": "code",
   "execution_count": 8,
   "id": "251192db",
   "metadata": {},
   "outputs": [],
   "source": [
    "n_X = X.shape[0]\n",
    "n_Y = Y.shape[0]\n",
    "\n",
    "X_mean = X.mean()\n",
    "Y_mean = Y.mean()\n",
    "\n",
    "X_var = X.var(ddof=1)\n",
    "Y_var = Y.var(ddof=1)"
   ]
  },
  {
   "cell_type": "code",
   "execution_count": 9,
   "id": "714cb932",
   "metadata": {},
   "outputs": [
    {
     "name": "stdout",
     "output_type": "stream",
     "text": [
      "-3.9784484748131557 1.6448536269514722\n"
     ]
    },
    {
     "data": {
      "text/plain": [
       "True"
      ]
     },
     "execution_count": 9,
     "metadata": {},
     "output_type": "execute_result"
    }
   ],
   "source": [
    "z_obs = (X_mean - 0.8 * Y_mean) / np.sqrt(X_var / n_X + 0.64 * Y_var / n_Y)\n",
    "z_crit = sts.norm.ppf(0.95)\n",
    "print(z_obs, z_crit)\n",
    "\n",
    "# Видим, что наблюдаемое значение меньше критического\n",
    "z_obs < z_crit"
   ]
  },
  {
   "cell_type": "markdown",
   "id": "df7e4ede",
   "metadata": {},
   "source": [
    "__Вывод:__ Гипотеза о том, что автомобили, поучаствовавшие в ДТП, в среднем стоят дешевле на 20% и более, **не** отвергается на данном уровне значимости. Получается, что вполне очевидное заключение о том, что ДТП снижает цену, подтверждается и статистически."
   ]
  },
  {
   "cell_type": "markdown",
   "id": "25854fbf",
   "metadata": {},
   "source": [
    "---"
   ]
  },
  {
   "cell_type": "markdown",
   "id": "251917f3",
   "metadata": {},
   "source": [
    "__3)__ Американские и европейские автомобили в среднем стоят одинаково.\n",
    "\n",
    "Аналогично рассмотрим две незавизимые выборки: $X$ - цена американских автомобилей, $Y$ - цена европейских автомибилей.\n",
    "\n",
    "Тогда $H_{0}: \\mu_{X} = \\mu_{Y}, \\space H_{1}: \\mu_{X} \\neq \\mu_{Y} \\overset{H_{0}}{\\Rightarrow} z_{obs} = \\frac {\\bar{X} - \\bar{Y}} {\\sqrt{\\frac {\\hat{\\sigma}_{X}^2} {n_{X}} + \\frac {\\hat{\\sigma}_{Y}^2} {n_{Y}}}} \\overset{asy}{\\sim} N(0, 1), \\space z_{crit} = z_{0.975}.$"
   ]
  },
  {
   "cell_type": "code",
   "execution_count": 10,
   "id": "5c5689c8",
   "metadata": {
    "scrolled": true
   },
   "outputs": [],
   "source": [
    "X_cond = np.vectorize(lambda x: x in american_cars)(cars_df['Brand'])\n",
    "X = cars_df[X_cond]['Price'].values\n",
    "\n",
    "Y_cond = np.vectorize(lambda x: x in european_cars)(cars_df['Brand'])\n",
    "Y = cars_df[Y_cond]['Price'].values"
   ]
  },
  {
   "cell_type": "code",
   "execution_count": 11,
   "id": "16ec5664",
   "metadata": {},
   "outputs": [],
   "source": [
    "n_X = X.shape[0]\n",
    "n_Y = Y.shape[0]\n",
    "\n",
    "X_mean = X.mean()\n",
    "Y_mean = Y.mean()\n",
    "\n",
    "X_var = X.var(ddof=1)\n",
    "Y_var = Y.var(ddof=1)"
   ]
  },
  {
   "cell_type": "code",
   "execution_count": 12,
   "id": "76e15de3",
   "metadata": {
    "scrolled": true
   },
   "outputs": [
    {
     "name": "stdout",
     "output_type": "stream",
     "text": [
      "-3.0812372919188302 1.959963984540054\n"
     ]
    },
    {
     "data": {
      "text/plain": [
       "True"
      ]
     },
     "execution_count": 12,
     "metadata": {},
     "output_type": "execute_result"
    }
   ],
   "source": [
    "z_obs = (X_mean - Y_mean) / np.sqrt(X_var / n_X + Y_var / n_Y)\n",
    "z_crit = sts.norm.ppf(0.975)\n",
    "print(z_obs, z_crit)\n",
    "\n",
    "# Видим, что наблюдаемое значение по модулю превышает критическое.\n",
    "np.abs(z_obs) > z_crit"
   ]
  },
  {
   "cell_type": "markdown",
   "id": "0678fff8",
   "metadata": {},
   "source": [
    "__Вывод:__ Гипотеза о том, что американские и европейские автомобили в среднем стоят одинаково, отвергается на данном уровне значимости."
   ]
  },
  {
   "cell_type": "markdown",
   "id": "d38f0865",
   "metadata": {},
   "source": [
    "---"
   ]
  },
  {
   "cell_type": "markdown",
   "id": "d0f41530",
   "metadata": {},
   "source": [
    "__4)__ 90% и более автомобилей ездят на бензине.\n",
    "\n",
    "Пусть $p$ - вероятность того, что автомобиль ездит на бензине.\n",
    "\n",
    "Тогда $H_{0}: p = 0.9, \\space H_{1}: p < 0.9 \\overset{H_{0}}{\\Rightarrow} z_{obs} = \\frac {\\hat{p} - 0.9} {\\sqrt{\\frac {\\hat{p} (1 - \\hat{p})} {n}}} \\overset{asy}{\\sim} N(0, 1), \\space z_{crit} = -z_{0.95}$"
   ]
  },
  {
   "cell_type": "code",
   "execution_count": 13,
   "id": "aaf0a7a8",
   "metadata": {
    "scrolled": true
   },
   "outputs": [
    {
     "name": "stdout",
     "output_type": "stream",
     "text": [
      "-3.9342925480047013 -1.6448536269514722\n"
     ]
    },
    {
     "data": {
      "text/plain": [
       "True"
      ]
     },
     "execution_count": 13,
     "metadata": {},
     "output_type": "execute_result"
    }
   ],
   "source": [
    "n = cars_df.shape[0]\n",
    "p_hat = (cars_df['Fuel type'] == 'Gasoline').mean()\n",
    "\n",
    "z_obs = (p_hat - 0.9) / (np.sqrt(p_hat * (1 - p_hat) / n))\n",
    "z_crit = -sts.norm.ppf(0.95)\n",
    "print(z_obs, z_crit)\n",
    "\n",
    "# Видим, что наблюдаемое значение меньше критического\n",
    "z_obs < z_crit"
   ]
  },
  {
   "cell_type": "markdown",
   "id": "1ef8392f",
   "metadata": {},
   "source": [
    "__Вывод:__ Гипотеза о том, что 90% и более автомобилей ездят на бензине, отвергается на данном уровне значимости."
   ]
  },
  {
   "cell_type": "markdown",
   "id": "bf5bb9db",
   "metadata": {},
   "source": [
    "---"
   ]
  },
  {
   "cell_type": "markdown",
   "id": "16aef31f",
   "metadata": {},
   "source": [
    "__5)__ Большинство автомобилей имеет передний привод.\n",
    "\n",
    "Пусть $p$ - вероятность того, что автомобиль имеет передний привод.\n",
    "\n",
    "Тогда $H_{0}: p = 0.5, \\space H_{1}: p < 0.5 \\overset{H_{0}}{\\Rightarrow} z_{obs} = \\frac {\\hat{p} - 0.5} {\\sqrt{\\frac {\\hat{p} (1 - \\hat{p})} {n}}} \\overset{asy}{\\sim} N(0, 1), \\space z_{crit} = -z_{0.95}$"
   ]
  },
  {
   "cell_type": "code",
   "execution_count": 14,
   "id": "2b01a8ff",
   "metadata": {
    "scrolled": true
   },
   "outputs": [
    {
     "name": "stdout",
     "output_type": "stream",
     "text": [
      "-30.31869999086294 -1.6448536269514722\n"
     ]
    },
    {
     "data": {
      "text/plain": [
       "True"
      ]
     },
     "execution_count": 14,
     "metadata": {},
     "output_type": "execute_result"
    }
   ],
   "source": [
    "n = cars_df.shape[0]\n",
    "p_hat = (cars_df['Drivetrain'] == 'Front-wheel Drive').mean()\n",
    "\n",
    "z_obs = (p_hat - 0.5) / (np.sqrt(p_hat * (1 - p_hat) / n))\n",
    "z_crit = -sts.norm.ppf(0.95)\n",
    "print(z_obs, z_crit)\n",
    "\n",
    "# Видим, что наблюдаемое значение меньше критического\n",
    "z_obs < z_crit"
   ]
  },
  {
   "cell_type": "markdown",
   "id": "a0bb3931",
   "metadata": {},
   "source": [
    "__Вывод:__ Гипотеза о том, что большинство автомобилей имеет передний привод, отвергается на данном уровне значимости."
   ]
  },
  {
   "cell_type": "markdown",
   "id": "87e9d510",
   "metadata": {},
   "source": [
    "---"
   ]
  },
  {
   "cell_type": "markdown",
   "id": "06eb4baa",
   "metadata": {},
   "source": [
    "__6)__ Самые современные автомобили (новее 2020 года включительно) имеют сравнимый или больший средний объем двигателя, чем автомобили старее.\n",
    "\n",
    "Все также рассмотрим две независимые выборки: $X$ - объем двигателя автомобилей новее 2020 года включительно, $Y$ - объем двигателя автомобилей старее.\n",
    "\n",
    "Тогда $H_{0}: \\mu_{X} = \\mu_{Y}, \\space H_{1}: \\mu_{X} < \\mu_{Y} \\overset{H_{0}}{\\Rightarrow} z_{obs} = \\frac {\\bar{X} - \\bar{Y}} {\\sqrt{\\frac {\\hat{\\sigma}_{X}^2} {n_{X}} + \\frac {\\hat{\\sigma}_{Y}^2} {n_{Y}}}} \\overset{asy}{\\sim} N(0, 1), \\space z_{crit} = z_{0.95}.$"
   ]
  },
  {
   "cell_type": "code",
   "execution_count": 15,
   "id": "1a2a2c84",
   "metadata": {},
   "outputs": [],
   "source": [
    "X_cond = (cars_df['Year'] >= 2020)\n",
    "X = cars_df[X_cond]['Capacity'].values\n",
    "\n",
    "Y = cars_df[~X_cond]['Capacity'].values"
   ]
  },
  {
   "cell_type": "code",
   "execution_count": 16,
   "id": "655c6c0b",
   "metadata": {},
   "outputs": [],
   "source": [
    "n_X = X.shape[0]\n",
    "n_Y = Y.shape[0]\n",
    "\n",
    "X_mean = X.mean()\n",
    "Y_mean = Y.mean()\n",
    "\n",
    "X_var = X.var(ddof=1)\n",
    "Y_var = Y.var(ddof=1)"
   ]
  },
  {
   "cell_type": "code",
   "execution_count": 17,
   "id": "c0438bb1",
   "metadata": {},
   "outputs": [
    {
     "name": "stdout",
     "output_type": "stream",
     "text": [
      "-6.572510541601721 -1.6448536269514722\n"
     ]
    },
    {
     "data": {
      "text/plain": [
       "True"
      ]
     },
     "execution_count": 17,
     "metadata": {},
     "output_type": "execute_result"
    }
   ],
   "source": [
    "z_obs = (X_mean - Y_mean) / np.sqrt(X_var / n_X + Y_var / n_Y)\n",
    "z_crit = -sts.norm.ppf(0.95)\n",
    "print(z_obs, z_crit)\n",
    "\n",
    "# Видим, что наблюдаемое значение меньше критического\n",
    "z_obs < z_crit"
   ]
  },
  {
   "cell_type": "markdown",
   "id": "dc293c72",
   "metadata": {},
   "source": [
    "__Вывод:__ Гипотеза о том, что самые современные автомобили имеют сравнимый или больший средний объем двигателя, чем автомобили старее, отвергается на данном уровне значимости."
   ]
  },
  {
   "cell_type": "markdown",
   "id": "e2e8631e",
   "metadata": {},
   "source": [
    "---"
   ]
  },
  {
   "cell_type": "markdown",
   "id": "e3d2144e",
   "metadata": {},
   "source": [
    "__7)__ Американские автомобили в среднем расходуют на 10% больше топлива, чем европейские.\n",
    "\n",
    "Рассмотрим две выборки, независимые по условию: $X$ - расход топлива европейских автомобилей, $Y$ - расход топлива американских автомобилей.\n",
    "\n",
    "Тогда $H_{0}: \\mu_{x} = 0.9 \\mu_{Y}, \\space H_{1}: \\mu_{X} > 0.9 \\mu_{Y} \\Rightarrow$ рассмотрим случайную величину $\\bar{X} - 0.9 \\bar{Y} \\overset{asy}{\\sim} N(\\mu_{Y} - 0.9 \\mu_{Y}, \\frac {\\sigma_{X}^2} {n_{X}} + 0.81 \\frac {\\sigma_{Y}^2} {n_{Y}}) \\overset{H_{0}}{\\Rightarrow}$\n",
    "\n",
    "$\\overset{H_{0}}{\\Rightarrow} z_{obs} = \\frac {\\bar{X} - \\scriptstyle 0.9 \\bar{Y}} {\\sqrt{\\frac {\\hat{\\sigma}_{X}^2} {n_{X}} + \\scriptstyle 0.81 \\frac {\\hat{\\sigma}_{Y}^2} {n_{Y}}}} \\overset{asy}{\\sim} N(0, 1), \\space z_{crit} = z_{0.95}.$"
   ]
  },
  {
   "cell_type": "code",
   "execution_count": 18,
   "id": "8d798460",
   "metadata": {},
   "outputs": [],
   "source": [
    "X_cond = np.vectorize(lambda x: x in american_cars)(cars_df['Brand'])\n",
    "X = cars_df[X_cond]['MPG_mean'].values\n",
    "\n",
    "Y_cond = np.vectorize(lambda x: x in european_cars)(cars_df['Brand'])\n",
    "Y = cars_df[Y_cond]['MPG_mean'].values"
   ]
  },
  {
   "cell_type": "code",
   "execution_count": 19,
   "id": "4b2c1e68",
   "metadata": {},
   "outputs": [],
   "source": [
    "n_X = X.shape[0]\n",
    "n_Y = Y.shape[0]\n",
    "\n",
    "X_mean = X.mean()\n",
    "Y_mean = Y.mean()\n",
    "\n",
    "X_var = X.var(ddof=1)\n",
    "Y_var = Y.var(ddof=1)"
   ]
  },
  {
   "cell_type": "code",
   "execution_count": 20,
   "id": "df6fe33b",
   "metadata": {
    "scrolled": true
   },
   "outputs": [
    {
     "name": "stdout",
     "output_type": "stream",
     "text": [
      "4.735175066067651 1.6448536269514722\n"
     ]
    },
    {
     "data": {
      "text/plain": [
       "True"
      ]
     },
     "execution_count": 20,
     "metadata": {},
     "output_type": "execute_result"
    }
   ],
   "source": [
    "z_obs = (X_mean - 0.9 * Y_mean) / np.sqrt(X_var / n_X + 0.81 * Y_var / n_Y)\n",
    "z_crit = sts.norm.ppf(0.95)\n",
    "print(z_obs, z_crit)\n",
    "\n",
    "# Видим, что наблюдаемое значение больше критического\n",
    "z_obs > z_crit"
   ]
  },
  {
   "cell_type": "markdown",
   "id": "4765f004",
   "metadata": {},
   "source": [
    "__Вывод:__ Гипотеза о том, что американские автомобили в среднем расходуют на 10% больше топлива, чем европейские, отвергается на данном уровне значимости."
   ]
  }
 ],
 "metadata": {
  "kernelspec": {
   "display_name": "Python 3 (ipykernel)",
   "language": "python",
   "name": "python3"
  },
  "language_info": {
   "codemirror_mode": {
    "name": "ipython",
    "version": 3
   },
   "file_extension": ".py",
   "mimetype": "text/x-python",
   "name": "python",
   "nbconvert_exporter": "python",
   "pygments_lexer": "ipython3",
   "version": "3.9.13"
  }
 },
 "nbformat": 4,
 "nbformat_minor": 5
}
