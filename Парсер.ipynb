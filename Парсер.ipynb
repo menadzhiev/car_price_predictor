{
 "cells": [
  {
   "cell_type": "markdown",
   "id": "d6e08c52",
   "metadata": {},
   "source": [
    "### 1. Загрузим нужные библиотеки и напишем функции"
   ]
  },
  {
   "cell_type": "code",
   "execution_count": 25,
   "id": "05388bb0",
   "metadata": {},
   "outputs": [],
   "source": [
    "import requests\n",
    "import pandas as pd\n",
    "from bs4 import BeautifulSoup\n",
    "from time import sleep\n",
    "from tqdm.notebook import tqdm\n",
    "\n",
    "\n",
    "def get_soup(url: str):\n",
    "    \n",
    "    res = requests.get(url)\n",
    "    return BeautifulSoup(res.content, 'html.parser')\n",
    "\n",
    "\n",
    "def get_cars_hrefs(tree):\n",
    "    cars = tree.find_all('a', {'class': 'vehicle-card-link'})\n",
    "    return [\n",
    "        {'model': car.h2.text, 'href': car.get('href')} for car in cars\n",
    "    ]\n",
    "\n",
    "\n",
    "def columns_maker(table):\n",
    "    soup = BeautifulSoup(str(table), 'html.parser')\n",
    "\n",
    "    dt = soup.find_all('dt')\n",
    "    \n",
    "    columns = []\n",
    "    for i in range(len(dt)):\n",
    "        columns.append(dt[i].text)\n",
    "    \n",
    "    #columns.append('Price')\n",
    "\n",
    "    return columns\n",
    "\n",
    "\n",
    "def table_maker(table):\n",
    "    soup = BeautifulSoup(str(table), 'html.parser')\n",
    "\n",
    "    dd = soup.find_all('dd')\n",
    "\n",
    "    res = []\n",
    "    for i in range(len(dd)):\n",
    "        res.append(dd[i].text.strip())\n",
    "    \n",
    "    #new_line_ind = res[3].find('\\n')\n",
    "    #if new_line_ind != -1:\n",
    "    #    res[3] = res[3][:new_line_ind]\n",
    "    #\n",
    "    return res\n",
    "\n",
    "\n",
    "MAIN_URL = 'https://www.cars.com/'"
   ]
  },
  {
   "cell_type": "markdown",
   "id": "7a15c503",
   "metadata": {},
   "source": [
    "### 2. Соберем нужное количество данных"
   ]
  },
  {
   "cell_type": "code",
   "execution_count": 6,
   "id": "a17e20aa",
   "metadata": {
    "scrolled": true
   },
   "outputs": [
    {
     "data": {
      "application/vnd.jupyter.widget-view+json": {
       "model_id": "2615996262af4d35801907de70626543",
       "version_major": 2,
       "version_minor": 0
      },
      "text/plain": [
       "  0%|          | 0/51 [00:00<?, ?it/s]"
      ]
     },
     "metadata": {},
     "output_type": "display_data"
    }
   ],
   "source": [
    "data = []\n",
    "for p in tqdm(range(50, 101)):\n",
    "    url = MAIN_URL + f'shopping/results/?list_price_max=&makes[]=&maximum_distance=all&models[]=&page={p}&stock_type=used&zip='\n",
    "    tree = get_soup(url)\n",
    "    hlp = get_cars_hrefs(tree)\n",
    "    data.extend(hlp)\n",
    "    sleep(0.5)"
   ]
  },
  {
   "cell_type": "code",
   "execution_count": 7,
   "id": "8df896a5",
   "metadata": {},
   "outputs": [
    {
     "data": {
      "application/vnd.jupyter.widget-view+json": {
       "model_id": "2b75c9ea7fb441d098758349ff4ef8d8",
       "version_major": 2,
       "version_minor": 0
      },
      "text/plain": [
       "  0%|          | 0/50 [00:00<?, ?it/s]"
      ]
     },
     "metadata": {},
     "output_type": "display_data"
    }
   ],
   "source": [
    "for p in tqdm(range(101, 151)):\n",
    "    url = MAIN_URL + f'shopping/results/?list_price_max=&makes[]=&maximum_distance=all&models[]=&page={p}&stock_type=used&zip='\n",
    "    tree = get_soup(url)\n",
    "    hlp = get_cars_hrefs(tree)\n",
    "    data.extend(hlp)\n",
    "    sleep(0.5)"
   ]
  },
  {
   "cell_type": "code",
   "execution_count": 8,
   "id": "06695dc6",
   "metadata": {},
   "outputs": [
    {
     "data": {
      "application/vnd.jupyter.widget-view+json": {
       "model_id": "8e6629694ac94c7cb62d46909c345eea",
       "version_major": 2,
       "version_minor": 0
      },
      "text/plain": [
       "  0%|          | 0/50 [00:00<?, ?it/s]"
      ]
     },
     "metadata": {},
     "output_type": "display_data"
    }
   ],
   "source": [
    "for p in tqdm(range(151, 201)):\n",
    "    url = MAIN_URL + f'shopping/results/?list_price_max=&makes[]=&maximum_distance=all&models[]=&page={p}&stock_type=used&zip='\n",
    "    tree = get_soup(url)\n",
    "    hlp = get_cars_hrefs(tree)\n",
    "    data.extend(hlp)\n",
    "    sleep(0.5)"
   ]
  },
  {
   "cell_type": "code",
   "execution_count": 9,
   "id": "f8adf74f",
   "metadata": {},
   "outputs": [
    {
     "data": {
      "application/vnd.jupyter.widget-view+json": {
       "model_id": "817d916038ca4148acf7883abfafb5e8",
       "version_major": 2,
       "version_minor": 0
      },
      "text/plain": [
       "  0%|          | 0/50 [00:00<?, ?it/s]"
      ]
     },
     "metadata": {},
     "output_type": "display_data"
    }
   ],
   "source": [
    "for p in tqdm(range(201, 251)):\n",
    "    url = MAIN_URL + f'shopping/results/?list_price_max=&makes[]=&maximum_distance=all&models[]=&page={p}&stock_type=used&zip='\n",
    "    tree = get_soup(url)\n",
    "    hlp = get_cars_hrefs(tree)\n",
    "    data.extend(hlp)\n",
    "    sleep(0.5)"
   ]
  },
  {
   "cell_type": "code",
   "execution_count": 10,
   "id": "b9dcf7dc",
   "metadata": {
    "scrolled": false
   },
   "outputs": [
    {
     "data": {
      "text/html": [
       "<div>\n",
       "<style scoped>\n",
       "    .dataframe tbody tr th:only-of-type {\n",
       "        vertical-align: middle;\n",
       "    }\n",
       "\n",
       "    .dataframe tbody tr th {\n",
       "        vertical-align: top;\n",
       "    }\n",
       "\n",
       "    .dataframe thead th {\n",
       "        text-align: right;\n",
       "    }\n",
       "</style>\n",
       "<table border=\"1\" class=\"dataframe\">\n",
       "  <thead>\n",
       "    <tr style=\"text-align: right;\">\n",
       "      <th></th>\n",
       "      <th>model</th>\n",
       "      <th>href</th>\n",
       "    </tr>\n",
       "  </thead>\n",
       "  <tbody>\n",
       "    <tr>\n",
       "      <th>0</th>\n",
       "      <td>2021 Kia K5 GT-Line</td>\n",
       "      <td>/vehicledetail/76b6012f-7391-4dd2-abd9-58ab328...</td>\n",
       "    </tr>\n",
       "    <tr>\n",
       "      <th>1</th>\n",
       "      <td>2019 Lincoln MKT Reserve</td>\n",
       "      <td>/vehicledetail/0f6ae29c-cbdf-4388-a488-c90c37d...</td>\n",
       "    </tr>\n",
       "    <tr>\n",
       "      <th>2</th>\n",
       "      <td>2019 Mercedes-Benz GLS 450 Base 4MATIC</td>\n",
       "      <td>/vehicledetail/f48e124a-a217-4d4c-8ee7-5035540...</td>\n",
       "    </tr>\n",
       "    <tr>\n",
       "      <th>3</th>\n",
       "      <td>2016 Acura RLX Technology Package</td>\n",
       "      <td>/vehicledetail/d98e846e-832a-414d-9aae-286275f...</td>\n",
       "    </tr>\n",
       "    <tr>\n",
       "      <th>4</th>\n",
       "      <td>2022 Toyota Sequoia Limited</td>\n",
       "      <td>/vehicledetail/7111cdbb-af1c-4305-b99a-a9a185b...</td>\n",
       "    </tr>\n",
       "    <tr>\n",
       "      <th>...</th>\n",
       "      <td>...</td>\n",
       "      <td>...</td>\n",
       "    </tr>\n",
       "    <tr>\n",
       "      <th>4211</th>\n",
       "      <td>2019 Mercedes-Benz SLC 300 Base</td>\n",
       "      <td>/vehicledetail/3c4f3f41-f974-4124-b8a6-ba98797...</td>\n",
       "    </tr>\n",
       "    <tr>\n",
       "      <th>4212</th>\n",
       "      <td>2019 Honda Accord Sport</td>\n",
       "      <td>/vehicledetail/7cb65bae-b08d-4b29-8a51-2d8f514...</td>\n",
       "    </tr>\n",
       "    <tr>\n",
       "      <th>4213</th>\n",
       "      <td>2019 Nissan Armada Platinum</td>\n",
       "      <td>/vehicledetail/f2dd0af8-91f7-48ce-beb4-3c69e28...</td>\n",
       "    </tr>\n",
       "    <tr>\n",
       "      <th>4214</th>\n",
       "      <td>2015 RAM ProMaster City Tradesman</td>\n",
       "      <td>/vehicledetail/9c8007bd-de98-4289-8f3d-b65d0cf...</td>\n",
       "    </tr>\n",
       "    <tr>\n",
       "      <th>4215</th>\n",
       "      <td>2022 Jeep Grand Cherokee 4xe Summit</td>\n",
       "      <td>/vehicledetail/804a3a76-5e19-4018-8489-eacb1c3...</td>\n",
       "    </tr>\n",
       "  </tbody>\n",
       "</table>\n",
       "<p>4216 rows × 2 columns</p>\n",
       "</div>"
      ],
      "text/plain": [
       "                                       model  \\\n",
       "0                        2021 Kia K5 GT-Line   \n",
       "1                   2019 Lincoln MKT Reserve   \n",
       "2     2019 Mercedes-Benz GLS 450 Base 4MATIC   \n",
       "3          2016 Acura RLX Technology Package   \n",
       "4                2022 Toyota Sequoia Limited   \n",
       "...                                      ...   \n",
       "4211         2019 Mercedes-Benz SLC 300 Base   \n",
       "4212                 2019 Honda Accord Sport   \n",
       "4213             2019 Nissan Armada Platinum   \n",
       "4214       2015 RAM ProMaster City Tradesman   \n",
       "4215     2022 Jeep Grand Cherokee 4xe Summit   \n",
       "\n",
       "                                                   href  \n",
       "0     /vehicledetail/76b6012f-7391-4dd2-abd9-58ab328...  \n",
       "1     /vehicledetail/0f6ae29c-cbdf-4388-a488-c90c37d...  \n",
       "2     /vehicledetail/f48e124a-a217-4d4c-8ee7-5035540...  \n",
       "3     /vehicledetail/d98e846e-832a-414d-9aae-286275f...  \n",
       "4     /vehicledetail/7111cdbb-af1c-4305-b99a-a9a185b...  \n",
       "...                                                 ...  \n",
       "4211  /vehicledetail/3c4f3f41-f974-4124-b8a6-ba98797...  \n",
       "4212  /vehicledetail/7cb65bae-b08d-4b29-8a51-2d8f514...  \n",
       "4213  /vehicledetail/f2dd0af8-91f7-48ce-beb4-3c69e28...  \n",
       "4214  /vehicledetail/9c8007bd-de98-4289-8f3d-b65d0cf...  \n",
       "4215  /vehicledetail/804a3a76-5e19-4018-8489-eacb1c3...  \n",
       "\n",
       "[4216 rows x 2 columns]"
      ]
     },
     "execution_count": 10,
     "metadata": {},
     "output_type": "execute_result"
    }
   ],
   "source": [
    "cars = pd.DataFrame(data)\n",
    "cars"
   ]
  },
  {
   "cell_type": "markdown",
   "id": "16a6d212",
   "metadata": {},
   "source": [
    "---"
   ]
  },
  {
   "cell_type": "code",
   "execution_count": 90,
   "id": "349ed4c8",
   "metadata": {},
   "outputs": [],
   "source": [
    "url = MAIN_URL + cars['href'][0]\n",
    "tree = get_soup(url)\n",
    "\n",
    "basics = tree.find('dl', {'class': 'fancy-description-list'})\n",
    "history = tree.find('section', {'class': 'sds-page-section vehicle-history-section'})"
   ]
  },
  {
   "cell_type": "code",
   "execution_count": 91,
   "id": "f8e01ec8",
   "metadata": {
    "scrolled": false
   },
   "outputs": [
    {
     "data": {
      "text/plain": [
       "['Exterior color',\n",
       " 'Interior color',\n",
       " 'Drivetrain',\n",
       " 'MPG',\n",
       " 'Fuel type',\n",
       " 'Transmission',\n",
       " 'Engine',\n",
       " 'VIN',\n",
       " 'Stock #',\n",
       " 'Mileage',\n",
       " 'Accidents or damage',\n",
       " '1-owner vehicle',\n",
       " 'Personal use only',\n",
       " 'Price']"
      ]
     },
     "execution_count": 91,
     "metadata": {},
     "output_type": "execute_result"
    }
   ],
   "source": [
    "final_columns = columns_maker(basics)\n",
    "final_columns.extend(columns_maker(history)[:-1])\n",
    "final_columns.append('Price')\n",
    "final_columns"
   ]
  },
  {
   "cell_type": "code",
   "execution_count": 100,
   "id": "c5595f93",
   "metadata": {
    "scrolled": true
   },
   "outputs": [],
   "source": [
    "cars_df = pd.DataFrame(columns=final_columns)"
   ]
  },
  {
   "cell_type": "code",
   "execution_count": 110,
   "id": "69a44e7c",
   "metadata": {
    "scrolled": true
   },
   "outputs": [
    {
     "data": {
      "application/vnd.jupyter.widget-view+json": {
       "model_id": "1ae1fd9062cf447386bee10ae2e188f2",
       "version_major": 2,
       "version_minor": 0
      },
      "text/plain": [
       "  0%|          | 0/608 [00:00<?, ?it/s]"
      ]
     },
     "metadata": {},
     "output_type": "display_data"
    }
   ],
   "source": [
    "curr_cars = cars.iloc[393:1001, :]\n",
    "for href in tqdm(curr_cars['href']):\n",
    "    url = MAIN_URL + href\n",
    "    tree = get_soup(url)\n",
    "    \n",
    "    basics = tree.find('dl', {'class': 'fancy-description-list'})\n",
    "    history = tree.find('section', {'class': 'sds-page-section vehicle-history-section'})\n",
    "    \n",
    "    if basics != None and history != None:    \n",
    "        price = tree.find('span', {'class': 'primary-price'}).text\n",
    "        res = table_maker(basics)\n",
    "        res.extend(table_maker(history.dl))\n",
    "        \n",
    "        \n",
    "        if len(res) == 14:\n",
    "            res = res[:-1]\n",
    "        \n",
    "        if len(res) == 13:\n",
    "            res.append(price)\n",
    "            cars_df.loc[href] = res\n",
    "    \n",
    "    sleep(0.5)"
   ]
  },
  {
   "cell_type": "code",
   "execution_count": 113,
   "id": "b5e0a3f5",
   "metadata": {
    "scrolled": true
   },
   "outputs": [
    {
     "data": {
      "application/vnd.jupyter.widget-view+json": {
       "model_id": "5a966d68de714e3eba83991f1a6813ba",
       "version_major": 2,
       "version_minor": 0
      },
      "text/plain": [
       "  0%|          | 0/1000 [00:00<?, ?it/s]"
      ]
     },
     "metadata": {},
     "output_type": "display_data"
    }
   ],
   "source": [
    "curr_cars = cars.iloc[1001:2001, :]\n",
    "for href in tqdm(curr_cars['href']):\n",
    "    url = MAIN_URL + href\n",
    "    tree = get_soup(url)\n",
    "    \n",
    "    basics = tree.find('dl', {'class': 'fancy-description-list'})\n",
    "    history = tree.find('section', {'class': 'sds-page-section vehicle-history-section'})\n",
    "    \n",
    "    if basics != None and history != None:    \n",
    "        price = tree.find('span', {'class': 'primary-price'}).text\n",
    "        res = table_maker(basics)\n",
    "        res.extend(table_maker(history.dl))\n",
    "        \n",
    "        \n",
    "        if len(res) == 14:\n",
    "            res = res[:-1]\n",
    "        \n",
    "        if len(res) == 13:\n",
    "            res.append(price)\n",
    "            cars_df.loc[href] = res\n",
    "    \n",
    "    sleep(0.5)"
   ]
  },
  {
   "cell_type": "code",
   "execution_count": 115,
   "id": "f628a077",
   "metadata": {},
   "outputs": [
    {
     "data": {
      "application/vnd.jupyter.widget-view+json": {
       "model_id": "290f92511c3344cf80699842fc1046e9",
       "version_major": 2,
       "version_minor": 0
      },
      "text/plain": [
       "  0%|          | 0/1000 [00:00<?, ?it/s]"
      ]
     },
     "metadata": {},
     "output_type": "display_data"
    }
   ],
   "source": [
    "curr_cars = cars.iloc[2001:3001, :]\n",
    "for href in tqdm(curr_cars['href']):\n",
    "    url = MAIN_URL + href\n",
    "    tree = get_soup(url)\n",
    "    \n",
    "    basics = tree.find('dl', {'class': 'fancy-description-list'})\n",
    "    history = tree.find('section', {'class': 'sds-page-section vehicle-history-section'})\n",
    "    \n",
    "    if basics != None and history != None:    \n",
    "        price = tree.find('span', {'class': 'primary-price'}).text\n",
    "        res = table_maker(basics)\n",
    "        res.extend(table_maker(history.dl))\n",
    "        \n",
    "        \n",
    "        if len(res) == 14:\n",
    "            res = res[:-1]\n",
    "        \n",
    "        if len(res) == 13:\n",
    "            res.append(price)\n",
    "            cars_df.loc[href] = res\n",
    "    \n",
    "    sleep(0.5)"
   ]
  },
  {
   "cell_type": "code",
   "execution_count": 118,
   "id": "3832e7c1",
   "metadata": {
    "scrolled": false
   },
   "outputs": [
    {
     "data": {
      "application/vnd.jupyter.widget-view+json": {
       "model_id": "a139789f38334970b72474483d0df524",
       "version_major": 2,
       "version_minor": 0
      },
      "text/plain": [
       "  0%|          | 0/1174 [00:00<?, ?it/s]"
      ]
     },
     "metadata": {},
     "output_type": "display_data"
    }
   ],
   "source": [
    "curr_cars = cars.iloc[3042:, :]\n",
    "for href in tqdm(curr_cars['href']):\n",
    "    url = MAIN_URL + href\n",
    "    tree = get_soup(url)\n",
    "    \n",
    "    basics = tree.find('dl', {'class': 'fancy-description-list'})\n",
    "    history = tree.find('section', {'class': 'sds-page-section vehicle-history-section'})\n",
    "    \n",
    "    if basics != None and history != None:    \n",
    "        price = tree.find('span', {'class': 'primary-price'}).text\n",
    "        res = table_maker(basics)\n",
    "        res.extend(table_maker(history.dl))\n",
    "        \n",
    "        \n",
    "        if len(res) == 14:\n",
    "            res = res[:-1]\n",
    "        \n",
    "        if len(res) == 13:\n",
    "            res.append(price)\n",
    "            cars_df.loc[href] = res\n",
    "    \n",
    "    sleep(0.5)"
   ]
  },
  {
   "cell_type": "code",
   "execution_count": 128,
   "id": "6eb25e68",
   "metadata": {},
   "outputs": [],
   "source": [
    "cars_df.drop_duplicates(inplace=True)"
   ]
  },
  {
   "cell_type": "markdown",
   "id": "65c20e42",
   "metadata": {},
   "source": [
    "### 3. Сохраним таблицу в файл"
   ]
  },
  {
   "cell_type": "code",
   "execution_count": 141,
   "id": "5351245a",
   "metadata": {},
   "outputs": [],
   "source": [
    "cars_df.to_csv('cars_df.csv', index=False)"
   ]
  }
 ],
 "metadata": {
  "kernelspec": {
   "display_name": "Python 3 (ipykernel)",
   "language": "python",
   "name": "python3"
  },
  "language_info": {
   "codemirror_mode": {
    "name": "ipython",
    "version": 3
   },
   "file_extension": ".py",
   "mimetype": "text/x-python",
   "name": "python",
   "nbconvert_exporter": "python",
   "pygments_lexer": "ipython3",
   "version": "3.9.13"
  }
 },
 "nbformat": 4,
 "nbformat_minor": 5
}
